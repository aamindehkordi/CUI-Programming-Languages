{
 "cells": [
  {
   "cell_type": "markdown",
   "metadata": {},
   "source": [
    "# Playfair Project\n",
    "## by Ali Amin Dehkordi\n"
   ]
  },
  {
   "cell_type": "markdown",
   "metadata": {},
   "source": [
    "#### The encryption algorithm originally seemed quite complex to be but as I had it explained to me in words it made a lot more sense. Below you can see some progression for the project. In chronological order, i started at the top and ended at the bottom, however not all prototype instances are available as I also used this sheet to debug and I did not save incremental progress for most of the functions"
   ]
  },
  {
   "cell_type": "markdown",
   "metadata": {},
   "source": [
    "### This is early development/ design of the project"
   ]
  },
  {
   "cell_type": "code",
   "execution_count": 27,
   "metadata": {},
   "outputs": [],
   "source": [
    "def remove_duplicates(plaintext):\n",
    "        plaintext = plaintext.lower()\n",
    "        text_alpha = \"\"\n",
    "        for i in range(len(plaintext)):\n",
    "            if plaintext[i].isalpha():\n",
    "                text_alpha += plaintext[i]\n",
    "        final = \"\"\n",
    "        for i in range(len(text_alpha)):\n",
    "            if final.find(text_alpha[i]) == -1:\n",
    "                final += text_alpha[i]\n",
    "        return final"
   ]
  },
  {
   "cell_type": "code",
   "execution_count": 28,
   "metadata": {},
   "outputs": [],
   "source": [
    "def create_playfair_grid(key):\n",
    "    while key.find('j') != -1:\n",
    "        key.replace('j','i')\n",
    "    key = remove_duplicates(key)\n",
    "    alphabet = 'abcdefghiklmnopqrstuvwxyz'\n",
    "    for i in range(len(alphabet)):\n",
    "        if key.find(alphabet[i]) == -1:\n",
    "            key += alphabet[i]            \n",
    "    final = [key[:5],key[5:10],key[10:15],key[15:20],key[20:]]\n",
    "    return final"
   ]
  },
  {
   "cell_type": "code",
   "execution_count": 29,
   "metadata": {},
   "outputs": [],
   "source": [
    "def everybody_pair_up(plaintext):\n",
    "    plaintext = plaintext.lower()\n",
    "    textAlpha = ''\n",
    "    for i in range(len(plaintext)):\n",
    "        if plaintext[i].isalpha():\n",
    "            textAlpha += plaintext[i]\n",
    "    temp = ''\n",
    "    i = 0\n",
    "    while i < len(textAlpha):\n",
    "        ch1 = textAlpha[i]\n",
    "        ch2 = textAlpha[i+1] if i+1 < len(textAlpha) else 'x'\n",
    "\n",
    "        if ch1 == ch2:\n",
    "            ch2 = 'x'\n",
    "            i+=1\n",
    "        else:\n",
    "            i+=2\n",
    "        temp += ch1+ch2+' '\n",
    "\n",
    "    return temp"
   ]
  },
  {
   "cell_type": "markdown",
   "metadata": {},
   "source": [
    "### Serious debugging starting / testing prototypes"
   ]
  },
  {
   "cell_type": "code",
   "execution_count": 30,
   "metadata": {},
   "outputs": [],
   "source": [
    "def playfair_encrypt(key, plaintext):\n",
    "    digrams = everybody_pair_up(plaintext)\n",
    "    keyTable = create_playfair_grid(key)\n",
    "    key = remove_duplicates(key)\n",
    "    alphabet = 'abcdefghiklmnopqrstuvwxyz'\n",
    "    for i in range(len(alphabet)):\n",
    "        if key.find(alphabet[i]) == -1:\n",
    "            key += alphabet[i]\n",
    "\n",
    "    saltytext = ''\n",
    "    i = 0\n",
    "    while i < len(digrams):\n",
    "        target1 = digrams[i]\n",
    "        target2 = digrams[i+1]\n",
    "        keyIdx1 = key.find(target1)\n",
    "        keyIdx2 = key.find(target2)\n",
    "\n",
    "        row1 = keyIdx1//5\n",
    "        col1 = keyIdx1%5\n",
    "        row2 = keyIdx2//5\n",
    "        col2 = keyIdx2%5\n",
    "        row3 = row1+1\n",
    "        row4 = row2+1\n",
    "        col3 = col1+1\n",
    "        col4 = col2+1\n",
    "        if col3 > 4:\n",
    "            col3 = 0\n",
    "        if row3 > 4:\n",
    "            row3 = 0\n",
    "        if col4 > 4:\n",
    "            col4 = 0\n",
    "        if row4 > 4:\n",
    "            row4 = 0\n",
    "        if(row1 == row2):\n",
    "            saltytext += keyTable[row2][col2] + keyTable[row1][col4]\n",
    "        elif(col1 == col2):\n",
    "            saltytext += keyTable[row3][col2] + keyTable[row4][col1]\n",
    "        else:\n",
    "            saltytext += keyTable[row1][col2] + keyTable[row2][col1]\n",
    "        i+=3\n",
    "    return saltytext"
   ]
  },
  {
   "cell_type": "code",
   "execution_count": 31,
   "metadata": {},
   "outputs": [
    {
     "name": "stdout",
     "output_type": "stream",
     "text": [
      "zbxalexmxmuimiraxydeopzknweoenkc\n"
     ]
    }
   ],
   "source": [
    "print(playfair_encrypt(\"Playfair Example\",\"They are extremely weak at squadron B\"))"
   ]
  },
  {
   "cell_type": "code",
   "execution_count": 32,
   "metadata": {},
   "outputs": [
    {
     "name": "stdout",
     "output_type": "stream",
     "text": [
      "playfirexmbcdghknoqstuvwz\n",
      "th ey ar ex ex tr em el yw ea ka ts qu ad ro nb \n",
      "['playf', 'irexm', 'bcdgh', 'knoqs', 'tuvwz']\n"
     ]
    }
   ],
   "source": [
    "plaintext = \"They are extremely weak at squadron B\"\n",
    "key = \"Playfair Example\"\n",
    "digram = everybody_pair_up(plaintext)\n",
    "keyTable = create_playfair_grid(key)\n",
    "key = remove_duplicates(key)\n",
    "alphabet = 'abcdefghiklmnopqrstuvwxyz'\n",
    "for i in range(len(alphabet)):\n",
    "    if key.find(alphabet[i]) == -1:\n",
    "        key += alphabet[i]\n",
    "\n",
    "print(key)\n",
    "print(digram)\n",
    "print(keyTable)"
   ]
  },
  {
   "cell_type": "code",
   "execution_count": 33,
   "metadata": {},
   "outputs": [
    {
     "name": "stdout",
     "output_type": "stream",
     "text": [
      "targets: e y\n",
      "keyIdx's: 7 3\n",
      "( 1 , 2 ): e\n",
      "( 0 , 3 ): y\n",
      "row2+1: 2\n",
      "col2+1: 4\n",
      "xa\n"
     ]
    }
   ],
   "source": [
    "i = 3\n",
    "saltytext = ''\n",
    "target1 = digram[i]\n",
    "target2 = digram[i+1]\n",
    "print(\"targets:\",target1,target2)\n",
    "keyIdx1 = key.find(target1)\n",
    "keyIdx2 = key.find(target2)\n",
    "print(\"keyIdx's:\",keyIdx1, keyIdx2)\n",
    "row1 = keyIdx1//5\n",
    "col1 = keyIdx1%5\n",
    "print('(',row1,',',col1,'):',keyTable[row1][col1])\n",
    "row2 = keyIdx2//5\n",
    "col2 = keyIdx2%5\n",
    "print('(',row2,',',col2,'):',keyTable[row2][col2])\n",
    "row3 = row1+1\n",
    "col3 = col2+1\n",
    "if col3 > 4:\n",
    "    col3 = 0\n",
    "if row3 > 4:\n",
    "    row3 = 0\n",
    "print('row2+1:',row3)\n",
    "print('col2+1:',col3)\n",
    "if(row1 == row2):\n",
    "    saltytext += keyTable[row2][col2] + keyTable[row1][col3]\n",
    "elif(col1 == col2):\n",
    "    saltytext += keyTable[row3][col2] + keyTable[row1][col1]\n",
    "else:\n",
    "    saltytext += keyTable[row1][col2] + keyTable[row2][col1]\n",
    "    \n",
    "print(saltytext)"
   ]
  },
  {
   "cell_type": "markdown",
   "metadata": {},
   "source": [
    "### now comes the decryption"
   ]
  },
  {
   "cell_type": "code",
   "execution_count": 34,
   "metadata": {},
   "outputs": [],
   "source": [
    "def decode_playfair_digrams_doesnt_work(eText):\n",
    "    dText = \"\"\n",
    "    i = 0\n",
    "    i = eText.find('x',i)\n",
    "    while(i > -1):\n",
    "        if eText[i-1] == eText[i+1]:\n",
    "            dText = eText[:i-1] + eText[i:]        \n",
    "        else:\n",
    "            i = dText.find('x',i)\n",
    "    return dText"
   ]
  },
  {
   "cell_type": "code",
   "execution_count": 35,
   "metadata": {},
   "outputs": [],
   "source": [
    "def decode_playfair_digrams(eText):#removes the x from the decrypted message\n",
    "    dText = eText[0]  # first (to avoid indexing errors with i-1) \n",
    "    for i in range(1, len(eText)-1):\n",
    "        if eText[i] == 'x' and eText[i-1] == eText[i+1]:\n",
    "            pass\n",
    "        else:\n",
    "            dText += eText[i]\n",
    "    dText += eText[-1] # last (to avoid indexing errors with i+1)\n",
    "    return dText"
   ]
  },
  {
   "cell_type": "code",
   "execution_count": 36,
   "metadata": {},
   "outputs": [],
   "source": [
    "def playfair_decrypt(key, saltytext):\n",
    "    digrams = everybody_pair_up(saltytext)\n",
    "    keyTable = create_playfair_grid(key)\n",
    "    key = remove_duplicates(key)\n",
    "    alphabet = 'abcdefghiklmnopqrstuvwxyz'\n",
    "    for i in range(len(alphabet)):\n",
    "        if key.find(alphabet[i]) == -1:\n",
    "            key += alphabet[i]\n",
    "\n",
    "    plaintext = ''\n",
    "    i = 0\n",
    "    while i < len(digrams):\n",
    "        target1 = digrams[i]\n",
    "        target2 = digrams[i+1]\n",
    "        keyIdx1 = key.find(target1)\n",
    "        keyIdx2 = key.find(target2)\n",
    "\n",
    "        row1 = keyIdx1//5\n",
    "        col1 = keyIdx1%5\n",
    "        row2 = keyIdx2//5\n",
    "        col2 = keyIdx2%5\n",
    "        row3 = row1-1\n",
    "        row4 = row2-1\n",
    "        col3 = col1-1\n",
    "        col4 = col2-1\n",
    "\n",
    "        if col4 < 0:\n",
    "            col4 = 4\n",
    "        if row3 < 0:\n",
    "            row3 = 4\n",
    "        if col4 < 0:\n",
    "            col4 = 4\n",
    "        if row4 < 0:\n",
    "            row4 = 4\n",
    "        if(row1 == row2):\n",
    "            plaintext += keyTable[row2][col3] + keyTable[row1][col4]\n",
    "        elif(col1 == col2):\n",
    "            plaintext += keyTable[row3][col2] + keyTable[row4][col1]\n",
    "        else:\n",
    "            plaintext += keyTable[row1][col2] + keyTable[row2][col1]\n",
    "        i+=3\n",
    "    plaintext = decode_playfair_digrams(plaintext)\n",
    "    return plaintext"
   ]
  },
  {
   "cell_type": "code",
   "execution_count": 37,
   "metadata": {
    "scrolled": true
   },
   "outputs": [
    {
     "name": "stdout",
     "output_type": "stream",
     "text": [
      "theyareextrxmelyweakatsquadronb\n"
     ]
    }
   ],
   "source": [
    "print(playfair_decrypt(\"playfair example\",\"zbxalexmxmuimiraxydeopzknweoenkc\"))"
   ]
  },
  {
   "cell_type": "markdown",
   "metadata": {},
   "source": [
    "### it's not perfect tho"
   ]
  },
  {
   "cell_type": "code",
   "execution_count": 38,
   "metadata": {},
   "outputs": [
    {
     "name": "stdout",
     "output_type": "stream",
     "text": [
      "bgdopwqrgkfhbrexftanrl\n",
      "themoonlandingwasrake\n"
     ]
    }
   ],
   "source": [
    "key = \"Frank Sinatra\"\n",
    "message = \"The moon landing was fake\"\n",
    "encrypted = playfair_encrypt(key, message)\n",
    "decrypted = playfair_decrypt(key, encrypted)\n",
    "\n",
    "print(encrypted)\n",
    "print(decrypted)"
   ]
  },
  {
   "cell_type": "markdown",
   "metadata": {},
   "source": [
    "## Final Working Project"
   ]
  },
  {
   "cell_type": "markdown",
   "metadata": {},
   "source": [
    "### Remove Duplicates Function"
   ]
  },
  {
   "cell_type": "code",
   "execution_count": 39,
   "metadata": {},
   "outputs": [],
   "source": [
    "def remove_duplicates(plaintext): #Converts the plain text to all lower case alphabet letters only and removes duplicate characters\n",
    "        plaintext = plaintext.lower()\n",
    "        text_alpha = \"\"\n",
    "        for i in range(len(plaintext)):#alphbet letters\n",
    "            if plaintext[i].isalpha():\n",
    "                text_alpha += plaintext[i]\n",
    "        final = \"\"\n",
    "        for i in range(len(text_alpha)):#removes duplicate characters\n",
    "            if final.find(text_alpha[i]) == -1:\n",
    "                final += text_alpha[i]\n",
    "        return final"
   ]
  },
  {
   "cell_type": "markdown",
   "metadata": {},
   "source": [
    "### Create Key Grid Function"
   ]
  },
  {
   "cell_type": "code",
   "execution_count": 40,
   "metadata": {},
   "outputs": [],
   "source": [
    "def create_playfair_grid(key):#Creates a 5x5 key grid by removing duplicates of the key compared to the alphabet - 'j' to insure a max of 5x5\n",
    "    while key.find('j') != -1:\n",
    "        key.replace('j','i')\n",
    "    key = remove_duplicates(key)#Format the key\n",
    "    alphabet = 'abcdefghiklmnopqrstuvwxyz'\n",
    "    for i in range(len(alphabet)):\n",
    "        if key.find(alphabet[i]) == -1:\n",
    "            key += alphabet[i]            \n",
    "    final = [key[:5],key[5:10],key[10:15],key[15:20],key[20:]]#Grid Creation\n",
    "    return final"
   ]
  },
  {
   "cell_type": "markdown",
   "metadata": {},
   "source": [
    "### Groups of 2 Function"
   ]
  },
  {
   "cell_type": "code",
   "execution_count": 41,
   "metadata": {},
   "outputs": [],
   "source": [
    "def everybody_pair_up(plaintext):#Turns the message into lowercase, separates them into groups of two, and inserts an x inbetween two of the same concurrent characters or at the very end to ensure an even length\n",
    "    plaintext = plaintext.lower()\n",
    "    textAlpha = ''\n",
    "    for i in range(len(plaintext)):#formats text\n",
    "        if plaintext[i].isalpha():\n",
    "            textAlpha += plaintext[i]\n",
    "    temp = '' #Output\n",
    "    i = 0\n",
    "    while i < len(textAlpha):#adds the x \n",
    "        ch1 = textAlpha[i]\n",
    "        ch2 = textAlpha[i+1] if i+1 < len(textAlpha) else 'x'\n",
    "\n",
    "        if ch1 == ch2:\n",
    "            ch2 = 'x'\n",
    "            i+=1\n",
    "        else:\n",
    "            i+=2\n",
    "        temp += ch1+ch2+' ' #groups of two\n",
    "\n",
    "    return temp"
   ]
  },
  {
   "cell_type": "markdown",
   "metadata": {},
   "source": [
    "### Remove Null Characters Function"
   ]
  },
  {
   "cell_type": "code",
   "execution_count": 42,
   "metadata": {},
   "outputs": [],
   "source": [
    "def decode_playfair_digrams(eText):#removes the x from the decrypted message\n",
    "    dText = eText[0]  # first (to avoid indexing errors with i-1) \n",
    "    for i in range(1, len(eText)-1):\n",
    "        if eText[i] == 'x' and eText[i-1] == eText[i+1]:\n",
    "            pass\n",
    "        else:\n",
    "            dText += eText[i]\n",
    "    dText += eText[-1] # last (to avoid indexing errors with i+1)\n",
    "    return dText"
   ]
  },
  {
   "cell_type": "markdown",
   "metadata": {},
   "source": [
    "### Encryption Function"
   ]
  },
  {
   "cell_type": "code",
   "execution_count": 43,
   "metadata": {},
   "outputs": [],
   "source": [
    "def playfair_encrypt(key, plaintext):#Encrypts the message using the playfair method\n",
    "    digrams = everybody_pair_up(plaintext)\n",
    "    keyTable = create_playfair_grid(key)\n",
    "    key = remove_duplicates(key)\n",
    "    alphabet = 'abcdefghiklmnopqrstuvwxyz'\n",
    "    for i in range(len(alphabet)):\n",
    "        if key.find(alphabet[i]) == -1:\n",
    "            key += alphabet[i]#key grid but in a string rather than an array\n",
    "\n",
    "    saltytext = ''\n",
    "    i = 0\n",
    "    while i < len(digrams):#run through the groups of two, two at a time and encrypts\n",
    "        target1 = digrams[i]\n",
    "        target2 = digrams[i+1]\n",
    "        keyIdx1 = key.find(target1)\n",
    "        keyIdx2 = key.find(target2)\n",
    "\n",
    "        row1 = keyIdx1//5\n",
    "        col1 = keyIdx1%5\n",
    "        row2 = keyIdx2//5\n",
    "        col2 = keyIdx2%5\n",
    "        row3 = row1+1\n",
    "        row4 = row2+1\n",
    "        col3 = col1+1\n",
    "        col4 = col2+1\n",
    "        if col3 > 4:\n",
    "            col3 = 0\n",
    "        if row3 > 4:\n",
    "            row3 = 0\n",
    "        if col4 > 4:\n",
    "            col4 = 0\n",
    "        if row4 > 4:\n",
    "            row4 = 0\n",
    "        if(row1 == row2):# if they are in the same row\n",
    "            saltytext += keyTable[row2][col2] + keyTable[row1][col4]\n",
    "        elif(col1 == col2):#if they are in the same column\n",
    "            saltytext += keyTable[row3][col2] + keyTable[row4][col1]\n",
    "        else:\n",
    "            saltytext += keyTable[row1][col2] + keyTable[row2][col1]\n",
    "        i+=3\n",
    "    return saltytext"
   ]
  },
  {
   "cell_type": "markdown",
   "metadata": {},
   "source": [
    "### Decryption Function"
   ]
  },
  {
   "cell_type": "code",
   "execution_count": 44,
   "metadata": {},
   "outputs": [],
   "source": [
    "def playfair_decrypt(key, saltytext):#decrypt encrypted message using playfair method\n",
    "    digrams = everybody_pair_up(saltytext)\n",
    "    keyTable = create_playfair_grid(key)\n",
    "    key = remove_duplicates(key)\n",
    "    alphabet = 'abcdefghiklmnopqrstuvwxyz'\n",
    "    for i in range(len(alphabet)):\n",
    "        if key.find(alphabet[i]) == -1:\n",
    "            key += alphabet[i]\n",
    "\n",
    "    plaintext = ''\n",
    "    i = 0\n",
    "    while i < len(digrams):\n",
    "        target1 = digrams[i]\n",
    "        target2 = digrams[i+1]\n",
    "        keyIdx1 = key.find(target1)\n",
    "        keyIdx2 = key.find(target2)\n",
    "\n",
    "        row1 = keyIdx1//5\n",
    "        col1 = keyIdx1%5\n",
    "        row2 = keyIdx2//5\n",
    "        col2 = keyIdx2%5\n",
    "        row3 = row1-1\n",
    "        row4 = row2-1\n",
    "        col3 = col1-1\n",
    "        col4 = col2-1\n",
    "\n",
    "        if col4 < 0:\n",
    "            col4 = 4\n",
    "        if row3 < 0:\n",
    "            row3 = 4\n",
    "        if col4 < 0:\n",
    "            col4 = 4\n",
    "        if row4 < 0:\n",
    "            row4 = 4\n",
    "        if(row1 == row2):\n",
    "            plaintext += keyTable[row2][col3] + keyTable[row1][col4]\n",
    "        elif(col1 == col2):\n",
    "            plaintext += keyTable[row3][col2] + keyTable[row4][col1]\n",
    "        else:\n",
    "            plaintext += keyTable[row1][col2] + keyTable[row2][col1]\n",
    "        i+=3\n",
    "    plaintext = decode_playfair_digrams(plaintext)\n",
    "    return plaintext"
   ]
  },
  {
   "cell_type": "markdown",
   "metadata": {},
   "source": [
    "### Final Product"
   ]
  },
  {
   "cell_type": "code",
   "execution_count": 45,
   "metadata": {},
   "outputs": [
    {
     "name": "stdout",
     "output_type": "stream",
     "text": [
      "please enter a secure alpha-non-numeric keyPlayfair Example\n",
      "what would you like decrypted?nicotine is bad for your health\n",
      "Here is the encrypted message: krdnpbormkdphaneaqlcdmlazb\n",
      "decryption starting\n",
      ".\n",
      "..\n",
      "...\n",
      "Decrypted message ( you will need to add spaces logically): nicotineisbadforyourheplth\n"
     ]
    }
   ],
   "source": [
    "key = input(\"please enter a secure alpha-non-numeric key\")\n",
    "message = input(\"what would you like decrypted?\")\n",
    "encrypted = playfair_encrypt(key,message)\n",
    "print(\"Here is the encrypted message:\", encrypted)\n",
    "print('decryption starting')\n",
    "print('.')\n",
    "print('..')\n",
    "print('...')\n",
    "decrypted = playfair_decrypt(key, encrypted)\n",
    "print('Decrypted message ( you will need to add spaces logically):', decrypted)"
   ]
  },
  {
   "cell_type": "code",
   "execution_count": null,
   "metadata": {},
   "outputs": [],
   "source": []
  }
 ],
 "metadata": {
  "kernelspec": {
   "display_name": "Python 3",
   "language": "python",
   "name": "python3"
  },
  "language_info": {
   "codemirror_mode": {
    "name": "ipython",
    "version": 3
   },
   "file_extension": ".py",
   "mimetype": "text/x-python",
   "name": "python",
   "nbconvert_exporter": "python",
   "pygments_lexer": "ipython3",
   "version": "3.8.3"
  }
 },
 "nbformat": 4,
 "nbformat_minor": 4
}
