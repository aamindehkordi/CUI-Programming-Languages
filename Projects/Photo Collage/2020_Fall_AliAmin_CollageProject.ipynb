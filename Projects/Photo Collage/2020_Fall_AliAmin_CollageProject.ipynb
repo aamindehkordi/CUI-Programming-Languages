{
 "cells": [
  {
   "cell_type": "code",
   "execution_count": null,
   "metadata": {},
   "outputs": [],
   "source": [
    "import image\n",
    "import math\n",
    "import random\n"
   ]
  },
  {
   "cell_type": "code",
   "execution_count": null,
   "metadata": {},
   "outputs": [],
   "source": [
    "originalImage = image.FileImage(\"flower.jpg\")\n",
    "width = originalImage.getWidth()\n",
    "height = originalImage.getHeight()"
   ]
  },
  {
   "cell_type": "code",
   "execution_count": null,
   "metadata": {},
   "outputs": [],
   "source": [
    "one = image.EmptyImage(width, height)"
   ]
  },
  {
   "cell_type": "code",
   "execution_count": null,
   "metadata": {},
   "outputs": [],
   "source": [
    "two = image.EmptyImage(width, height)"
   ]
  },
  {
   "cell_type": "code",
   "execution_count": null,
   "metadata": {},
   "outputs": [],
   "source": [
    "three = image.EmptyImage(width, height)"
   ]
  },
  {
   "cell_type": "code",
   "execution_count": null,
   "metadata": {},
   "outputs": [],
   "source": [
    "four = image.EmptyImage(width, height)"
   ]
  },
  {
   "cell_type": "code",
   "execution_count": null,
   "metadata": {},
   "outputs": [],
   "source": [
    "five = image.FileImage(\"flower.jpg\")"
   ]
  },
  {
   "cell_type": "code",
   "execution_count": null,
   "metadata": {},
   "outputs": [],
   "source": [
    "six = image.EmptyImage(width, height)"
   ]
  },
  {
   "cell_type": "code",
   "execution_count": null,
   "metadata": {},
   "outputs": [],
   "source": [
    "seven = image.EmptyImage(width, height)"
   ]
  },
  {
   "cell_type": "code",
   "execution_count": null,
   "metadata": {},
   "outputs": [],
   "source": [
    "eight = image.EmptyImage(width, height)"
   ]
  },
  {
   "cell_type": "code",
   "execution_count": null,
   "metadata": {},
   "outputs": [],
   "source": [
    "nine = image.EmptyImage(width, height)"
   ]
  },
  {
   "cell_type": "code",
   "execution_count": null,
   "metadata": {},
   "outputs": [],
   "source": [
    "one.setPosition((0*width)+(5),(0*height)+(5))\n",
    "two.setPosition((1*width)+(10),(0*height)+(5))\n",
    "three.setPosition((2*width)+(15),(0*height)+(5))\n",
    "four.setPosition((0*width)+(5),(1*height)+(10))\n",
    "five.setPosition((1*width)+(10),(1*height)+(10))\n",
    "six.setPosition((2*width)+(15),(1*height)+(10))\n",
    "seven.setPosition((0*width)+(5),(2*height)+(15))\n",
    "eight.setPosition((1*width)+(10),(2*height)+(15))\n",
    "nine.setPosition((2*width)+(15),(2*height)+(15))\n"
   ]
  },
  {
   "cell_type": "markdown",
   "metadata": {},
   "source": [
    "## 1: Horizontal flip"
   ]
  },
  {
   "cell_type": "code",
   "execution_count": null,
   "metadata": {},
   "outputs": [],
   "source": [
    "last = height - 1\n",
    "for row in range(height):\n",
    "       for col in range(width):\n",
    "            pixel = originalImage.getPixel(col,last-row)\n",
    "            one.setPixel(col, row, pixel)"
   ]
  },
  {
   "cell_type": "markdown",
   "metadata": {},
   "source": [
    "## 2: Sepia"
   ]
  },
  {
   "cell_type": "code",
   "execution_count": null,
   "metadata": {},
   "outputs": [],
   "source": [
    "def convertToSepia(pixel):\n",
    "    newR = int((pixel.getRed()*0.393 + pixel.getGreen()*0.769 + pixel.getBlue()*0.189))\n",
    "    newR = min(newR,255)\n",
    "    \n",
    "    newG = int((pixel.getRed()*0.349 + pixel.getGreen()*0.686 + pixel.getBlue()*0.168))\n",
    "    newG = min(newG,255)\n",
    "    \n",
    "    newB = int((pixel.getRed()*0.272 + pixel.getGreen()*0.535 + pixel.getBlue()*0.131))\n",
    "    newB = min(newB,255)\n",
    "    \n",
    "    return image.Pixel(newR,newG,newB)"
   ]
  },
  {
   "cell_type": "code",
   "execution_count": null,
   "metadata": {},
   "outputs": [],
   "source": [
    "for row in range(height):                                   \n",
    "        for col in range(width):                                \n",
    "            pixel = originalImage.getPixel(col, row)\n",
    "            pixel = convertToSepia(pixel)\n",
    "            two.setPixel(col, row, pixel)"
   ]
  },
  {
   "cell_type": "markdown",
   "metadata": {},
   "source": [
    "## 3: Horizontal mirror"
   ]
  },
  {
   "cell_type": "code",
   "execution_count": null,
   "metadata": {},
   "outputs": [],
   "source": [
    "last = width - 1\n",
    "for row in range(height):\n",
    "    for col in range(width//2):\n",
    "            pixel = originalImage.getPixel(row,col)\n",
    "            three.setPixel(last-col, row, pixel)\n",
    "            three.setPixel(last-col,row,pixel)"
   ]
  },
  {
   "cell_type": "markdown",
   "metadata": {},
   "source": [
    "## 4: Grayscale"
   ]
  },
  {
   "cell_type": "code",
   "execution_count": null,
   "metadata": {},
   "outputs": [],
   "source": [
    "def convertToGrayscale(originalImage):\n",
    "    modifiedImage = image.EmptyImage(width, height)\n",
    "    for row in range(height):\n",
    "        for col in range(width):\n",
    "            pixel = originalImage.getPixel(col, row)\n",
    "            pixelIntensity = pixel.getRed() + pixel.getGreen() + pixel.getBlue()\n",
    "            avgRGB = pixelIntensity // 3\n",
    "            pixel = image.Pixel(avgRGB, avgRGB, avgRGB)            \n",
    "            modifiedImage.setPixel(col, row, pixel)\n",
    "    return modifiedImage"
   ]
  },
  {
   "cell_type": "code",
   "execution_count": null,
   "metadata": {},
   "outputs": [],
   "source": [
    "four = convertToGrayscale(originalImage)"
   ]
  },
  {
   "cell_type": "markdown",
   "metadata": {},
   "source": [
    "## 6: Negatives"
   ]
  },
  {
   "cell_type": "code",
   "execution_count": null,
   "metadata": {},
   "outputs": [],
   "source": [
    "def convertPixelToNegative(pixel):\n",
    "    newRed   = 255 - pixel.getRed()\n",
    "    newGreen = 255 - pixel.getGreen()\n",
    "    newBlue  = 255 - pixel.getBlue()\n",
    "    return image.Pixel(newRed, newGreen, newBlue)"
   ]
  },
  {
   "cell_type": "code",
   "execution_count": null,
   "metadata": {},
   "outputs": [],
   "source": [
    "for row in range(height):                                   \n",
    "        for col in range(width):                                \n",
    "            pixel = originalImage.getPixel(col, row)\n",
    "            pixel = convertPixelToNegative(pixel)\n",
    "            six.setPixel(col, row, pixel)"
   ]
  },
  {
   "cell_type": "markdown",
   "metadata": {},
   "source": [
    "## 7: Edge Detection"
   ]
  },
  {
   "cell_type": "code",
   "execution_count": null,
   "metadata": {},
   "outputs": [],
   "source": [
    "grayscaleImg = convertToGrayscale(originalImage)\n",
    "black = image.Pixel(0, 0, 0)\n",
    "white = image.Pixel(255, 255, 255)\n",
    "\n",
    "xMask = [ [-1, -2, -1], [0, 0, 0], [1,2,1] ]\n",
    "yMask = [ [1, 0, -1], [2, 0, -2], [1,0,-1] ]\n",
    "\n",
    "kLength = len(yMask)\n",
    "\n",
    "offset = kLength//2"
   ]
  },
  {
   "cell_type": "code",
   "execution_count": null,
   "metadata": {},
   "outputs": [],
   "source": [
    "for row in range(width):\n",
    "    for col in range(height):\n",
    "        rgbX = 0\n",
    "        rgbY = 0\n",
    "        for offX in range(kLength):\n",
    "            for offY in range(kLength):\n",
    "                x = row - offset + offX\n",
    "                y = col - offset + offY\n",
    "\n",
    "                x = max(x,0)\n",
    "                x = min(x, width-1)\n",
    "                y = max(y,0)\n",
    "                y = min(y, height-1)\n",
    "\n",
    "                rgbX += grayscaleImg[x][y] * xMask[offX][offY]\n",
    "                rgbY += grayscaleImg[x][y] * yMask[offX][offY]\n",
    "\n",
    "        newRGB = int(math.sqrt(rgbX**2 + rgbY**2))\n",
    "        newRGB = min(newRGB,255)\n",
    "\n",
    "        pixel = image.Pixel(newRGB,newRGB,newRGB)\n",
    "        seven.setPixel(row,col,pixel)"
   ]
  },
  {
   "cell_type": "markdown",
   "metadata": {},
   "source": [
    "## 8: Rando"
   ]
  },
  {
   "cell_type": "code",
   "execution_count": null,
   "metadata": {},
   "outputs": [],
   "source": [
    "for row in range(height):                                   \n",
    "        for col in range(width):                                \n",
    "            pixel = originalImage.getPixel(col, row)\n",
    "            r = pixel.getRed() + random.randint(0,50) if pixel.getRed() < 206 else 255\n",
    "            g = pixel.getGreen() - random.randint(0,50) if pixel.getGreen() > 49 else 0\n",
    "            b = pixel.getBlue()  - random.randint(0,50) if pixel.getBlue() > 49 else 0\n",
    "            pixel = image.Pixel(r, g, b)\n",
    "            \n",
    "        eight.setPixel(col, row, pixel)"
   ]
  },
  {
   "cell_type": "markdown",
   "metadata": {},
   "source": [
    "## 9: Blurry"
   ]
  },
  {
   "cell_type": "code",
   "execution_count": null,
   "metadata": {},
   "outputs": [],
   "source": [
    "mask = [  [1, 2, 1],\n",
    "          [2, 1, 2],\n",
    "          [1, 2, 1]  ]\n",
    "maskSum = 13\n",
    "kLength = len(mask)\n",
    "offset = kLength//2"
   ]
  },
  {
   "cell_type": "code",
   "execution_count": null,
   "metadata": {},
   "outputs": [],
   "source": [
    "\n",
    "for row in range(height):                                   \n",
    "    for col in range(width):                                \n",
    "        pixel = originalImage.getPixel(col, row)\n",
    "\n",
    "        r = 0\n",
    "        g = 0\n",
    "        b = 0\n",
    "\n",
    "        for kX in range(len(kLength)):\n",
    "            for kY in range(len(kLength)):\n",
    "                x = row - offset + kX\n",
    "                y = col - offset + kY\n",
    "\n",
    "                x = max(x,0)\n",
    "                x = min(x, width-1)\n",
    "                y = max(y,0)\n",
    "                y = min(y, height-1)\n",
    "\n",
    "                r += mask[kX][kY] * pixel.getRed()    \n",
    "                g += mask[kX][kY] * pixel.getGreen()  \n",
    "                b += mask[kX][kY] * pixel.getBlue()   \n",
    "\n",
    "        r /= maskSum\n",
    "        g /= maskSum\n",
    "        b /= maskSum\n",
    "        r = min(r,255)\n",
    "        g = min(g,255)\n",
    "        b = min(b,255)\n",
    "\n",
    "        pixel = image.Pixel(r, g, b)\n",
    "\n",
    "        nine.setPixel(col, row, pixel)"
   ]
  },
  {
   "cell_type": "markdown",
   "metadata": {},
   "source": [
    "## Everything all together"
   ]
  },
  {
   "cell_type": "code",
   "execution_count": null,
   "metadata": {},
   "outputs": [],
   "source": [
    "finW = (width*3) +20\n",
    "finH = (height*3)+20"
   ]
  },
  {
   "cell_type": "code",
   "execution_count": null,
   "metadata": {},
   "outputs": [],
   "source": [
    "finalWindow = image.ImageWin(finW, finH, \"Photo Collage\")\n",
    "one.draw(finalWindow)\n",
    "two.draw(finalWindow)\n",
    "three.draw(finalWindow)\n",
    "four.draw(finalWindow)\n",
    "five.draw(finalWindow)\n",
    "six.draw(finalWindow)\n",
    "seven.draw(finalWindow)\n",
    "eight.draw(finalWindow)\n",
    "nine.draw(finalWindow)"
   ]
  },
  {
   "cell_type": "code",
   "execution_count": 1,
   "metadata": {},
   "outputs": [
    {
     "ename": "TypeError",
     "evalue": "'EmptyImage' object is not subscriptable",
     "output_type": "error",
     "traceback": [
      "\u001b[1;31m---------------------------------------------------------------------------\u001b[0m",
      "\u001b[1;31mTypeError\u001b[0m                                 Traceback (most recent call last)",
      "\u001b[1;32m<ipython-input-1-7b3e0fdba7d5>\u001b[0m in \u001b[0;36m<module>\u001b[1;34m\u001b[0m\n\u001b[0;32m    107\u001b[0m                 \u001b[0my\u001b[0m \u001b[1;33m=\u001b[0m \u001b[0mmin\u001b[0m\u001b[1;33m(\u001b[0m\u001b[0my\u001b[0m\u001b[1;33m,\u001b[0m \u001b[0mheight\u001b[0m\u001b[1;33m-\u001b[0m\u001b[1;36m1\u001b[0m\u001b[1;33m)\u001b[0m\u001b[1;33m\u001b[0m\u001b[1;33m\u001b[0m\u001b[0m\n\u001b[0;32m    108\u001b[0m \u001b[1;33m\u001b[0m\u001b[0m\n\u001b[1;32m--> 109\u001b[1;33m                 \u001b[0mrgbX\u001b[0m \u001b[1;33m+=\u001b[0m \u001b[0mgrayscaleImg\u001b[0m\u001b[1;33m[\u001b[0m\u001b[0mx\u001b[0m\u001b[1;33m]\u001b[0m\u001b[1;33m[\u001b[0m\u001b[0my\u001b[0m\u001b[1;33m]\u001b[0m \u001b[1;33m*\u001b[0m \u001b[0mxMask\u001b[0m\u001b[1;33m[\u001b[0m\u001b[0moffX\u001b[0m\u001b[1;33m]\u001b[0m\u001b[1;33m[\u001b[0m\u001b[0moffY\u001b[0m\u001b[1;33m]\u001b[0m\u001b[1;33m\u001b[0m\u001b[1;33m\u001b[0m\u001b[0m\n\u001b[0m\u001b[0;32m    110\u001b[0m                 \u001b[0mrgbY\u001b[0m \u001b[1;33m+=\u001b[0m \u001b[0mgrayscaleImg\u001b[0m\u001b[1;33m[\u001b[0m\u001b[0mx\u001b[0m\u001b[1;33m]\u001b[0m\u001b[1;33m[\u001b[0m\u001b[0my\u001b[0m\u001b[1;33m]\u001b[0m \u001b[1;33m*\u001b[0m \u001b[0myMask\u001b[0m\u001b[1;33m[\u001b[0m\u001b[0moffX\u001b[0m\u001b[1;33m]\u001b[0m\u001b[1;33m[\u001b[0m\u001b[0moffY\u001b[0m\u001b[1;33m]\u001b[0m\u001b[1;33m\u001b[0m\u001b[1;33m\u001b[0m\u001b[0m\n\u001b[0;32m    111\u001b[0m \u001b[1;33m\u001b[0m\u001b[0m\n",
      "\u001b[1;31mTypeError\u001b[0m: 'EmptyImage' object is not subscriptable"
     ]
    }
   ],
   "source": [
    "import image\n",
    "import math\n",
    "import random\n",
    "import sys\n",
    "\n",
    "fileName = sys.argv[1]\n",
    "originalImage = image.FileImage(fileName)\n",
    "width = originalImage.getWidth()\n",
    "height = originalImage.getHeight()\n",
    "\n",
    "one = image.EmptyImage(width, height)\n",
    "two = image.EmptyImage(width, height)\n",
    "three = image.EmptyImage(width, height)\n",
    "four = image.EmptyImage(width, height)\n",
    "six = image.EmptyImage(width, height)\n",
    "seven = image.EmptyImage(width, height)\n",
    "eight = image.EmptyImage(width, height)\n",
    "nine = image.EmptyImage(width, height)\n",
    "\n",
    "#Horizontal Flip\n",
    "last = width - 1\n",
    "for row in range(height):\n",
    "       for col in range(width):\n",
    "            pixel = originalImage.getPixel(last-col,row)\n",
    "            one.setPixel(col, row, pixel)\n",
    "            \n",
    "#Sepia Filter\n",
    "def convertToSepia(pixel):\n",
    "    newR = int((pixel.getRed()*0.393 + pixel.getGreen()*0.769 + pixel.getBlue()*0.189))\n",
    "    newR = min(newR,255)\n",
    "    \n",
    "    newG = int((pixel.getRed()*0.349 + pixel.getGreen()*0.686 + pixel.getBlue()*0.168))\n",
    "    newG = min(newG,255)\n",
    "    \n",
    "    newB = int((pixel.getRed()*0.272 + pixel.getGreen()*0.535 + pixel.getBlue()*0.131))\n",
    "    newB = min(newB,255)\n",
    "    \n",
    "    return image.Pixel(newR,newG,newB)\n",
    "    \n",
    "for row in range(height):                                   \n",
    "        for col in range(width):                                \n",
    "            pixel = originalImage.getPixel(col, row)\n",
    "            pixel = convertToSepia(pixel)\n",
    "            two.setPixel(col, row, pixel)\n",
    "            \n",
    "#Horizontal Mirror\n",
    "last = width - 1\n",
    "for row in range(height):\n",
    "    for col in range(width//2):\n",
    "            pixel = originalImage.getPixel(col,row)\n",
    "            three.setPixel(col, row, pixel)\n",
    "            three.setPixel(last-col,row,pixel)\n",
    "            \n",
    "#Grayscale Filter\n",
    "def convertToGrayscale(originalImage):\n",
    "    modifiedImage = image.EmptyImage(width, height)\n",
    "    for row in range(height):\n",
    "        for col in range(width):\n",
    "            pixel = originalImage.getPixel(col, row)\n",
    "            pixelIntensity = pixel.getRed() + pixel.getGreen() + pixel.getBlue()\n",
    "            avgRGB = pixelIntensity // 3\n",
    "            pixel = image.Pixel(avgRGB, avgRGB, avgRGB)            \n",
    "            modifiedImage.setPixel(col, row, pixel)\n",
    "    return modifiedImage\n",
    "    \n",
    "four = convertToGrayscale(originalImage)\n",
    "\n",
    "#Original Image\n",
    "\n",
    "five = image.FileImage(fileName)\n",
    "\n",
    "#Negative Filter\n",
    "def convertPixelToNegative(pixel):\n",
    "    newRed   = 255 - pixel.getRed()\n",
    "    newGreen = 255 - pixel.getGreen()\n",
    "    newBlue  = 255 - pixel.getBlue()\n",
    "    return image.Pixel(newRed, newGreen, newBlue)\n",
    "    \n",
    "for row in range(height):                                   \n",
    "        for col in range(width):                                \n",
    "            pixel = originalImage.getPixel(col, row)\n",
    "            pixel = convertPixelToNegative(pixel)\n",
    "            six.setPixel(col, row, pixel)\n",
    "            \n",
    "#Edge Detection Filter\n",
    "grayscaleImg = [[sum(originalImage.getPixel(x,y))//3 for y in range(height)]for x in range(width)]\n",
    "black = image.Pixel(0, 0, 0)\n",
    "white = image.Pixel(255, 255, 255)\n",
    "\n",
    "xMask = [ [-1, -2, -1], [0, 0, 0], [1,2,1] ]\n",
    "yMask = [ [1, 0, -1], [2, 0, -2], [1,0,-1] ]\n",
    "\n",
    "kLength = len(yMask)\n",
    "\n",
    "offset = kLength//2\n",
    "\n",
    "for row in range(width):\n",
    "    for col in range(height):\n",
    "        rgbX = 0\n",
    "        rgbY = 0\n",
    "        for offX in range(kLength):\n",
    "            for offY in range(kLength):\n",
    "                x = row - offset + offX\n",
    "                y = col - offset + offY\n",
    "\n",
    "                x = max(x,0)\n",
    "                x = min(x, width-1)\n",
    "                y = max(y,0)\n",
    "                y = min(y, height-1)\n",
    "\n",
    "                rgbX += grayscaleImg[x][y] * xMask[offX][offY]\n",
    "                rgbY += grayscaleImg[x][y] * yMask[offX][offY]\n",
    "\n",
    "        newRGB = int(math.sqrt(rgbX**2 + rgbY**2))\n",
    "        newRGB = min(newRGB,255)\n",
    "\n",
    "        pixel = image.Pixel(newRGB,newRGB,newRGB)\n",
    "        seven.setPixel(row,col,pixel)\n",
    "        \n",
    "#Random Drug Trip\n",
    "for row in range(height):                                   \n",
    "        for col in range(width):                                \n",
    "            pixel = originalImage.getPixel(col, row)\n",
    "            r = pixel.getRed() + random.randint(0,50) if pixel.getRed() < 206 else 255\n",
    "            g = pixel.getGreen() - random.randint(0,50) if pixel.getGreen() > 49 else 0\n",
    "            b = pixel.getBlue()  - random.randint(0,50) if pixel.getBlue() > 49 else 0\n",
    "            pixel = image.Pixel(r, g, b)\n",
    "            eight.setPixel(col, row, pixel)\n",
    "        \n",
    "#Blur Filter\n",
    "mask = [  [1, 2, 1],\n",
    "          [2, 1, 2],\n",
    "          [1, 2, 1]  ]\n",
    "maskSum = 13\n",
    "kLength = len(mask)\n",
    "offset = kLength//2\n",
    "\n",
    "for row in range(height):                                   \n",
    "    for col in range(width):                                \n",
    "        pixel = originalImage.getPixel(col, row)\n",
    "\n",
    "        r = 0\n",
    "        g = 0\n",
    "        b = 0\n",
    "\n",
    "        for kX in range(kLength):\n",
    "            for kY in range(kLength):\n",
    "                x = row - offset + kX\n",
    "                y = col - offset + kY\n",
    "\n",
    "                x = max(x,0)\n",
    "                x = min(x, width-1)\n",
    "                y = max(y,0)\n",
    "                y = min(y, height-1)\n",
    "\n",
    "                r += mask[kX][kY] * pixel.getRed()    \n",
    "                g += mask[kX][kY] * pixel.getGreen()  \n",
    "                b += mask[kX][kY] * pixel.getBlue()   \n",
    "\n",
    "        r = int(r/maskSum)\n",
    "        g = int(g/maskSum)\n",
    "        b = int(b/maskSum)\n",
    "        r = min(r,255)\n",
    "        g = min(g,255)\n",
    "        b = min(b,255)\n",
    "\n",
    "        pixel = image.Pixel(r, g, b)\n",
    "\n",
    "        nine.setPixel(col, row, pixel)\n",
    "        \n",
    "#Creating the Collage\n",
    "finW = (width*3) +20\n",
    "finH = (height*3)+20\n",
    "finalWindow = image.ImageWin(finW, finH, \"Photo Collage\")\n",
    "\n",
    "one.setPosition((0*width)+(5),(0*height)+(5))\n",
    "two.setPosition((1*width)+(10),(0*height)+(5))\n",
    "three.setPosition((2*width)+(15),(0*height)+(5))\n",
    "four.setPosition((0*width)+(5),(1*height)+(10))\n",
    "five.setPosition((1*width)+(10),(1*height)+(10))\n",
    "six.setPosition((2*width)+(15),(1*height)+(10))\n",
    "seven.setPosition((0*width)+(5),(2*height)+(15))\n",
    "eight.setPosition((1*width)+(10),(2*height)+(15))\n",
    "nine.setPosition((2*width)+(15),(2*height)+(15))\n",
    "\n",
    "one.draw(finalWindow)\n",
    "two.draw(finalWindow)\n",
    "three.draw(finalWindow)\n",
    "four.draw(finalWindow)\n",
    "five.draw(finalWindow)\n",
    "six.draw(finalWindow)\n",
    "seven.draw(finalWindow)\n",
    "eight.draw(finalWindow)\n",
    "nine.draw(finalWindow)\n",
    "\n",
    "finalWindow.exitonclick()"
   ]
  },
  {
   "cell_type": "code",
   "execution_count": null,
   "metadata": {},
   "outputs": [],
   "source": []
  }
 ],
 "metadata": {
  "kernelspec": {
   "display_name": "Python 3",
   "language": "python",
   "name": "python3"
  },
  "language_info": {
   "codemirror_mode": {
    "name": "ipython",
    "version": 3
   },
   "file_extension": ".py",
   "mimetype": "text/x-python",
   "name": "python",
   "nbconvert_exporter": "python",
   "pygments_lexer": "ipython3",
   "version": "3.8.3"
  }
 },
 "nbformat": 4,
 "nbformat_minor": 4
}
