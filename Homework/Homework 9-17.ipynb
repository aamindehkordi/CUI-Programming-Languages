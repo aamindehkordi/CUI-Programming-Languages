{
 "cells": [
  {
   "cell_type": "markdown",
   "metadata": {},
   "source": [
    "# Homework 9\n",
    "### 4.31\n"
   ]
  },
  {
   "cell_type": "code",
   "execution_count": null,
   "metadata": {},
   "outputs": [],
   "source": [
    "def printTable(myDict):\n",
    "    keyList = list(myDict.keys())\n",
    "    for x in keyList:\n",
    "        print(x,myDict[x])"
   ]
  },
  {
   "cell_type": "markdown",
   "metadata": {},
   "source": [
    "### 4.35"
   ]
  },
  {
   "cell_type": "code",
   "execution_count": null,
   "metadata": {},
   "outputs": [],
   "source": [
    "def averageScores(scores):\n",
    "    avg = 0.0\n",
    "    for i in range(len(scores)):\n",
    "        avg += scores[i][1]\n",
    "    avg = round(avg/len(scores),2)\n",
    "    return avg"
   ]
  },
  {
   "cell_type": "code",
   "execution_count": null,
   "metadata": {},
   "outputs": [],
   "source": [
    "scores = [(\"sarah\", 10),(\"abe\",8),(\"lily\",6.5)]\n",
    "scoreDict = {'sarah':10, 'abe':8, 'lily':6.5}\n",
    "print(\"4.31:\")\n",
    "printTable(scoreDict)\n",
    "print(\"4.35:\\n\", averageScores(scores))"
   ]
  },
  {
   "cell_type": "markdown",
   "metadata": {},
   "source": [
    "# Homework 10\n",
    "## 4.45"
   ]
  },
  {
   "cell_type": "code",
   "execution_count": null,
   "metadata": {},
   "outputs": [],
   "source": [
    "import random  \n",
    "import matplotlib.pyplot as plt\n",
    "points = []\n",
    "while len(points)<1000:\n",
    "    points.append((random.gauss(25,7)))\n",
    "                \n",
    "plt.plot(points)\n",
    "plt.show()"
   ]
  },
  {
   "cell_type": "markdown",
   "metadata": {},
   "source": [
    "# Homework 11\n",
    "## 5.6\n"
   ]
  },
  {
   "cell_type": "code",
   "execution_count": null,
   "metadata": {},
   "outputs": [],
   "source": [
    "def fileInfo(filename):\n",
    "    green = open(filename, 'r')\n",
    "    lineCount = 0\n",
    "    wordCount = 0\n",
    "    charCount = 0\n",
    "    for line in green:\n",
    "        words = line.split()\n",
    "        lineCount +=1\n",
    "        wordCount += len(words)\n",
    "        for word in words:\n",
    "            charCount += len(word)\n",
    "    return lineCount, wordCount, charCount"
   ]
  },
  {
   "cell_type": "code",
   "execution_count": null,
   "metadata": {
    "scrolled": false
   },
   "outputs": [],
   "source": [
    "fileInfo(\"green book.txt\")"
   ]
  },
  {
   "cell_type": "markdown",
   "metadata": {},
   "source": [
    "# Homework 12\n",
    "### 5.8"
   ]
  },
  {
   "cell_type": "code",
   "execution_count": null,
   "metadata": {},
   "outputs": [],
   "source": [
    "import pandas as pd\n",
    "\n",
    "def magnitudeFilter(fileName):\n",
    "    newFile = open(\"magnitude filters.txt\",\"w\")\n",
    "    light = []\n",
    "    medium = []\n",
    "    heavy = []\n",
    "    ouch = []\n",
    "    quakes = pd.read_csv(fileName, usecols=['mag'])\n",
    "    for line in quakes['mag']:\n",
    "        mag = float(line)\n",
    "        if mag >= 4.5 and mag <= 4.9:\n",
    "            light.append(mag)\n",
    "        if mag > 4.9 and mag <= 5.9:\n",
    "            medium.append(mag)\n",
    "        if mag > 5.9 and mag <= 6.9:\n",
    "            heavy.append(mag)\n",
    "        if mag > 6.9:\n",
    "            ouch.append(mag)\n",
    "    newFile.write(\"  Magnitude    |    Frequency \\n\")\n",
    "    newFile.write(\"Light(4.5-4.9) :     {} \\n\".format(int(len(light))))\n",
    "    newFile.write(\"Medium(4.9-5.9):     {} \\n\".format(int(len(medium))))\n",
    "    newFile.write(\"Heavy(5.9-6.9) :     {} \\n\".format(int(len(heavy))))\n",
    "    newFile.write(\"Strong(6.9-7.9):     {} \\n\".format(int(len(ouch))))\n",
    "    \n",
    "    newFile.close()\n",
    "    return \"File created\""
   ]
  },
  {
   "cell_type": "code",
   "execution_count": null,
   "metadata": {},
   "outputs": [],
   "source": [
    "magnitudeFilter(\"earthquakes.csv\")"
   ]
  },
  {
   "cell_type": "markdown",
   "metadata": {},
   "source": [
    "###  5.15"
   ]
  },
  {
   "cell_type": "code",
   "execution_count": null,
   "metadata": {},
   "outputs": [],
   "source": [
    "def propList(fileName, colName):\n",
    "    try:\n",
    "        theFile = pd.read_csv(fileName, usecols=[colName])\n",
    "    except ValueError:\n",
    "        return \"Wrong property/ column Name\"\n",
    "    output = []\n",
    "    for row in theFile[colName]:\n",
    "        output.append(row)\n",
    "    return output"
   ]
  },
  {
   "cell_type": "code",
   "execution_count": null,
   "metadata": {},
   "outputs": [],
   "source": [
    "propList(\"earthquakes.csv\",\"mag\")"
   ]
  },
  {
   "cell_type": "markdown",
   "metadata": {},
   "source": [
    "# Homework 14\n",
    "### We pulled down the data for total COVID-19 cases for each US State and county from a Johns Hopkins Github Repository. Your job is to go to the URL and find the CSV file for COVID-19 deaths and to use Pandas to download this data.\n",
    "    covid_url  = \"https://github.com/CSSEGISandData/COVID-19/raw/master/csse_covid_19_data/csse_covid_19_time_series/\" \n",
    "    covid_file = \"time_series_covid19_confirmed_US.csv\" # this is the file for COVID-19 cases, *not* deaths\n",
    "### Take the data and create a bar graph of the COVID-19 Daily Deaths per Population Density (persons per mi^2) for a California county of your choice. You will need to merge the COVID-19 data with the county statistics in the CSV file that is available on Blackboard.\n",
    "    "
   ]
  },
  {
   "cell_type": "code",
   "execution_count": null,
   "metadata": {},
   "outputs": [],
   "source": [
    "from datetime import datetime\n",
    "\n",
    "covid_url  = \"https://github.com/CSSEGISandData/COVID-19/raw/master/csse_covid_19_data/csse_covid_19_time_series/\"\n",
    "covid_file = \"time_series_covid19_deaths_US.csv\"\n",
    "\n",
    "stats = pd.read_csv(\"california_county_stats.txt\", delimiter=\",\")\n",
    "covid = pd.read_csv(covid_url + covid_file, delimiter=\",\")\n",
    "\n",
    "covid = covid.rename(columns={\"Admin2\":\"County\", \"Province_State\":\"State\"})\n",
    "covid = covid[covid[\"State\"] == \"California\"]\n",
    "covid = covid.set_index(\"County\")\n",
    "stats = stats.set_index(\"County\")\n",
    "unused_columns = [\"UID\", \"iso2\", \"iso3\", \"code3\", \"FIPS\", \"Long_\", \"Lat\", \"Country_Region\", \"Combined_Key\", \"State\", \"Population\"]\n",
    "covid = covid.drop(columns=unused_columns)\n",
    "\n",
    "last_col = covid.shape[1]-1\n",
    "for col in range(last_col, 0, -1):\n",
    "    covid.iloc[:,col] = covid.iloc[:,col] - covid.iloc[:,col-1]\n",
    "    \n",
    "stats[\"Density\"] = stats[\"Population\"] / stats[\"Area\"]\n",
    "stats[\"Density\"] = round(stats[\"Density\"], 2)\n",
    "stats[\"Total Deaths\"] = covid.sum(axis=1)\n",
    "df = covid.copy()\n",
    "\n",
    "first_column = df.columns.get_loc(\"1/22/20\")\n",
    "last_column = df.shape[1]-2\n",
    "county = \"Orange\"\n",
    "\n",
    "y1_vals = df.loc[county][first_column:last_column]\n",
    "x1_vals = df.loc[county][first_column:last_column].index\n",
    "x1_vals = [datetime.strptime(day, '%m/%d/%y') for day in x1_vals]\n",
    "\n",
    "plt.figure(figsize=(10,5))\n",
    "plt.gca().yaxis.grid()\n",
    "plt.bar(x1_vals, y1_vals, width=1, color=\"orangered\")\n",
    "plt.title(\"Daily New COVID-19 Deaths in \"+ county + \" County\", fontsize=14, pad=15)\n",
    "plt.show()"
   ]
  },
  {
   "cell_type": "markdown",
   "metadata": {},
   "source": [
    "# Homework 16\n",
    "## 6.8"
   ]
  },
  {
   "cell_type": "code",
   "execution_count": null,
   "metadata": {},
   "outputs": [],
   "source": [
    "import image\n",
    "def intenseRed(fileName):\n",
    "    img = image.FileImage(fileName)  \n",
    "    width = img.getWidth()\n",
    "    height = img.getHeight()\n",
    "    newImg = image.EmptyImage(width, height)\n",
    "    \n",
    "    for row in range(height):                                   \n",
    "        for col in range(width):                                \n",
    "            pixel = img.getPixel(col, row)\n",
    "            r = pixel.getRed() + 50 if pixel.getRed() < 206 else 255\n",
    "            g = pixel.getGreen() \n",
    "            b = pixel.getBlue()  \n",
    "            pixel = image.Pixel(r, g, b)\n",
    "            newImg.setPixel(col, row, pixel)\n",
    "    window = image.ImageWin(width * 2, height, \"mad red\")\n",
    "    img.draw(window)\n",
    "    newImg.setPosition(width+1,0)\n",
    "    newImg.draw(window)"
   ]
  },
  {
   "cell_type": "code",
   "execution_count": null,
   "metadata": {},
   "outputs": [],
   "source": [
    "intenseRed(\"butterfly.png\")"
   ]
  },
  {
   "cell_type": "markdown",
   "metadata": {},
   "source": [
    "### 6.9"
   ]
  },
  {
   "cell_type": "code",
   "execution_count": null,
   "metadata": {},
   "outputs": [],
   "source": [
    "import image\n",
    "def detenseBlue(fileName):\n",
    "    img = image.FileImage(fileName)  \n",
    "    width = img.getWidth()\n",
    "    height = img.getHeight()\n",
    "    newImg = image.EmptyImage(width, height)\n",
    "    \n",
    "    for row in range(height):                                   \n",
    "        for col in range(width):                                \n",
    "            pixel = img.getPixel(col, row)\n",
    "            r = pixel.getRed() \n",
    "            g = pixel.getGreen() \n",
    "            b = pixel.getBlue()  - 100 if pixel.getBlue() > 99 else 0\n",
    "            pixel = image.Pixel(r, g, b)\n",
    "            newImg.setPixel(col, row, pixel)\n",
    "    window = image.ImageWin(width * 2, height, \"shy blue\")\n",
    "    img.draw(window)\n",
    "    newImg.setPosition(width+1,0)\n",
    "    newImg.draw(window)"
   ]
  },
  {
   "cell_type": "code",
   "execution_count": null,
   "metadata": {},
   "outputs": [],
   "source": [
    "detenseBlue(\"butterfly.png\")"
   ]
  },
  {
   "cell_type": "markdown",
   "metadata": {},
   "source": [
    "### 6.10"
   ]
  },
  {
   "cell_type": "code",
   "execution_count": null,
   "metadata": {},
   "outputs": [],
   "source": [
    "import image\n",
    "import random\n",
    "def randomColors(fileName):\n",
    "    img = image.FileImage(fileName)  \n",
    "    width = img.getWidth()\n",
    "    height = img.getHeight()\n",
    "    newImg = image.EmptyImage(width, height)\n",
    "    \n",
    "    for row in range(height):                                   \n",
    "        for col in range(width):                                \n",
    "            pixel = img.getPixel(col, row)\n",
    "            r = pixel.getRed() + random.randint(0,50) if pixel.getRed() < 206 else 255\n",
    "            g = pixel.getGreen() - random.randint(0,50) if pixel.getGreen() > 49 else 0\n",
    "            b = pixel.getBlue()  - random.randint(0,50) if pixel.getBlue() > 49 else 0\n",
    "            pixel = image.Pixel(r, g, b)\n",
    "            newImg.setPixel(col, row, pixel)\n",
    "    window = image.ImageWin(width * 2, height, \"drugs are bad\")\n",
    "    img.draw(window)\n",
    "    newImg.setPosition(width+1,0)\n",
    "    newImg.draw(window)"
   ]
  },
  {
   "cell_type": "code",
   "execution_count": null,
   "metadata": {},
   "outputs": [],
   "source": [
    "randomColors(\"butterfly.png\")"
   ]
  },
  {
   "cell_type": "markdown",
   "metadata": {},
   "source": [
    "# Homework 17"
   ]
  },
  {
   "cell_type": "code",
   "execution_count": null,
   "metadata": {},
   "outputs": [],
   "source": [
    "link = #Google drive link\n",
    "print(\"I wanted to submit everything all together in one file so if you click the this:\", link, \"it will take you to the actual python file\")"
   ]
  },
  {
   "cell_type": "markdown",
   "metadata": {},
   "source": [
    "### 6.23"
   ]
  },
  {
   "cell_type": "code",
   "execution_count": null,
   "metadata": {},
   "outputs": [],
   "source": [
    "import image\n",
    "import sys\n",
    "def scale_image(originalImage, scale):\n",
    "    \n",
    "    width  = originalImage.getWidth()\n",
    "    height = originalImage.getHeight()\n",
    "    \n",
    "    scaledImg = image.EmptyImage(width*scale, height*scale)    \n",
    "    for row in range(height):\n",
    "        for col in range(width):\n",
    "            \n",
    "            pixel = originalImage.getPixel(col, row)\n",
    "            \n",
    "            scaledImg.setPixel(scale*col,   scale*row, pixel)\n",
    "            scaledImg.setPixel(scale*col+1, scale*row, pixel)\n",
    "            scaledImg.setPixel(scale*col,   scale*row+1, pixel)\n",
    "            scaledImg.setPixel(scale*col+1, scale*row+1, pixel)\n",
    "    \n",
    "    return scaledImg\n",
    "\n",
    "def enlarge_image(fileName):\n",
    "    scale = sys.argv[0]\n",
    "    \n",
    "    originalImage = image.FileImage(fileName)\n",
    "    width = originalImage.getWidth()\n",
    "    height = originalImage.getHeight()\n",
    "    \n",
    "    scaledImg = scale_image(originalImage, scale)\n",
    "    scaledImg.setPosition(0, height+1)\n",
    "    \n",
    "    window = image.ImageWin(width * scale, height * 3, \"{}x bigger\".format(scale))\n",
    "    originalImage.draw(window)\n",
    "    scaledImg.draw(window)"
   ]
  },
  {
   "cell_type": "code",
   "execution_count": null,
   "metadata": {},
   "outputs": [],
   "source": [
    "enlarge_image(\"butterfly.png\")"
   ]
  },
  {
   "cell_type": "markdown",
   "metadata": {},
   "source": [
    "### 6.24"
   ]
  },
  {
   "cell_type": "code",
   "execution_count": null,
   "metadata": {},
   "outputs": [],
   "source": [
    "def reduce_size(fileName):\n",
    "    scale = sys.argv[0]\n",
    "    \n",
    "    originalImage = image.FileImage(fileName)\n",
    "    width = originalImage.getWidth() // scale\n",
    "    height = originalImage.getHeight() // scale\n",
    "    reducedImg = image.EmptyImage(width, height)\n",
    "    \n",
    "    for row in range(height):\n",
    "        for col in range(width):\n",
    "            pix1 = originalImage.getPixel(scale*col,   scale*row)\n",
    "            pix2 = originalImage.getPixel(scale*col+1, scale*row)\n",
    "            pix3 = originalImage.getPixel(scale*col,   scale*row+1)\n",
    "            pix4 = originalImage.getPixel(scale*col+1, scale*row+1)\n",
    "            red = (pix1.getRed() + pix2.getRed() + pix3.getRed() + pix4.getRed()) // 4\n",
    "            blue = (pix1.getBlue() + pix2.getBlue() + pix3.getBlue() + pix4.getBlue()) // 4\n",
    "            green = (pix1.getGreen() + pix2.getGreen() + pix3.getGreen() + pix4.getGreen()) // 4\n",
    "            reducedImg.setPixel(col,row,image.Pixel(red,green,blue))\n",
    "            \n",
    "    reducedImg.setPosition(0, height+1)\n",
    "    \n",
    "    window = image.ImageWin(width*scale, height*scale, \"{}x smaller\".format(scale)) # I am not sure on how to make them fit like the ones above, also this is mostly from the book, I can admit that what I tried did not work.\n",
    "    originalImage.draw(window)\n",
    "    reducedImg.draw(window)"
   ]
  },
  {
   "cell_type": "code",
   "execution_count": null,
   "metadata": {},
   "outputs": [],
   "source": [
    "reduce_size(\"butterfly.png\")"
   ]
  },
  {
   "cell_type": "code",
   "execution_count": null,
   "metadata": {},
   "outputs": [],
   "source": []
  }
 ],
 "metadata": {
  "kernelspec": {
   "display_name": "Python 3",
   "language": "python",
   "name": "python3"
  },
  "language_info": {
   "codemirror_mode": {
    "name": "ipython",
    "version": 3
   },
   "file_extension": ".py",
   "mimetype": "text/x-python",
   "name": "python",
   "nbconvert_exporter": "python",
   "pygments_lexer": "ipython3",
   "version": "3.8.9"
  }
 },
 "nbformat": 4,
 "nbformat_minor": 4
}
