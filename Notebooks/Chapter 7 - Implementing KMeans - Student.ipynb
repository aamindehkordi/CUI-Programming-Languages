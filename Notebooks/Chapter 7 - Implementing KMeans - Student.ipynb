{
 "cells": [
  {
   "cell_type": "markdown",
   "metadata": {},
   "source": [
    "# Data Mining: Cluster Analysis\n",
    "\n",
    "This lecture, we return to the study of Data Mining.\n",
    "\n",
    "Data Mining is the exploration, investigation, and analysis of data to find patterns and discover otherwise unknown relationships within the data. It usually invovles a combination of human intervention/intelligence and the use of any number of algorithms (many of them over and over again for a variety of different types of data).\n",
    "\n",
    "Many of these common alogorithms are also used for machine learning. But technically, data mining and machine learning are ***not*** the same thing. The difference is that data mining analyzes the data without making future predictions. Machine learning analyzes the data and then makes a prediction about what will happen in the future.\n",
    "\n",
    "For this chapter, we will be exploring Cluster Analysis and implementing the K-Means algorithms. Cluster Analysis is a type of problem that applies to both data mining and machine learning. K-Means is an algorithm that is used for data mining and machine learning. But we will be restricting our work to Data Mining.\n",
    "\n",
    "Let's start by reviewing the work from last class:"
   ]
  },
  {
   "cell_type": "code",
   "execution_count": null,
   "metadata": {},
   "outputs": [],
   "source": [
    "from math import sqrt\n",
    "\n",
    "def EuclidDist(point1, point2):\n",
    "\n",
    "    distance = 0\n",
    "    sum_of_dimensions = 0\n",
    "    for idx in range(len(point1)):\n",
    "        sum_of_dimensions += (point1[idx]-point2[idx])**2\n",
    "    distance = sqrt(sum_of_dimensions)\n",
    "    \n",
    "    return distance\n",
    "\n",
    "\n",
    "def FindClosestCentroid(point, centroid_list):\n",
    "    \n",
    "    # Create a list of distances to each of the different centroids\n",
    "    distance_to_centroid = []\n",
    "    for cluster_index in range(len(centroid_list)):\n",
    "        distance = EuclidDist(point, centroid_list[cluster_index])\n",
    "        distance_to_centroid.append(distance)\n",
    "        \n",
    "    # Which centroid is closest? Get its index\n",
    "    min_distance = min(distance_to_centroid)\n",
    "    closest_indx = distance_to_centroid.index(min_distance)\n",
    "    min_centroid = centroid_list[closest_indx]\n",
    "    #print(\"Point {} is closest to centroid #{} which is at location {}\".format(point, closest_indx+1, min_centroid))\n",
    "    \n",
    "    return closest_indx\n",
    "\n",
    "\n",
    "def InitEmptyClusters(k):\n",
    "    clusters = []\n",
    "    for i in range(k):\n",
    "        clusters.append([])\n",
    "    return clusters\n",
    "\n",
    "\n",
    "def AssignItemsToClosestCluster(data_list, centroid_list):\n",
    "    \n",
    "    # k should be the same as len(centroids)\n",
    "    cluster_list = InitEmptyClusters(len(centroid_list))\n",
    "        \n",
    "    # Step through each of the items and calculate its closest centroid\n",
    "    for key, data_point in data_list.items():\n",
    "\n",
    "        # Add this item's key to the cluster whose centroid is closest...\n",
    "        # ...this works because the 'centroid_list', 'distance_to_centroid', and 'cluster_list' are parallel\n",
    "        closest_indx = FindClosestCentroid(data_point, centroid_list)\n",
    "        cluster_list[closest_indx].append(key)\n",
    "    \n",
    "    return cluster_list"
   ]
  },
  {
   "cell_type": "code",
   "execution_count": null,
   "metadata": {},
   "outputs": [],
   "source": [
    "student_grades = {\"Alice\":(93, 88), \"Bob\":(55, 55), \"Charles\":(90, 87), \"Dave\":(63,57), \"Ellen\":(89,88), \n",
    "                  \"Frita\":(90,91), \"Grant\":(70,86), \"Heidi\":(98,96), \"Isabelle\":(77,87), \"Jack\":(80,94), \n",
    "                  \"Kate\":(60,86), \"Lisa\":(85,86), \"Mary\":(90,89), \"Nancy\":(63,58), \"Orville\":(88,61),\n",
    "                  \"Peter\":(95,58), \"Quinton\":(83,89), \"Ralph\":(57,65), \"Sally\":(67,65), \"Trent\":(62,62),\n",
    "                  \"Ursala\":(65,53), \"Violet\":(82,90), \"Wally\":(91,93), \"Xavier\":(81, 84), \"Yolanda\":(90, 63),\n",
    "                  \"Zack\":(85,56)}\n",
    "\n",
    "point = student_grades[\"Alice\"]\n",
    "\n",
    "centroid1 = (90, 90)\n",
    "centroid2 = (90, 60)\n",
    "centroid3 = (60, 60)\n",
    "centroids = [centroid1, centroid2, centroid3]\n",
    "\n",
    "clusters = AssignItemsToClosestCluster(student_grades, centroids)\n",
    "\n",
    "# You should be able to spot which centroid this point is closest to\n",
    "print(\"CENTROIDS: {}\".format(centroids))\n",
    "print(\"CLUSTER 0: {}\".format(clusters[0]))\n",
    "print(\"CLUSTER 1: {}\".format(clusters[1]))\n",
    "print(\"CLUSTER 2: {}\".format(clusters[2]))"
   ]
  },
  {
   "cell_type": "code",
   "execution_count": null,
   "metadata": {},
   "outputs": [],
   "source": []
  },
  {
   "cell_type": "markdown",
   "metadata": {},
   "source": [
    "## Choosing Initial Clusters\n",
    "\n",
    "In the last lecture, we learned how to assign each datapoint to its closest cluster by calculating the Euclidean Distance to each of the \"k\" centroids and choosing the shortest one. But how do we get the initial centroids? Up until this point, we used human intelligence and a little bit of guess work to choose the initial centroids. This is an important question and will affect the overall accuracy of our algorithm. There are any number of approaches that we can take: some techniques that are more complex and some techniques that are better than others.\n",
    "\n",
    "For class, we're going to use a fairly simple technique of choosing \"k\" unqiue random items from our dataset and using the coordinates of these items as our initial centroids. We won't be too choose in the random selection, but we need to avoid choosing the same item multiple times."
   ]
  },
  {
   "cell_type": "code",
   "execution_count": null,
   "metadata": {},
   "outputs": [],
   "source": [
    "import random\n",
    "import math\n",
    "\n",
    "\n",
    "def ChooseRandomCentroids(data, k):\n",
    "    \n",
    "    centroids = [] # our k centroids will go in here\n",
    "    used_keys = []\n",
    "    \n",
    "    # Keep looping until we have k number of centroids\n",
    "    while len(centroids) < k:\n",
    "        \n",
    "        # Choose a random key from the data AND MAKE SURE IT'S A UNIQUE CHOICE\n",
    "        key = random.choice(list(data.keys()))\n",
    "        if key not in used_keys:\n",
    "            print(\" Randomly chose {} {} as initial centroid\".format(key, data[key]))\n",
    "            centroids.append(data[key])\n",
    "            used_keys.append(key)\n",
    "        \n",
    "    return centroids\n",
    "\n",
    "\n",
    "# TESTING: Should return a list containing 3 different datapoints\n",
    "initial_centroids = ChooseRandomCentroids(student_grades, 3)"
   ]
  },
  {
   "cell_type": "code",
   "execution_count": null,
   "metadata": {},
   "outputs": [],
   "source": [
    "# Now that we have used the computer to choose our initial centroids, let's remake the clusters\n",
    "clusters = AssignItemsToClosestCluster(student_grades, initial_centroids)\n",
    "clusters"
   ]
  },
  {
   "cell_type": "markdown",
   "metadata": {},
   "source": [
    "## Recalculating Each Centroid\n",
    "\n",
    "We've finished two of the three main KMeans algorithms:\n",
    "1. Generate the Initial Centroids (using a random choice)\n",
    "2. Create the Clusters by assigning each datapoint to the nearest centroid\n",
    "\n",
    "The third main algorithm is to update the position of every centroid by calculating the center of each cluster. We calculate the center of each cluster using the mean of all the datapoints within the cluster. For our two-dimensional data, that means we calculate the average x-coordinate and the average y-coordinate. This means summing all of the x-coordinates in the cluster and then dividing by the number of datapoints in the cluster. We repeat for the y-coordinates.\n",
    "\n",
    "Let's start by calculate the new centroid location of a single cluster:"
   ]
  },
  {
   "cell_type": "code",
   "execution_count": null,
   "metadata": {},
   "outputs": [],
   "source": [
    "def CaclulateCentroidLocation(data, cluster, dimension_count):\n",
    "    \n",
    "    # Initialize this centroid to be all zeros    \n",
    "    # We typically use a tuple to store the coordinates of each centroid\n",
    "    # But we use a list in this case because list are mutable\n",
    "    # We'll convert it from the list back to a tuple later on\n",
    "    # Most of our data will be two-dimensional (x- and y-coordinates)\n",
    "    centroid = [0] * dimension_count\n",
    "    centroid = [0,0]\n",
    "    print(cluster)\n",
    "    \n",
    "    # Avoiding empty clusters that would cause a divide-by-zero error\n",
    "    if len(cluster) > 0:\n",
    "\n",
    "        # Go through the x-dimension and then y-dimension\n",
    "        # The code can handle more dimensions, if necesary\n",
    "        for idx in range(dimension_count):\n",
    "            \n",
    "            # Sum all of x-coordinates in this cluster (or y-coordinates)\n",
    "            # Then divide by the number of datapoints in the cluster to get the average\n",
    "            centroid[idx] = sum(data[cluster[i]][idx] for i in range(len(cluster)))  # SUM OF ALL POINTS[idx]\n",
    "            centroid[idx] /= len(cluster)  # Divide centroid[idx] by the # of points\n",
    "            \n",
    "    return tuple(centroid)"
   ]
  },
  {
   "cell_type": "markdown",
   "metadata": {},
   "source": [
    "## Recalculating All Centroids\n",
    "\n",
    "Now that we can calculate the center position of a single cluster, let's expand the algorithm to calculate the position of every cluster."
   ]
  },
  {
   "cell_type": "code",
   "execution_count": null,
   "metadata": {},
   "outputs": [],
   "source": [
    "def UpdateCentroidsKMeans(data, cluster_list):\n",
    "\n",
    "    # Determine how many dimensions our data has (it will be 2-D for simple problems)\n",
    "    artibrary_cluster = cluster_list[0]\n",
    "    arbitrary_key = artibrary_cluster[0]\n",
    "    dimension_count = len(data[arbitrary_key])\n",
    "\n",
    "    centroid_list = []\n",
    "\n",
    "    # CALCULATES A NEW CENTROID FOR EVERY ONE OF THE CLUSTERS\n",
    "    for cluster in cluster_list:\n",
    "        centroid_list.append(CaclulateCentroidLocation(data,cluster,dimension_count))\n",
    "\n",
    "    return centroid_list\n",
    "\n",
    "centroids = UpdateCentroidsKMeans(student_grades, clusters)\n",
    "centroids"
   ]
  },
  {
   "cell_type": "code",
   "execution_count": null,
   "metadata": {},
   "outputs": [],
   "source": []
  },
  {
   "cell_type": "markdown",
   "metadata": {},
   "source": [
    "## Plotting the Graph\n",
    "\n",
    "Let's write a function to visualize the results. This will help us to see how clusters are assigned and how the centroids move. We'll use two scatter plots: one for the datapoints and one for the centroids. We'll make both the same color, but the centroids will be slightly larger circles with a little bit of transparency.\n",
    "\n",
    "Our function should be generic so that it can be reused for other data. To support this, we'll pass in labels for the x-axis and y-axis in addition to the overall size of the plot."
   ]
  },
  {
   "cell_type": "code",
   "execution_count": null,
   "metadata": {
    "scrolled": false
   },
   "outputs": [],
   "source": [
    "import matplotlib.pyplot as plt\n",
    "\n",
    "def PlotClusters2D(data, cluster_list, centroid_list, color_list, x_label=None, y_label=None, inches=5):\n",
    "\n",
    "    plt.figure(figsize=(inches, inches))\n",
    "\n",
    "    data_x = [data[key][0] for cluster in cluster_list for key in cluster] # index 0 of student's grade\n",
    "    data_y = [data[key][1] for cluster in cluster_list for key in cluster] # index 1 of student's grade\n",
    "    data_c = [color_list[i] for i, cluster in enumerate(cluster_list) for key in cluster] # cluster_list, centroid_list, and color_list are parallel\n",
    "    #data_c = []\n",
    "    #for i in range(len(cluster_list)):\n",
    "    #    for key in cluster_list[i]:\n",
    "    #        data_c.append(color_list[i])\n",
    "            \n",
    "    plt.scatter(data_x, data_y, c=data_c) \n",
    "\n",
    "    centroids_x = [centroid[0] for centroid in centroid_list]\n",
    "    centroids_y = [centroid[1] for centroid in centroid_list]\n",
    "    centroids_c = color_list\n",
    "    plt.scatter(centroids_x, centroids_y, c=color_list, s=[1000, 1000, 1000], alpha=0.3)    \n",
    "\n",
    "    plt.xlabel(x_label, fontsize=16, labelpad=15)\n",
    "    plt.ylabel(y_label, fontsize=16, labelpad=15)\n",
    "\n",
    "    plt.show()\n",
    "    return\n",
    "\n",
    "\n",
    "colors = [\"royalblue\", \"forestgreen\", \"maroon\"]\n",
    "PlotClusters2D(student_grades, clusters, centroids, colors, \"Homework Scores\", \"Final Exam Scores\")"
   ]
  },
  {
   "cell_type": "code",
   "execution_count": null,
   "metadata": {},
   "outputs": [],
   "source": []
  },
  {
   "cell_type": "markdown",
   "metadata": {},
   "source": [
    "## Iterating Through \"K\" Means\n",
    "\n",
    "Do you remember how the K-Means algorithm works? We need repeatedly recalculate the location of each centroid (e.g., the statistical \"mean\") and reassign each datapoint to its proper cluster.\n",
    "\n",
    "Let's do it manually at first, plotting our progress. This algorithm starts using a random seed--the random choice of the first K centroids--so each time we run it, so we can run the code multiple times and get a different outcome from each one (some will appear to be more correct than others)."
   ]
  },
  {
   "cell_type": "code",
   "execution_count": null,
   "metadata": {
    "scrolled": false
   },
   "outputs": [],
   "source": [
    "k = 3\n",
    "colors = [\"royalblue\", \"forestgreen\", \"maroon\"]\n",
    "\n",
    "# The first time through we choose RANDOM centroids\n",
    "centroids = ChooseRandomCentroids(student_grades, k)\n",
    "clusters  = AssignItemsToClosestCluster(student_grades, centroids)\n",
    "centroids = UpdateCentroidsKMeans(student_grades, clusters)\n",
    "PlotClusters2D(student_grades, clusters, centroids, colors, \"Homework Scores\", \"Final Exam Scores\")\n",
    "\n",
    "# TODO: Each subsequent time through we CALCULATE centroids from the MEAN and plot the result\n"
   ]
  },
  {
   "cell_type": "code",
   "execution_count": null,
   "metadata": {},
   "outputs": [],
   "source": []
  },
  {
   "cell_type": "markdown",
   "metadata": {},
   "source": [
    "## Write a function to do it until stable\n",
    "\n",
    "Now that we've worked through the K-Means algorithm manually, let's write a function that will do it for us. In generally, we want to keep repeating the re-centering and cluster assignment steps until the clusters become stable. The clusters are stable when all of the datapoints remain in the same cluster for two rounds in a row. Unfortuantely, there are situations where the clusters never become stable. We'll need to have a cutoff at some point to stop the algorithm from running indefinetely."
   ]
  },
  {
   "cell_type": "code",
   "execution_count": null,
   "metadata": {
    "scrolled": false
   },
   "outputs": [],
   "source": [
    "def CreateKMeansClusters(k, data, colors, x_label=None, y_label=None, max_passes=10, show_debug=True):\n",
    "\n",
    "    # These two variables help us know when to finish the algorithm\n",
    "    stable_clusters = False\n",
    "    pass_count = 0\n",
    "    \n",
    "    # Choose our initial centroids\n",
    "    prev_centroids = ChooseRandomCentroids(student_grades, k)\n",
    "    \n",
    "    # Loop until the clusters are stable or we exceed the number of rounds\n",
    "    while stable_clusters == False and pass_count < max_passes:\n",
    "    \n",
    "        # Run a single round of the algorithm\n",
    "        clusters = AssignItemsToClosestCluster(student_grades, prev_centroids)\n",
    "        centroids = UpdateCentroidsKMeans(student_grades, clusters)\n",
    "\n",
    "        # Plot the results\n",
    "        if show_debug:\n",
    "            PlotClusters2D(data, clusters, centroids, colors, x_label, y_label)\n",
    "\n",
    "        # Check for stability and update variables\n",
    "        if prev_centroids == centroids:\n",
    "            stable_clusters = True\n",
    "        prev_centroids = centroids\n",
    "        pass_count += 1\n",
    "        \n",
    "        \n",
    "        \n",
    "    return (centroids, clusters)\n",
    "\n",
    "\n",
    "colors = [\"royalblue\", \"forestgreen\", \"maroon\"]\n",
    "CreateKMeansClusters(3, student_grades, colors, \"Homework Scores\", \"Final Exam Scores\")"
   ]
  },
  {
   "cell_type": "code",
   "execution_count": null,
   "metadata": {},
   "outputs": [],
   "source": []
  },
  {
   "cell_type": "code",
   "execution_count": 3,
   "metadata": {},
   "outputs": [
    {
     "name": "stdout",
     "output_type": "stream",
     "text": [
      " Randomly chose Charles (90, 87) as initial centroid\n",
      " Randomly chose Frita (90, 91) as initial centroid\n",
      " Randomly chose Lisa (85, 86) as initial centroid\n",
      "['Alice', 'Charles', 'Ellen', 'Mary', 'Peter']\n",
      "['Frita', 'Heidi', 'Wally']\n",
      "['Bob', 'Dave', 'Grant', 'Isabelle', 'Jack', 'Kate', 'Lisa', 'Nancy', 'Orville', 'Quinton', 'Ralph', 'Sally', 'Trent', 'Ursala', 'Violet', 'Xavier', 'Yolanda', 'Zack']\n"
     ]
    },
    {
     "data": {
      "image/png": "[encoded data removed]",
      "text/plain": [
       "<Figure size 360x360 with 1 Axes>"
      ]
     },
     "metadata": {
      "needs_background": "light"
     },
     "output_type": "display_data"
    },
    {
     "name": "stdout",
     "output_type": "stream",
     "text": [
      "['Charles', 'Ellen', 'Isabelle', 'Lisa', 'Peter', 'Xavier', 'Yolanda']\n",
      "['Alice', 'Frita', 'Heidi', 'Jack', 'Mary', 'Quinton', 'Violet', 'Wally']\n",
      "['Bob', 'Dave', 'Grant', 'Kate', 'Nancy', 'Orville', 'Ralph', 'Sally', 'Trent', 'Ursala', 'Zack']\n"
     ]
    },
    {
     "data": {
      "image/png": "[encoded data removed]",
      "text/plain": [
       "<Figure size 360x360 with 1 Axes>"
      ]
     },
     "metadata": {
      "needs_background": "light"
     },
     "output_type": "display_data"
    },
    {
     "name": "stdout",
     "output_type": "stream",
     "text": [
      "['Grant', 'Orville', 'Peter', 'Xavier', 'Yolanda']\n",
      "['Alice', 'Charles', 'Ellen', 'Frita', 'Heidi', 'Isabelle', 'Jack', 'Lisa', 'Mary', 'Quinton', 'Violet', 'Wally']\n",
      "['Bob', 'Dave', 'Kate', 'Nancy', 'Ralph', 'Sally', 'Trent', 'Ursala', 'Zack']\n"
     ]
    },
    {
     "data": {
      "image/png": "[encoded data removed]",
      "text/plain": [
       "<Figure size 360x360 with 1 Axes>"
      ]
     },
     "metadata": {
      "needs_background": "light"
     },
     "output_type": "display_data"
    },
    {
     "name": "stdout",
     "output_type": "stream",
     "text": [
      "['Orville', 'Peter', 'Yolanda', 'Zack']\n",
      "['Alice', 'Charles', 'Ellen', 'Frita', 'Grant', 'Heidi', 'Isabelle', 'Jack', 'Lisa', 'Mary', 'Quinton', 'Violet', 'Wally', 'Xavier']\n",
      "['Bob', 'Dave', 'Kate', 'Nancy', 'Ralph', 'Sally', 'Trent', 'Ursala']\n"
     ]
    },
    {
     "data": {
      "image/png": "[encoded data removed]",
      "text/plain": [
       "<Figure size 360x360 with 1 Axes>"
      ]
     },
     "metadata": {
      "needs_background": "light"
     },
     "output_type": "display_data"
    },
    {
     "name": "stdout",
     "output_type": "stream",
     "text": [
      "['Orville', 'Peter', 'Yolanda', 'Zack']\n",
      "['Alice', 'Charles', 'Ellen', 'Frita', 'Grant', 'Heidi', 'Isabelle', 'Jack', 'Lisa', 'Mary', 'Quinton', 'Violet', 'Wally', 'Xavier']\n",
      "['Bob', 'Dave', 'Kate', 'Nancy', 'Ralph', 'Sally', 'Trent', 'Ursala']\n"
     ]
    },
    {
     "data": {
      "image/png": "[encoded data removed]",
      "text/plain": [
       "<Figure size 360x360 with 1 Axes>"
      ]
     },
     "metadata": {
      "needs_background": "light"
     },
     "output_type": "display_data"
    },
    {
     "data": {
      "text/plain": [
       "([(89.5, 59.5), (85.64285714285714, 89.14285714285714), (61.5, 62.625)],\n",
       " [['Orville', 'Peter', 'Yolanda', 'Zack'],\n",
       "  ['Alice',\n",
       "   'Charles',\n",
       "   'Ellen',\n",
       "   'Frita',\n",
       "   'Grant',\n",
       "   'Heidi',\n",
       "   'Isabelle',\n",
       "   'Jack',\n",
       "   'Lisa',\n",
       "   'Mary',\n",
       "   'Quinton',\n",
       "   'Violet',\n",
       "   'Wally',\n",
       "   'Xavier'],\n",
       "  ['Bob', 'Dave', 'Kate', 'Nancy', 'Ralph', 'Sally', 'Trent', 'Ursala']])"
      ]
     },
     "execution_count": 3,
     "metadata": {},
     "output_type": "execute_result"
    }
   ],
   "source": [
    "from math import sqrt\n",
    "import random\n",
    "import matplotlib.pyplot as plt\n",
    "\n",
    "\n",
    "def EuclidDist(point1, point2):\n",
    "\n",
    "    distance = 0\n",
    "    sum_of_dimensions = 0\n",
    "    for idx in range(len(point1)):\n",
    "        sum_of_dimensions += (point1[idx]-point2[idx])**2\n",
    "    distance = sqrt(sum_of_dimensions)\n",
    "    \n",
    "    return distance\n",
    "\n",
    "\n",
    "def FindClosestCentroid(point, centroid_list):\n",
    "    \n",
    "    # Create a list of distances to each of the different centroids\n",
    "    distance_to_centroid = []\n",
    "    for cluster_index in range(len(centroid_list)):\n",
    "        distance = EuclidDist(point, centroid_list[cluster_index])\n",
    "        distance_to_centroid.append(distance)\n",
    "        \n",
    "    # Which centroid is closest? Get its index\n",
    "    min_distance = min(distance_to_centroid)\n",
    "    closest_indx = distance_to_centroid.index(min_distance)\n",
    "    min_centroid = centroid_list[closest_indx]\n",
    "    #print(\"Point {} is closest to centroid #{} which is at location {}\".format(point, closest_indx+1, min_centroid))\n",
    "    \n",
    "    return closest_indx\n",
    "\n",
    "\n",
    "def InitEmptyClusters(k):\n",
    "    clusters = []\n",
    "    for i in range(k):\n",
    "        clusters.append([])\n",
    "    return clusters\n",
    "\n",
    "\n",
    "def AssignItemsToClosestCluster(data_list, centroid_list):\n",
    "    \n",
    "    # k should be the same as len(centroids)\n",
    "    cluster_list = InitEmptyClusters(len(centroid_list))\n",
    "        \n",
    "    # Step through each of the items and calculate its closest centroid\n",
    "    for key, data_point in data_list.items():\n",
    "\n",
    "        # Add this item's key to the cluster whose centroid is closest...\n",
    "        # ...this works because the 'centroid_list', 'distance_to_centroid', and 'cluster_list' are parallel\n",
    "        closest_indx = FindClosestCentroid(data_point, centroid_list)\n",
    "        cluster_list[closest_indx].append(key)\n",
    "    \n",
    "    return cluster_list\n",
    "    \n",
    "def ChooseRandomCentroids(data, k):\n",
    "    \n",
    "    centroids = [] # our k centroids will go in here\n",
    "    used_keys = []\n",
    "    \n",
    "    # Keep looping until we have k number of centroids\n",
    "    while len(centroids) < k:\n",
    "        \n",
    "        # Choose a random key from the data AND MAKE SURE IT'S A UNIQUE CHOICE\n",
    "        key = random.choice(list(data.keys()))\n",
    "        if key not in used_keys:\n",
    "            print(\" Randomly chose {} {} as initial centroid\".format(key, data[key]))\n",
    "            centroids.append(data[key])\n",
    "            used_keys.append(key)\n",
    "        \n",
    "    return centroids\n",
    "    \n",
    "def CaclulateCentroidLocation(data, cluster, dimension_count):\n",
    "    \n",
    "    # Initialize this centroid to be all zeros    \n",
    "    # We typically use a tuple to store the coordinates of each centroid\n",
    "    # But we use a list in this case because list are mutable\n",
    "    # We'll convert it from the list back to a tuple later on\n",
    "    # Most of our data will be two-dimensional (x- and y-coordinates)\n",
    "    centroid = [0] * dimension_count\n",
    "    centroid = [0,0]\n",
    "    print(cluster)\n",
    "    \n",
    "    # Avoiding empty clusters that would cause a divide-by-zero error\n",
    "    if len(cluster) > 0:\n",
    "\n",
    "        # Go through the x-dimension and then y-dimension\n",
    "        # The code can handle more dimensions, if necesary\n",
    "        for idx in range(dimension_count):\n",
    "            \n",
    "            # Sum all of x-coordinates in this cluster (or y-coordinates)\n",
    "            # Then divide by the number of datapoints in the cluster to get the average\n",
    "            centroid[idx] = sum(data[cluster[i]][idx] for i in range(len(cluster)))  # SUM OF ALL POINTS[idx]\n",
    "            centroid[idx] /= len(cluster)  # Divide centroid[idx] by the # of points\n",
    "            \n",
    "    return tuple(centroid)\n",
    "    \n",
    "def UpdateCentroidsKMeans(data, cluster_list):\n",
    "\n",
    "    # Determine how many dimensions our data has (it will be 2-D for simple problems)\n",
    "    artibrary_cluster = cluster_list[0]\n",
    "    arbitrary_key = artibrary_cluster[0]\n",
    "    dimension_count = len(data[arbitrary_key])\n",
    "\n",
    "    centroid_list = []\n",
    "\n",
    "    # CALCULATES A NEW CENTROID FOR EVERY ONE OF THE CLUSTERS\n",
    "    for cluster in cluster_list:\n",
    "        centroid_list.append(CaclulateCentroidLocation(data,cluster,dimension_count))\n",
    "\n",
    "    return centroid_list\n",
    "    \n",
    "def PlotClusters2D(data, cluster_list, centroid_list, color_list, x_label=None, y_label=None, inches=5):\n",
    "\n",
    "    plt.figure(figsize=(inches, inches))\n",
    "\n",
    "    data_x = [data[key][0] for cluster in cluster_list for key in cluster] # index 0 of student's grade\n",
    "    data_y = [data[key][1] for cluster in cluster_list for key in cluster] # index 1 of student's grade\n",
    "    data_c = [color_list[i] for i, cluster in enumerate(cluster_list) for key in cluster] # cluster_list, centroid_list, and color_list are parallel\n",
    "    #data_c = []\n",
    "    #for i in range(len(cluster_list)):\n",
    "    #    for key in cluster_list[i]:\n",
    "    #        data_c.append(color_list[i])\n",
    "            \n",
    "    plt.scatter(data_x, data_y, c=data_c) \n",
    "\n",
    "    centroids_x = [centroid[0] for centroid in centroid_list]\n",
    "    centroids_y = [centroid[1] for centroid in centroid_list]\n",
    "    centroids_c = color_list\n",
    "    plt.scatter(centroids_x, centroids_y, c=color_list, s=[1000, 1000, 1000], alpha=0.3)    \n",
    "\n",
    "    plt.xlabel(x_label, fontsize=16, labelpad=15)\n",
    "    plt.ylabel(y_label, fontsize=16, labelpad=15)\n",
    "\n",
    "    plt.show()\n",
    "    return\n",
    "    \n",
    "def CreateKMeansClusters(k, data, colors, x_label=None, y_label=None, max_passes=10, show_debug=True):\n",
    "\n",
    "    # These two variables help us know when to finish the algorithm\n",
    "    stable_clusters = False\n",
    "    pass_count = 0\n",
    "    \n",
    "    # Choose our initial centroids\n",
    "    prev_centroids = ChooseRandomCentroids(student_grades, k)\n",
    "    \n",
    "    # Loop until the clusters are stable or we exceed the number of rounds\n",
    "    while stable_clusters == False and pass_count < max_passes:\n",
    "    \n",
    "        # Run a single round of the algorithm\n",
    "        clusters = AssignItemsToClosestCluster(student_grades, prev_centroids)\n",
    "        centroids = UpdateCentroidsKMeans(student_grades, clusters)\n",
    "\n",
    "        # Plot the results\n",
    "        if show_debug:\n",
    "            PlotClusters2D(data, clusters, centroids, colors, x_label, y_label)\n",
    "\n",
    "        # Check for stability and update variables\n",
    "        if prev_centroids == centroids:\n",
    "            stable_clusters = True\n",
    "        prev_centroids = centroids\n",
    "        pass_count += 1\n",
    "        \n",
    "        \n",
    "        \n",
    "    return (centroids, clusters)\n",
    "\n",
    "student_grades = {\"Alice\":(93, 88), \"Bob\":(55, 55), \"Charles\":(90, 87), \"Dave\":(63,57), \"Ellen\":(89,88), \n",
    "                  \"Frita\":(90,91), \"Grant\":(70,86), \"Heidi\":(98,96), \"Isabelle\":(77,87), \"Jack\":(80,94), \n",
    "                  \"Kate\":(60,86), \"Lisa\":(85,86), \"Mary\":(90,89), \"Nancy\":(63,58), \"Orville\":(88,61),\n",
    "                  \"Peter\":(95,58), \"Quinton\":(83,89), \"Ralph\":(57,65), \"Sally\":(67,65), \"Trent\":(62,62),\n",
    "                  \"Ursala\":(65,53), \"Violet\":(82,90), \"Wally\":(91,93), \"Xavier\":(81, 84), \"Yolanda\":(90, 63),\n",
    "                  \"Zack\":(85,56)}\n",
    "\n",
    "colors = [\"royalblue\", \"forestgreen\", \"maroon\"]\n",
    "CreateKMeansClusters(3, student_grades, colors, \"Homework Scores\", \"Final Exam Scores\")"
   ]
  },
  {
   "cell_type": "code",
   "execution_count": null,
   "metadata": {},
   "outputs": [],
   "source": []
  }
 ],
 "metadata": {
  "kernelspec": {
   "display_name": "Python 3",
   "language": "python",
   "name": "python3"
  },
  "language_info": {
   "codemirror_mode": {
    "name": "ipython",
    "version": 3
   },
   "file_extension": ".py",
   "mimetype": "text/x-python",
   "name": "python",
   "nbconvert_exporter": "python",
   "pygments_lexer": "ipython3",
   "version": "3.8.3"
  }
 },
 "nbformat": 4,
 "nbformat_minor": 2
}
