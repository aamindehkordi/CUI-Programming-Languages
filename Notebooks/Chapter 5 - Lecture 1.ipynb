{
 "cells": [
  {
   "cell_type": "markdown",
   "metadata": {},
   "source": [
    "# Mini Project #1: Word Count Program\n",
    "\n",
    "There is a well-known unix program called `wc` (word count) that counts the numbers of lines and words in a text file. We are going to write our own version of this tool in python. Here is an example of your mini-project (this won't run on your computer because you haven't written the `wc` module yet:"
   ]
  },
  {
   "cell_type": "code",
   "execution_count": 1,
   "metadata": {},
   "outputs": [
    {
     "ename": "ModuleNotFoundError",
     "evalue": "No module named 'wc'",
     "output_type": "error",
     "traceback": [
      "\u001b[1;31m---------------------------------------------------------------------------\u001b[0m",
      "\u001b[1;31mModuleNotFoundError\u001b[0m                       Traceback (most recent call last)",
      "\u001b[1;32m<ipython-input-1-fe3f161ae081>\u001b[0m in \u001b[0;36m<module>\u001b[1;34m\u001b[0m\n\u001b[1;32m----> 1\u001b[1;33m \u001b[1;32mimport\u001b[0m \u001b[0mwc\u001b[0m\u001b[1;33m\u001b[0m\u001b[1;33m\u001b[0m\u001b[0m\n\u001b[0m\u001b[0;32m      2\u001b[0m \u001b[1;32mfrom\u001b[0m \u001b[0mimportlib\u001b[0m \u001b[1;32mimport\u001b[0m \u001b[0mreload\u001b[0m\u001b[1;33m\u001b[0m\u001b[1;33m\u001b[0m\u001b[0m\n\u001b[0;32m      3\u001b[0m \u001b[0mreload\u001b[0m\u001b[1;33m(\u001b[0m\u001b[0mwc\u001b[0m\u001b[1;33m)\u001b[0m\u001b[1;33m\u001b[0m\u001b[1;33m\u001b[0m\u001b[0m\n\u001b[0;32m      4\u001b[0m \u001b[1;33m\u001b[0m\u001b[0m\n\u001b[0;32m      5\u001b[0m \u001b[0mwc\u001b[0m\u001b[1;33m.\u001b[0m\u001b[0mtext_file_stats\u001b[0m\u001b[1;33m(\u001b[0m\u001b[1;34m\"earthquakes.csv\"\u001b[0m\u001b[1;33m)\u001b[0m\u001b[1;33m\u001b[0m\u001b[1;33m\u001b[0m\u001b[0m\n",
      "\u001b[1;31mModuleNotFoundError\u001b[0m: No module named 'wc'"
     ]
    }
   ],
   "source": [
    "import wc\n",
    "from importlib import reload\n",
    "reload(wc)\n",
    "\n",
    "wc.text_file_stats(\"earthquakes.csv\")"
   ]
  },
  {
   "attachments": {
    "histogram.png": {
     "image/png": "[encoded data removed]"
    }
   },
   "cell_type": "markdown",
   "metadata": {},
   "source": [
    "# Mini Project #2: Histrogram a Column in a CSV File\n",
    "\n",
    "We already know how to create histograms for hardcoded data using matplotlib. Let's create a histogram for an arbitrary column in a CSV file.\n",
    "\n",
    "![histogram.png](attachment:histogram.png)"
   ]
  },
  {
   "cell_type": "markdown",
   "metadata": {},
   "source": [
    "## Reading Simple Text Files\n",
    "\n",
    "Here is a traditional method for writing and reading text files"
   ]
  },
  {
   "cell_type": "code",
   "execution_count": 2,
   "metadata": {},
   "outputs": [
    {
     "name": "stdout",
     "output_type": "stream",
     "text": [
      "This code-snippet creates a text file holding rainfall data for 25 cities in Iowa\n",
      "Remember to close your file!\n",
      "DONE\n"
     ]
    }
   ],
   "source": [
    "# Writing simple text files\n",
    "\n",
    "print(\"This code-snippet creates a text file holding rainfall data for 25 cities in Iowa\")\n",
    "f = open(\"rainfall.txt\", \"w\")\n",
    "f.write(\"Akron 25.81\\n\")\n",
    "f.write(\"Albia 37.65\\n\")\n",
    "f.write(\"Algona 30.69\\n\")\n",
    "f.write(\"Allison 33.64\\n\")\n",
    "f.write(\"Alton 27.43\\n\")\n",
    "f.write(\"AmesW 34.07\\n\")\n",
    "f.write(\"AmesSE 33.95\\n\")\n",
    "f.write(\"Anamosa 35.33\\n\")\n",
    "f.write(\"Ankeny 33.38\\n\")\n",
    "f.write(\"Atlantic 34.77\\n\")\n",
    "f.write(\"Audubon 33.41\\n\")\n",
    "f.write(\"Beaconsfield 35.27\\n\")\n",
    "f.write(\"Bedford 36.35\\n\")\n",
    "f.write(\"BellePlaine 35.81\\n\")\n",
    "f.write(\"Bellevue 34.35\\n\")\n",
    "f.write(\"Blockton 36.28\\n\")\n",
    "f.write(\"Bloomfield 38.02\\n\")\n",
    "f.write(\"Boone 36.30\\n\")\n",
    "f.write(\"Brighton 33.59\\n\")\n",
    "f.write(\"Britt 31.54\\n\")\n",
    "f.write(\"Buckeye 33.66\\n\")\n",
    "f.write(\"BurlingtonKBUR 37.9\\n4\")\n",
    "f.write(\"Burlington 36.94\\n\")\n",
    "f.write(\"Carroll 33.33\\n\")\n",
    "f.write(\"Cascade 33.48\\n\")\n",
    "f.close()\n",
    "print(\"Remember to close your file!\")\n",
    "print(\"DONE\")"
   ]
  },
  {
   "cell_type": "code",
   "execution_count": 3,
   "metadata": {},
   "outputs": [
    {
     "name": "stdout",
     "output_type": "stream",
     "text": [
      "Akron had 25.81 inches of rain.\n",
      "Albia had 37.65 inches of rain.\n",
      "Algona had 30.69 inches of rain.\n",
      "Allison had 33.64 inches of rain.\n",
      "Alton had 27.43 inches of rain.\n",
      "AmesW had 34.07 inches of rain.\n",
      "AmesSE had 33.95 inches of rain.\n",
      "Anamosa had 35.33 inches of rain.\n",
      "Ankeny had 33.38 inches of rain.\n",
      "Atlantic had 34.77 inches of rain.\n",
      "Audubon had 33.41 inches of rain.\n",
      "Beaconsfield had 35.27 inches of rain.\n",
      "Bedford had 36.35 inches of rain.\n",
      "BellePlaine had 35.81 inches of rain.\n",
      "Bellevue had 34.35 inches of rain.\n",
      "Blockton had 36.28 inches of rain.\n",
      "Bloomfield had 38.02 inches of rain.\n",
      "Boone had 36.30 inches of rain.\n",
      "Brighton had 33.59 inches of rain.\n",
      "Britt had 31.54 inches of rain.\n",
      "Buckeye had 33.66 inches of rain.\n",
      "BurlingtonKBUR had 37.9 inches of rain.\n",
      "4Burlington had 36.94 inches of rain.\n",
      "Carroll had 33.33 inches of rain.\n",
      "Cascade had 33.48 inches of rain.\n",
      "DONE\n"
     ]
    }
   ],
   "source": [
    "# Reading simple text files\n",
    "\n",
    "f = open(\"rainfall.txt\", \"r\")\n",
    "for line in f:\n",
    "    line = line.strip(\"\\n\")\n",
    "    fields = line.split()\n",
    "    print(fields[0], \"had\", fields[1], \"inches of rain.\")\n",
    "f.close\n",
    "print(\"DONE\")"
   ]
  },
  {
   "cell_type": "markdown",
   "metadata": {},
   "source": [
    "## Pythonic Way to Access Text Files"
   ]
  },
  {
   "cell_type": "code",
   "execution_count": 4,
   "metadata": {},
   "outputs": [
    {
     "name": "stdout",
     "output_type": "stream",
     "text": [
      "Akron had 25.81 inches of rain.\n",
      "Albia had 37.65 inches of rain.\n",
      "Algona had 30.69 inches of rain.\n",
      "Allison had 33.64 inches of rain.\n",
      "Alton had 27.43 inches of rain.\n",
      "AmesW had 34.07 inches of rain.\n",
      "AmesSE had 33.95 inches of rain.\n",
      "Anamosa had 35.33 inches of rain.\n",
      "Ankeny had 33.38 inches of rain.\n",
      "Atlantic had 34.77 inches of rain.\n",
      "Audubon had 33.41 inches of rain.\n",
      "Beaconsfield had 35.27 inches of rain.\n",
      "Bedford had 36.35 inches of rain.\n",
      "BellePlaine had 35.81 inches of rain.\n",
      "Bellevue had 34.35 inches of rain.\n",
      "Blockton had 36.28 inches of rain.\n",
      "Bloomfield had 38.02 inches of rain.\n",
      "Boone had 36.30 inches of rain.\n",
      "Brighton had 33.59 inches of rain.\n",
      "Britt had 31.54 inches of rain.\n",
      "Buckeye had 33.66 inches of rain.\n",
      "BurlingtonKBUR had 37.9 inches of rain.\n",
      "4Burlington had 36.94 inches of rain.\n",
      "Carroll had 33.33 inches of rain.\n",
      "Cascade had 33.48 inches of rain.\n"
     ]
    }
   ],
   "source": [
    "# One line at a time using for-loop\n",
    "\n",
    "with open(\"rainfall.txt\", \"r\") as f:\n",
    "    for line in f:\n",
    "        line = line.strip(\"\\n\")\n",
    "        fields = line.split()\n",
    "        print(fields[0], \"had\", fields[1], \"inches of rain.\")"
   ]
  },
  {
   "cell_type": "code",
   "execution_count": 5,
   "metadata": {},
   "outputs": [
    {
     "name": "stdout",
     "output_type": "stream",
     "text": [
      "Akron 25.81\n",
      "Albia 37.65\n",
      "Algona 30.69\n",
      "Allison 33.64\n",
      "Alton 27.43\n",
      "AmesW 34.07\n",
      "AmesSE 33.95\n",
      "Anamosa 35.33\n",
      "Ankeny 33.38\n",
      "Atlantic 34.77\n",
      "Audubon 33.41\n",
      "Beaconsfield 35.27\n",
      "Bedford 36.35\n",
      "BellePlaine 35.81\n",
      "Bellevue 34.35\n",
      "Blockton 36.28\n",
      "Bloomfield 38.02\n",
      "Boone 36.30\n",
      "Brighton 33.59\n",
      "Britt 31.54\n",
      "Buckeye 33.66\n",
      "BurlingtonKBUR 37.9\n",
      "4Burlington 36.94\n",
      "Carroll 33.33\n",
      "Cascade 33.48\n",
      "\n"
     ]
    }
   ],
   "source": [
    "# All at once with the read() function\n",
    "\n",
    "with open(\"rainfall.txt\", \"r\") as f:\n",
    "    print(f.read())"
   ]
  },
  {
   "cell_type": "code",
   "execution_count": 6,
   "metadata": {},
   "outputs": [
    {
     "name": "stdout",
     "output_type": "stream",
     "text": [
      "['Akron 25.81\\n', 'Albia 37.65\\n', 'Algona 30.69\\n', 'Allison 33.64\\n', 'Alton 27.43\\n', 'AmesW 34.07\\n', 'AmesSE 33.95\\n', 'Anamosa 35.33\\n', 'Ankeny 33.38\\n', 'Atlantic 34.77\\n', 'Audubon 33.41\\n', 'Beaconsfield 35.27\\n', 'Bedford 36.35\\n', 'BellePlaine 35.81\\n', 'Bellevue 34.35\\n', 'Blockton 36.28\\n', 'Bloomfield 38.02\\n', 'Boone 36.30\\n', 'Brighton 33.59\\n', 'Britt 31.54\\n', 'Buckeye 33.66\\n', 'BurlingtonKBUR 37.9\\n', '4Burlington 36.94\\n', 'Carroll 33.33\\n', 'Cascade 33.48\\n']\n"
     ]
    }
   ],
   "source": [
    "# All the lines at once with readlines() function\n",
    "\n",
    "with open(\"rainfall.txt\", \"r\") as f:\n",
    "    dataList = f.readlines()\n",
    "    print(dataList)"
   ]
  },
  {
   "cell_type": "code",
   "execution_count": 7,
   "metadata": {},
   "outputs": [],
   "source": [
    "# Reading and writing at the same time (centimeters = 2.54 inches)\n",
    "\n",
    "with open(\"rainfall_cm.txt\", \"w\") as out_file:\n",
    "    with open(\"rainfall.txt\", \"r\") as in_file:\n",
    "        for line in in_file:\n",
    "            fields = line.split()\n",
    "            inches = float(fields[1]) # converting the string to a decimal number\n",
    "            cm = 2.54 * inches\n",
    "            out_file.write(fields[0] + \" \" + str(cm) + \"\\n\")"
   ]
  },
  {
   "cell_type": "markdown",
   "metadata": {},
   "source": [
    "## Mini Project\n",
    "\n",
    "Write a function that calculates the number of words in a text file. I will be asking somebody to present their answer.\n",
    "\n",
    "```\n",
    "def word_count(filename):\n",
    "    pass\n",
    "\n",
    "\n",
    "word_count(\"earthquakes.csv\")\n",
    "    There are 84250 words in 'earthquakes.csv'\n",
    "```"
   ]
  },
  {
   "cell_type": "code",
   "execution_count": null,
   "metadata": {},
   "outputs": [],
   "source": []
  },
  {
   "cell_type": "markdown",
   "metadata": {},
   "source": [
    "## Formatting Output"
   ]
  },
  {
   "cell_type": "code",
   "execution_count": 8,
   "metadata": {},
   "outputs": [
    {
     "name": "stdout",
     "output_type": "stream",
     "text": [
      "Lake Arrowhead : 35.12345 inches of rain\n",
      "Irvine : 13 inches of rain\n",
      "\n",
      "Lake Arrowhead : 35.12345 inches of rain\n",
      "Irvine : 13 inches of rain\n"
     ]
    }
   ],
   "source": [
    "rain_stats = [{\"city\":\"Lake Arrowhead\", \"rainfall\":35.12345}, {\"city\":\"Irvine\", \"rainfall\":13}]\n",
    "\n",
    "for stats in rain_stats:\n",
    "    print(stats[\"city\"], \":\", stats[\"rainfall\"], \"inches of rain\")\n",
    "print()\n",
    "\n",
    "# Number in braces is the argument number (0 - city, 1 - rain, ...)\n",
    "# Numbers after the colon are the minimimum width (2) and the precision (.2) with the f showing this is a float\n",
    "for stats in rain_stats:\n",
    "    print(\"{0} : {1} inches of rain\".format(stats[\"city\"], stats[\"rainfall\"]))"
   ]
  },
  {
   "cell_type": "code",
   "execution_count": 9,
   "metadata": {},
   "outputs": [
    {
     "name": "stdout",
     "output_type": "stream",
     "text": [
      "Lake Arrowhead : 35.12345 inches of rain\n",
      "Irvine : 13 inches of rain\n"
     ]
    }
   ],
   "source": [
    "# you can use keys from a dictionary if you pass the dictionary with **\n",
    "for stats in rain_stats:\n",
    "    print(\"{0} : {1} inches of rain\".format(stats[\"city\"], stats[\"rainfall\"]))"
   ]
  },
  {
   "cell_type": "code",
   "execution_count": 10,
   "metadata": {},
   "outputs": [
    {
     "name": "stdout",
     "output_type": "stream",
     "text": [
      "My daughter is reading Ann of Green Gables            by Lucy Maud Montgomery\n"
     ]
    }
   ],
   "source": [
    "# center ^\n",
    "# left   <\n",
    "# right  >\n",
    "\n",
    "title = \"Ann of Green Gables\"\n",
    "author = \"Lucy Maud Montgomery\"\n",
    "print(\"My daughter is reading {0:30} by {1}\".format(title, author))"
   ]
  },
  {
   "cell_type": "code",
   "execution_count": null,
   "metadata": {},
   "outputs": [],
   "source": []
  },
  {
   "cell_type": "markdown",
   "metadata": {},
   "source": [
    "## Reading CSV Files"
   ]
  },
  {
   "cell_type": "code",
   "execution_count": 11,
   "metadata": {},
   "outputs": [
    {
     "name": "stdout",
     "output_type": "stream",
     "text": [
      "['time', 'latitude', 'longitude', 'depth', 'mag', 'magType', 'nst', 'gap', 'dmin', 'rms', 'net', 'id', 'updated', 'place', 'type', 'horizontalError', 'depthError', 'magError', 'magNst', 'status', 'locationSource', 'magSource']\n",
      "['2020-05-03T23:05:51.730Z', '33.4995', '-116.7885', '6.61', '0.75', 'ml', '33', '33', '0.07841', '0.24', 'ci', 'ci38478466', '2020-05-03T23:09:39.762Z', '10km NE of Aguanga, CA', 'earthquake', '0.29', '0.91', '0.102', '22', 'automatic', 'ci', 'ci']\n",
      "['2020-05-03T22:48:46.593Z', '36.88150406', '-97.45597839', '5', '2.52', 'ml', '68', '108.4796371', '0.1322916746', '0.7309696306', 'ok', 'ok2020isma', '2020-05-03T22:53:06.561Z', '17km WNW of Blackwell, Oklahoma', 'earthquake', '1.862505627', '', '', '51', 'automatic', 'ok', 'ok']\n",
      "['2020-05-03T22:29:11.580Z', '38.8233337', '-122.762001', '2.27', '0.56', 'md', '11', '194', '0.009433', '0.03', 'nc', 'nc73379895', '2020-05-03T22:43:03.590Z', '3km W of Cobb, CA', 'earthquake', '0.45', '0.64', '', '1', 'automatic', 'nc', 'nc']\n",
      "['2020-05-03T22:21:30.078Z', '60.1142', '-152.591', '88.1', '1.7', 'ml', '', '', '', '0.46', 'ak', 'ak0205pfv4wn', '2020-05-03T22:32:08.651Z', '42km SSE of Redoubt Volcano, Alaska', 'earthquake', '', '0.5', '', '', 'automatic', 'ak', 'ak']\n"
     ]
    }
   ],
   "source": [
    "import csv\n",
    "with open(\"earthquakes.csv\", \"r\") as csv_object:\n",
    "    csv_reader = csv.reader(csv_object)\n",
    "    line = next(csv_reader)\n",
    "    print(line)\n",
    "    line = next(csv_reader)\n",
    "    print(line)\n",
    "    line = next(csv_reader)\n",
    "    print(line)\n",
    "    line = next(csv_reader)\n",
    "    print(line)\n",
    "    line = next(csv_reader)\n",
    "    print(line)    "
   ]
  },
  {
   "cell_type": "code",
   "execution_count": 12,
   "metadata": {},
   "outputs": [
    {
     "name": "stdout",
     "output_type": "stream",
     "text": [
      "LINE 0: ['time', 'latitude', 'longitude', 'depth', 'mag', 'magType', 'nst', 'gap', 'dmin', 'rms', 'net', 'id', 'updated', 'place', 'type', 'horizontalError', 'depthError', 'magError', 'magNst', 'status', 'locationSource', 'magSource']\n",
      "LINE 1: ['2020-05-03T23:05:51.730Z', '33.4995', '-116.7885', '6.61', '0.75', 'ml', '33', '33', '0.07841', '0.24', 'ci', 'ci38478466', '2020-05-03T23:09:39.762Z', '10km NE of Aguanga, CA', 'earthquake', '0.29', '0.91', '0.102', '22', 'automatic', 'ci', 'ci']\n",
      "LINE 2: ['2020-05-03T22:48:46.593Z', '36.88150406', '-97.45597839', '5', '2.52', 'ml', '68', '108.4796371', '0.1322916746', '0.7309696306', 'ok', 'ok2020isma', '2020-05-03T22:53:06.561Z', '17km WNW of Blackwell, Oklahoma', 'earthquake', '1.862505627', '', '', '51', 'automatic', 'ok', 'ok']\n",
      "LINE 3: ['2020-05-03T22:29:11.580Z', '38.8233337', '-122.762001', '2.27', '0.56', 'md', '11', '194', '0.009433', '0.03', 'nc', 'nc73379895', '2020-05-03T22:43:03.590Z', '3km W of Cobb, CA', 'earthquake', '0.45', '0.64', '', '1', 'automatic', 'nc', 'nc']\n",
      "LINE 4: ['2020-05-03T22:21:30.078Z', '60.1142', '-152.591', '88.1', '1.7', 'ml', '', '', '', '0.46', 'ak', 'ak0205pfv4wn', '2020-05-03T22:32:08.651Z', '42km SSE of Redoubt Volcano, Alaska', 'earthquake', '', '0.5', '', '', 'automatic', 'ak', 'ak']\n",
      "LINE 5: ['2020-05-03T22:08:49.900Z', '34.0273333', '-118.2121667', '16.01', '1.37', 'ml', '27', '81', '0.07977', '0.22', 'ci', 'ci38478434', '2020-05-03T22:12:37.674Z', '4km W of East Los Angeles, CA', 'earthquake', '0.51', '0.73', '0.219', '32', 'automatic', 'ci', 'ci']\n"
     ]
    }
   ],
   "source": [
    "# The built-in enumerate() function can help us maintain a counter as we iterate\n",
    "import csv\n",
    "with open(\"earthquakes.csv\", \"r\") as csv_object:\n",
    "    csv_reader = csv.reader(csv_object)\n",
    "    for i, line in enumerate(csv_reader):       # enumerate() takes the iterable and yields: (counter, next value)\n",
    "        print(\"LINE {0}: {1}\".format(i, line))\n",
    "        if i == 5:\n",
    "            break"
   ]
  },
  {
   "cell_type": "code",
   "execution_count": 3,
   "metadata": {},
   "outputs": [
    {
     "data": {
      "text/plain": [
       "['time',\n",
       " 'latitude',\n",
       " 'longitude',\n",
       " 'depth',\n",
       " 'mag',\n",
       " 'magType',\n",
       " 'nst',\n",
       " 'gap',\n",
       " 'dmin',\n",
       " 'rms',\n",
       " 'net',\n",
       " 'id',\n",
       " 'updated',\n",
       " 'place',\n",
       " 'type',\n",
       " 'horizontalError',\n",
       " 'depthError',\n",
       " 'magError',\n",
       " 'magNst',\n",
       " 'status',\n",
       " 'locationSource',\n",
       " 'magSource']"
      ]
     },
     "execution_count": 3,
     "metadata": {},
     "output_type": "execute_result"
    }
   ],
   "source": [
    "import csv\n",
    "def get_csv_columns(csv_file):\n",
    "    with open(csv_file, \"r\") as csvObject:\n",
    "        csv_reader = csv.reader(csvObject)\n",
    "        titles = next(csv_reader)   \n",
    "        return titles\n",
    "    \n",
    "get_csv_columns(\"earthquakes.csv\")"
   ]
  },
  {
   "cell_type": "code",
   "execution_count": 12,
   "metadata": {},
   "outputs": [
    {
     "data": {
      "text/plain": [
       "4"
      ]
     },
     "execution_count": 12,
     "metadata": {},
     "output_type": "execute_result"
    }
   ],
   "source": [
    "def find_csv_column(csv_file, column_name):\n",
    "    with open(csv_file, \"r\") as csv_object:\n",
    "        csv_reader = csv.reader(csv_object)\n",
    "        titles = next(csv_reader)\n",
    "    if column_name not in titles:\n",
    "        return None\n",
    "    col_num = 0\n",
    "    while titles[col_num] != column_name:\n",
    "        col_num += 1\n",
    "    return col_num\n",
    "\n",
    "find_csv_column(\"earthquakes.csv\", \"mag\")"
   ]
  },
  {
   "cell_type": "code",
   "execution_count": 13,
   "metadata": {},
   "outputs": [],
   "source": [
    "# What happens if we ask for a column that doesn't exist?\n",
    "find_csv_column(\"earthquakes.csv\", \"DNE\")\n",
    "\n",
    "# You need to fix find_csv_column so that it doesn't crash when we try to find a column that doesn't exist"
   ]
  },
  {
   "cell_type": "code",
   "execution_count": 18,
   "metadata": {},
   "outputs": [
    {
     "name": "stdout",
     "output_type": "stream",
     "text": [
      "15524\n"
     ]
    },
    {
     "data": {
      "text/plain": [
       "[['2020-05-03T23:05:51.730Z',\n",
       "  '33.4995',\n",
       "  '-116.7885',\n",
       "  '6.61',\n",
       "  '0.75',\n",
       "  'ml',\n",
       "  '33',\n",
       "  '33',\n",
       "  '0.07841',\n",
       "  '0.24',\n",
       "  'ci',\n",
       "  'ci38478466',\n",
       "  '2020-05-03T23:09:39.762Z',\n",
       "  '10km NE of Aguanga, CA',\n",
       "  'earthquake',\n",
       "  '0.29',\n",
       "  '0.91',\n",
       "  '0.102',\n",
       "  '22',\n",
       "  'automatic',\n",
       "  'ci',\n",
       "  'ci'],\n",
       " ['2020-05-03T22:48:46.593Z',\n",
       "  '36.88150406',\n",
       "  '-97.45597839',\n",
       "  '5',\n",
       "  '2.52',\n",
       "  'ml',\n",
       "  '68',\n",
       "  '108.4796371',\n",
       "  '0.1322916746',\n",
       "  '0.7309696306',\n",
       "  'ok',\n",
       "  'ok2020isma',\n",
       "  '2020-05-03T22:53:06.561Z',\n",
       "  '17km WNW of Blackwell, Oklahoma',\n",
       "  'earthquake',\n",
       "  '1.862505627',\n",
       "  '',\n",
       "  '',\n",
       "  '51',\n",
       "  'automatic',\n",
       "  'ok',\n",
       "  'ok'],\n",
       " ['2020-05-03T22:29:11.580Z',\n",
       "  '38.8233337',\n",
       "  '-122.762001',\n",
       "  '2.27',\n",
       "  '0.56',\n",
       "  'md',\n",
       "  '11',\n",
       "  '194',\n",
       "  '0.009433',\n",
       "  '0.03',\n",
       "  'nc',\n",
       "  'nc73379895',\n",
       "  '2020-05-03T22:43:03.590Z',\n",
       "  '3km W of Cobb, CA',\n",
       "  'earthquake',\n",
       "  '0.45',\n",
       "  '0.64',\n",
       "  '',\n",
       "  '1',\n",
       "  'automatic',\n",
       "  'nc',\n",
       "  'nc'],\n",
       " ['2020-05-03T22:21:30.078Z',\n",
       "  '60.1142',\n",
       "  '-152.591',\n",
       "  '88.1',\n",
       "  '1.7',\n",
       "  'ml',\n",
       "  '',\n",
       "  '',\n",
       "  '',\n",
       "  '0.46',\n",
       "  'ak',\n",
       "  'ak0205pfv4wn',\n",
       "  '2020-05-03T22:32:08.651Z',\n",
       "  '42km SSE of Redoubt Volcano, Alaska',\n",
       "  'earthquake',\n",
       "  '',\n",
       "  '0.5',\n",
       "  '',\n",
       "  '',\n",
       "  'automatic',\n",
       "  'ak',\n",
       "  'ak'],\n",
       " ['2020-05-03T22:08:49.900Z',\n",
       "  '34.0273333',\n",
       "  '-118.2121667',\n",
       "  '16.01',\n",
       "  '1.37',\n",
       "  'ml',\n",
       "  '27',\n",
       "  '81',\n",
       "  '0.07977',\n",
       "  '0.22',\n",
       "  'ci',\n",
       "  'ci38478434',\n",
       "  '2020-05-03T22:12:37.674Z',\n",
       "  '4km W of East Los Angeles, CA',\n",
       "  'earthquake',\n",
       "  '0.51',\n",
       "  '0.73',\n",
       "  '0.219',\n",
       "  '32',\n",
       "  'automatic',\n",
       "  'ci',\n",
       "  'ci'],\n",
       " ['2020-05-03T21:48:22.569Z',\n",
       "  '38.2328',\n",
       "  '-118.3554',\n",
       "  '5.9',\n",
       "  '1.3',\n",
       "  'ml',\n",
       "  '10',\n",
       "  '118.4',\n",
       "  '0.119',\n",
       "  '0.1567',\n",
       "  'nn',\n",
       "  'nn00724352',\n",
       "  '2020-05-03T22:22:09.000Z',\n",
       "  '40km SE of Hawthorne, Nevada',\n",
       "  'earthquake',\n",
       "  '',\n",
       "  '2.6',\n",
       "  '0.26',\n",
       "  '5',\n",
       "  'reviewed',\n",
       "  'nn',\n",
       "  'nn'],\n",
       " ['2020-05-03T21:47:12.040Z',\n",
       "  '33.4003333',\n",
       "  '-115.8938333',\n",
       "  '13.38',\n",
       "  '1.73',\n",
       "  'ml',\n",
       "  '9',\n",
       "  '188',\n",
       "  '0.3139',\n",
       "  '0.15',\n",
       "  'ci',\n",
       "  'ci38478426',\n",
       "  '2020-05-03T22:18:44.288Z',\n",
       "  '13km NNE of Salton City, CA',\n",
       "  'earthquake',\n",
       "  '1.57',\n",
       "  '2.25',\n",
       "  '0.125',\n",
       "  '9',\n",
       "  'automatic',\n",
       "  'ci',\n",
       "  'ci'],\n",
       " ['2020-05-03T21:45:40.280Z',\n",
       "  '34.2573318',\n",
       "  '-118.6064987',\n",
       "  '6.08',\n",
       "  '3.17',\n",
       "  'ml',\n",
       "  '93',\n",
       "  '26',\n",
       "  '0.04356',\n",
       "  '0.28',\n",
       "  'ci',\n",
       "  'ci38478418',\n",
       "  '2020-05-03T23:07:43.023Z',\n",
       "  '0km WNW of Chatsworth, CA',\n",
       "  'earthquake',\n",
       "  '0.24',\n",
       "  '0.64',\n",
       "  '0.316',\n",
       "  '20',\n",
       "  'automatic',\n",
       "  'ci',\n",
       "  'ci'],\n",
       " ['2020-05-03T21:44:22.140Z',\n",
       "  '33.2363333',\n",
       "  '-115.5888333',\n",
       "  '2.83',\n",
       "  '1.18',\n",
       "  'ml',\n",
       "  '10',\n",
       "  '158',\n",
       "  '0.06013',\n",
       "  '0.16',\n",
       "  'ci',\n",
       "  'ci38478410',\n",
       "  '2020-05-03T21:48:00.959Z',\n",
       "  '6km W of Niland, CA',\n",
       "  'earthquake',\n",
       "  '0.6',\n",
       "  '0.55',\n",
       "  '0.213',\n",
       "  '18',\n",
       "  'automatic',\n",
       "  'ci',\n",
       "  'ci'],\n",
       " ['2020-05-03T21:41:44.510Z',\n",
       "  '33.1958333',\n",
       "  '-115.5733333',\n",
       "  '2.73',\n",
       "  '1.95',\n",
       "  'ml',\n",
       "  '22',\n",
       "  '45',\n",
       "  '0.03993',\n",
       "  '0.2',\n",
       "  'ci',\n",
       "  'ci38478402',\n",
       "  '2020-05-03T21:45:30.942Z',\n",
       "  '7km SW of Niland, CA',\n",
       "  'earthquake',\n",
       "  '0.33',\n",
       "  '0.51',\n",
       "  '0.183',\n",
       "  '25',\n",
       "  'automatic',\n",
       "  'ci',\n",
       "  'ci']]"
      ]
     },
     "execution_count": 18,
     "metadata": {},
     "output_type": "execute_result"
    }
   ],
   "source": [
    "def get_csv_column(csv_file, column_name):\n",
    "\n",
    "    \n",
    "    \n",
    "    dataset = []\n",
    "    col_num = find_csv_column(csv_file, column_name)\n",
    "    with open(csv_file, \"r\") as csv_object:\n",
    "        csv_reader = csv.reader(csv_object)\n",
    "        titles = next(csv_reader)\n",
    "            \n",
    "        line = next(csv_reader, \"\")      # \"priming statement\" \n",
    "        while line != \"\":\n",
    "            dataset.append(line[col_num])\n",
    "            line = next(csv_reader, \"\")  # \"loop update statement\"            \n",
    "\n",
    "                \n",
    "        \n",
    "    return dataset\n",
    "\n",
    "magnitudes = get_csv_column(\"earthquakes.csv\", \"mag\")\n",
    "print(len(magnitudes))\n",
    "magnitudes[:10]"
   ]
  },
  {
   "cell_type": "code",
   "execution_count": 17,
   "metadata": {
    "scrolled": true
   },
   "outputs": [
    {
     "data": {
      "image/png": "[encoded data removed]",
      "text/plain": [
       "<Figure size 1080x360 with 1 Axes>"
      ]
     },
     "metadata": {
      "needs_background": "light"
     },
     "output_type": "display_data"
    }
   ],
   "source": [
    "import matplotlib.pyplot as plt\n",
    "\n",
    "def csv_histogram(csv_file, column_name):\n",
    "    \n",
    "    data = get_csv_column(csv_file, column_name)\n",
    "    plt.figure(figsize=(15,5))\n",
    "    n, bins, patches = plt.hist(data, bins=\"auto\", rwidth=0.8)\n",
    "    ticks = list(map(int, bins[::2]))\n",
    "    plt.xticks(ticks, ticks)\n",
    "    plt.title(\"{0}: field '{1}' ({2} records)\".format(csv_file, column_name, len(data)))\n",
    "    plt.show()\n",
    "    \n",
    "csv_histogram(\"earthquakes.csv\", \"mag\")"
   ]
  },
  {
   "cell_type": "code",
   "execution_count": null,
   "metadata": {},
   "outputs": [],
   "source": []
  },
  {
   "cell_type": "code",
   "execution_count": null,
   "metadata": {},
   "outputs": [],
   "source": []
  }
 ],
 "metadata": {
  "kernelspec": {
   "display_name": "Python 3",
   "language": "python",
   "name": "python3"
  },
  "language_info": {
   "codemirror_mode": {
    "name": "ipython",
    "version": 3
   },
   "file_extension": ".py",
   "mimetype": "text/x-python",
   "name": "python",
   "nbconvert_exporter": "python",
   "pygments_lexer": "ipython3",
   "version": "3.8.3"
  }
 },
 "nbformat": 4,
 "nbformat_minor": 4
}
