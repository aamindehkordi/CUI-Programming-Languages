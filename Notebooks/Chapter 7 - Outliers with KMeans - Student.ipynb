{
 "cells": [
  {
   "cell_type": "markdown",
   "metadata": {},
   "source": [
    "# Data Mining: Cluster Analysis\n",
    "\n",
    "Data Mining is the exploration, investigation, and analysis of data to find patterns and discover otherwise unknown relationships within the data. It usually invovles a combination of human intervention/intelligence and the use of any number of algorithms (many of them over and over again for a variety of different types of data).\n",
    "\n",
    "Many of these common alogorithms are also used for machine learning. But technically, data mining and machine learning are ***not*** the same thing. The difference is that data mining analyzes the data without making future predictions. Machine learning analyzes the data and then makes a prediction about what will happen in the future.\n",
    "\n",
    "For this chapter, we will be exploring Cluster Analysis and implementing the K-Means algorithms. Cluster Analysis is a type of problem that applies to both data mining and machine learning. K-Means is an algorithm that is used for data mining and machine learning. But we will be restricting our work to Data Mining."
   ]
  },
  {
   "cell_type": "code",
   "execution_count": 2,
   "metadata": {
    "scrolled": false
   },
   "outputs": [
    {
     "ename": "TypeError",
     "evalue": "CreateKMeansClusters() got an unexpected keyword argument 'inches'",
     "output_type": "error",
     "traceback": [
      "\u001b[1;31m---------------------------------------------------------------------------\u001b[0m",
      "\u001b[1;31mTypeError\u001b[0m                                 Traceback (most recent call last)",
      "\u001b[1;32m<ipython-input-2-b1a1b0548664>\u001b[0m in \u001b[0;36m<module>\u001b[1;34m\u001b[0m\n\u001b[0;32m      9\u001b[0m \u001b[1;33m\u001b[0m\u001b[0m\n\u001b[0;32m     10\u001b[0m \u001b[0mcolors\u001b[0m \u001b[1;33m=\u001b[0m \u001b[1;33m[\u001b[0m\u001b[1;34m\"royalblue\"\u001b[0m\u001b[1;33m,\u001b[0m \u001b[1;34m\"forestgreen\"\u001b[0m\u001b[1;33m,\u001b[0m \u001b[1;34m\"maroon\"\u001b[0m\u001b[1;33m]\u001b[0m\u001b[1;33m\u001b[0m\u001b[1;33m\u001b[0m\u001b[0m\n\u001b[1;32m---> 11\u001b[1;33m \u001b[0mcentroids\u001b[0m\u001b[1;33m,\u001b[0m \u001b[0mclusters\u001b[0m \u001b[1;33m=\u001b[0m \u001b[0mkmeans\u001b[0m\u001b[1;33m.\u001b[0m\u001b[0mCreateKMeansClusters\u001b[0m\u001b[1;33m(\u001b[0m\u001b[1;36m3\u001b[0m\u001b[1;33m,\u001b[0m \u001b[0mstudent_grades\u001b[0m\u001b[1;33m,\u001b[0m \u001b[0mcolors\u001b[0m\u001b[1;33m,\u001b[0m \u001b[1;34m\"Homework Scores\"\u001b[0m\u001b[1;33m,\u001b[0m \u001b[1;34m\"Final Exam Scores\"\u001b[0m\u001b[1;33m,\u001b[0m \u001b[0minches\u001b[0m\u001b[1;33m=\u001b[0m\u001b[1;36m7\u001b[0m\u001b[1;33m)\u001b[0m\u001b[1;33m\u001b[0m\u001b[1;33m\u001b[0m\u001b[0m\n\u001b[0m",
      "\u001b[1;31mTypeError\u001b[0m: CreateKMeansClusters() got an unexpected keyword argument 'inches'"
     ]
    }
   ],
   "source": [
    "import kmeans\n",
    "\n",
    "student_grades = {\"Alice\":(93, 88), \"Bob\":(55, 55), \"Charles\":(90, 87), \"Dave\":(63,57), \"Ellen\":(89,88), \n",
    "                  \"Frita\":(96,94), \"Grant\":(70,86), \"Heidi\":(98,96), \"Isabelle\":(86,94), \"Jack\":(88,94), \n",
    "                  \"Kate\":(60,86), \"Lisa\":(85,86), \"Mary\":(90,95), \"Nancy\":(63,58), \"Orville\":(88,61),\n",
    "                  \"Peter\":(95,58), \"Quinton\":(83,89), \"Ralph\":(57,65), \"Sally\":(67,65), \"Trent\":(62,62),\n",
    "                  \"Ursala\":(65,53), \"Violet\":(82,90), \"Wally\":(91,93), \"Xavier\":(81, 84), \"Yolanda\":(90, 63),\n",
    "                  \"Zack\":(85,56)}\n",
    "\n",
    "colors = [\"royalblue\", \"forestgreen\", \"maroon\"]\n",
    "centroids, clusters = kmeans.CreateKMeansClusters1(3, student_grades, colors, \"Homework Scores\", \"Final Exam Scores\", inches=7)"
   ]
  },
  {
   "cell_type": "code",
   "execution_count": null,
   "metadata": {},
   "outputs": [],
   "source": [
    "\n"
   ]
  },
  {
   "cell_type": "markdown",
   "metadata": {},
   "source": [
    "## Revisit K-Means to Add Outlier Removal"
   ]
  },
  {
   "cell_type": "code",
   "execution_count": null,
   "metadata": {},
   "outputs": [],
   "source": [
    "import statistics \n",
    "\n",
    "# Using interquartile range (IQR) for outlier detection\n",
    "# https://medium.com/analytics-vidhya/effect-of-outliers-on-k-means-algorithm-using-python-7ba85821ea23\n",
    "# We don't care about the lower threshold because that would mean that the datapoint is \n",
    "# exceptionally close to the centroid (good)... we only care about the upper threshold\n",
    "\n",
    "def GetIQROutlierThreshold(data, cluster_list, centroid_list):\n",
    "\n",
    "    # We need to a sorted list of all of the Euclidean Distances in this cluster\n",
    "    distances = []\n",
    "    for cluster, centroid in zip(cluster_list, centroid_list):\n",
    "        distances += [round(kmeans.EuclidDist(student_grades[key], centroid), 2) for key in cluster]\n",
    "    distances = sorted(distances)\n",
    "    \n",
    "    outlier_threshold = 0\n",
    "    \n",
    "    # Divide up the data into 1st-half / 2nd-half and then 1st-quarter / 3rd-quarter\n",
    "    # 1st-quarter is the median of the 1st-half data\n",
    "    # 3rd-quarter is the median of the 2nd-half data\n",
    "    # Interquartile Range is the difference between Q1 and Q3\n",
    "    # Return Q3 + (1.5 * IQR) as the threshold\n",
    "\n",
    "    \n",
    "    \n",
    "    return outlier_threshold\n",
    "\n",
    "outlier_threshold = GetIQROutlierThreshold(student_grades, clusters, centroids)\n",
    "outlier_threshold"
   ]
  },
  {
   "cell_type": "code",
   "execution_count": null,
   "metadata": {},
   "outputs": [],
   "source": [
    "def RemoveOutliersFromCluster(data, cluster, centroid, threshold):\n",
    "\n",
    "    keys_to_remove = []\n",
    "    \n",
    "    # Step through each cluster and check if a point's Euclidean Distance to the centroid\n",
    "    # is greater than our threshold value... if so, mark the point for removal\n",
    "    \n",
    "    # TODO: MARK POINTS FOR REMOVAL THAT ARE BEYOND THE OUTLIER THRESHOLD\n",
    "    \n",
    "\n",
    "    # Remove each of the outliers\n",
    "    for key in keys_to_remove:\n",
    "        cluster.remove(key)\n",
    "        \n",
    "    return keys_to_remove\n",
    "\n",
    "\n",
    "def RemoveOutliers(data, clusters, centroids, threshold):\n",
    "    \n",
    "    outliers = []\n",
    "    for cluster, centroid in zip(clusters, centroids):\n",
    "        outliers += RemoveOutliersFromCluster(data, cluster, centroid, threshold)\n",
    "        \n",
    "    clusters.append(outliers)\n",
    "    return outliers\n",
    "        \n",
    "RemoveOutliers(student_grades, clusters, centroids, outlier_threshold)"
   ]
  },
  {
   "cell_type": "code",
   "execution_count": null,
   "metadata": {},
   "outputs": [],
   "source": []
  },
  {
   "cell_type": "code",
   "execution_count": null,
   "metadata": {},
   "outputs": [],
   "source": [
    "import matplotlib.pyplot as plt\n",
    "\n",
    "def PlotClusters2Dv2(data, cluster_list, centroid_list, color_list, x_label=None, y_label=None, inches=5):\n",
    "      \n",
    "    plt.figure(figsize=(inches, inches))\n",
    "\n",
    "    centroid_colors = color_list.copy()\n",
    "    if len(cluster_list) > len(centroid_list):\n",
    "        color_list.append(\"silver\")    \n",
    "    \n",
    "    data_x = [data[item][0] for cluster in cluster_list for item in cluster]\n",
    "    data_y = [data[item][1] for cluster in cluster_list for item in cluster]\n",
    "    data_c = [color_list[i] for i, cluster in enumerate(cluster_list) for item in cluster]\n",
    "    plt.scatter(data_x, data_y, c=data_c) \n",
    "\n",
    "    centroids_x = [centroid[0] for centroid in centroid_list]\n",
    "    centroids_y = [centroid[1] for centroid in centroid_list]\n",
    "    centroids_c = centroid_colors\n",
    "    plt.scatter(centroids_x, centroids_y, c=centroids_c, s=[1000, 1000, 1000], alpha=0.3)    \n",
    "\n",
    "    plt.xlabel(x_label, fontsize=16, labelpad=15)\n",
    "    plt.ylabel(y_label, fontsize=16, labelpad=15)\n",
    "\n",
    "    plt.show()\n",
    "    return"
   ]
  },
  {
   "cell_type": "code",
   "execution_count": null,
   "metadata": {},
   "outputs": [],
   "source": []
  },
  {
   "cell_type": "code",
   "execution_count": null,
   "metadata": {},
   "outputs": [],
   "source": [
    "k = 3\n",
    "colors = [\"royalblue\", \"forestgreen\", \"maroon\"]\n",
    "PlotClusters2Dv2(student_grades, clusters, centroids, colors, \"Homework Scores\", \"Final Exam Scores\")"
   ]
  },
  {
   "cell_type": "code",
   "execution_count": null,
   "metadata": {},
   "outputs": [],
   "source": []
  }
 ],
 "metadata": {
  "kernelspec": {
   "display_name": "Python 3",
   "language": "python",
   "name": "python3"
  },
  "language_info": {
   "codemirror_mode": {
    "name": "ipython",
    "version": 3
   },
   "file_extension": ".py",
   "mimetype": "text/x-python",
   "name": "python",
   "nbconvert_exporter": "python",
   "pygments_lexer": "ipython3",
   "version": "3.8.3"
  }
 },
 "nbformat": 4,
 "nbformat_minor": 2
}
