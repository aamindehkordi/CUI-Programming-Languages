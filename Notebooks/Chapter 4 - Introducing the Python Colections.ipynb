{
 "cells": [
  {
   "cell_type": "markdown",
   "metadata": {},
   "source": [
    "# Introducing the Python Collections\n",
    "\n",
    "Data Science is one of those buzzwords that most people understand intuitively, but at the same time understand poorly. Basically, Data Science is the application of stastical algorithms and other analytics to a variety of scientific, consumer, and entertainment problems. A data scientist should have an excellent understanding of statistics, a solid programmer, and be sharp enough to learn about the specific field that he or she is studying.\n",
    "\n",
    "Python is an excellent language to study and practice Data Science. It has many freely available libraries that help in writing code for data mining, machine learning, and plotting. But at the foundation of all of these fancy algorithms is data storage and stastical analysis.\n",
    "\n",
    "The purpose of this chapter is to introduce Python ***lists***, ***dictionaries***, and ***tuples***. We'll use these to calculate statistics and generate histograms with the turtle module."
   ]
  },
  {
   "cell_type": "code",
   "execution_count": 19,
   "metadata": {},
   "outputs": [],
   "source": [
    "months = [(\"January\", 31), (\"February\", 28), (\"March\", 31),\n",
    "          (\"April\", 30), (\"May\", 31), (\"June\", 30),\n",
    "          (\"July\", 31), (\"August\", 31), (\"September\", 30),\n",
    "          (\"October\", 31), (\"November\", 30), (\"December\", 31)]"
   ]
  },
  {
   "cell_type": "code",
   "execution_count": 20,
   "metadata": {},
   "outputs": [
    {
     "data": {
      "text/plain": [
       "'April'"
      ]
     },
     "execution_count": 20,
     "metadata": {},
     "output_type": "execute_result"
    }
   ],
   "source": [
    "months[3][0]"
   ]
  },
  {
   "cell_type": "code",
   "execution_count": 21,
   "metadata": {},
   "outputs": [
    {
     "data": {
      "text/plain": [
       "30"
      ]
     },
     "execution_count": 21,
     "metadata": {},
     "output_type": "execute_result"
    }
   ],
   "source": [
    "months[3][1]"
   ]
  },
  {
   "cell_type": "markdown",
   "metadata": {},
   "source": [
    "## 4.2 What is Data?\n",
    "\n",
    "Starting on page 111\n",
    "\n",
    "By now, we're all familiar with the concept of data. Data is a set of related information that has been collected and organized. But data can take many forms. ***Raw data*** often needs to be ***groomed*** or ***cleaned-up*** before it can be used. Once we have manipulated data and placed into appropriate data structures, we can begin to analyze it.\n",
    "\n",
    "In this chapter we are going to be retrieving, analyzing, and reporting on worldwide earthquake data. If you've grown up in California, then you are probably somewhat used to the idea of the ground shaking. Those of you from other parts of the world may have never felt an earthquake. But it turns out that earthquakes are more common than you might think: worldwide there are between 10 and 50 earthquakes *per day*. it's just that most of these earthquakes are too small to feel and can only be detected with special monitoring equipment."
   ]
  },
  {
   "cell_type": "code",
   "execution_count": 22,
   "metadata": {},
   "outputs": [
    {
     "data": {
      "text/plain": [
       "[3, 'cat', 6.5, 2]"
      ]
     },
     "execution_count": 22,
     "metadata": {},
     "output_type": "execute_result"
    }
   ],
   "source": [
    "# You learned about arrays and Lists<T> in C#, python's equivalent is the list object\n",
    "# One of the key differences is that python lists allow you to store data of different types\n",
    "[3, \"cat\", 6.5, 2]"
   ]
  },
  {
   "cell_type": "markdown",
   "metadata": {},
   "source": [
    "## 4.3 Storing Data for Processing\n",
    "\n",
    "Starting on page 11\n",
    "\n",
    "Python lists are *very* similar to Python strings. The key differences: \n",
    "\n",
    "- Lists are non-homogenous (e.g., they can contain more than just characters)\n",
    "- Lists have some unique methods that aren't in strings and vice-versa\n",
    "- Lists are mutable whereas strings are immutable (i.e., list elements can be changed but strings cannot be) "
   ]
  },
  {
   "cell_type": "code",
   "execution_count": 23,
   "metadata": {},
   "outputs": [
    {
     "data": {
      "text/plain": [
       "[]"
      ]
     },
     "execution_count": 23,
     "metadata": {},
     "output_type": "execute_result"
    }
   ],
   "source": [
    "# Empty lists are given with the brackets\n",
    "[]"
   ]
  },
  {
   "cell_type": "code",
   "execution_count": 24,
   "metadata": {},
   "outputs": [
    {
     "name": "stdout",
     "output_type": "stream",
     "text": [
      "6.5\n"
     ]
    },
    {
     "data": {
      "text/plain": [
       "[3, 'cat', 6.5, 2, 'read', 7]"
      ]
     },
     "execution_count": 24,
     "metadata": {},
     "output_type": "execute_result"
    }
   ],
   "source": [
    "myList = [3, 'cat', 6.5, 2]\n",
    "print(myList[2])\n",
    "myList = myList + [\"read\", 7] # Concatinating two lists\n",
    "myList"
   ]
  },
  {
   "cell_type": "code",
   "execution_count": 25,
   "metadata": {},
   "outputs": [
    {
     "data": {
      "text/plain": [
       "[3, 'cat', 6.5, 2, 'read', 7, 3, 'cat', 6.5, 2, 'read', 7]"
      ]
     },
     "execution_count": 25,
     "metadata": {},
     "output_type": "execute_result"
    }
   ],
   "source": [
    "myList*2                     # Repeating a list two times"
   ]
  },
  {
   "cell_type": "code",
   "execution_count": 26,
   "metadata": {},
   "outputs": [
    {
     "name": "stdout",
     "output_type": "stream",
     "text": [
      "['cat', 6.5, 2]\n",
      "[]\n",
      "[6.5, 2, 'read', 7]\n"
     ]
    },
    {
     "data": {
      "text/plain": [
       "[3, 'cat', 6.5, 2, 'read', 7, 3.14159]"
      ]
     },
     "execution_count": 26,
     "metadata": {},
     "output_type": "execute_result"
    }
   ],
   "source": [
    "print(myList[1:-2])          # Slicing is similar to strings\n",
    "print(myList[-2:1])          # Slices will safely handle inverted indices\n",
    "print(myList[2:12345])       # Slices will safely detect the end of the list\n",
    "myList.append(3.14159)       # Appending an item to a list\n",
    "myList"
   ]
  },
  {
   "cell_type": "markdown",
   "metadata": {},
   "source": [
    "#### Lists are mutable but strings are not\n",
    "\n",
    "You need to become familiar with the term ***mutable***: it means that the data inside an object can be modified.\n",
    "\n",
    "Strings cannot be directly modified. Each time that you thought you were changing a string, you were actually creating a new string object. On the other hand, lists can be changed directly on a per-element basis."
   ]
  },
  {
   "cell_type": "code",
   "execution_count": 27,
   "metadata": {},
   "outputs": [
    {
     "ename": "TypeError",
     "evalue": "'str' object does not support item assignment",
     "output_type": "error",
     "traceback": [
      "\u001b[1;31m---------------------------------------------------------------------------\u001b[0m",
      "\u001b[1;31mTypeError\u001b[0m                                 Traceback (most recent call last)",
      "\u001b[1;32m<ipython-input-27-e11b0be14d70>\u001b[0m in \u001b[0;36m<module>\u001b[1;34m\u001b[0m\n\u001b[0;32m      1\u001b[0m \u001b[0ms\u001b[0m \u001b[1;33m=\u001b[0m \u001b[1;34m\"cat\"\u001b[0m\u001b[1;33m\u001b[0m\u001b[1;33m\u001b[0m\u001b[0m\n\u001b[1;32m----> 2\u001b[1;33m \u001b[0ms\u001b[0m\u001b[1;33m[\u001b[0m\u001b[1;36m0\u001b[0m\u001b[1;33m]\u001b[0m \u001b[1;33m=\u001b[0m \u001b[1;34m\"d\"\u001b[0m\u001b[1;33m\u001b[0m\u001b[1;33m\u001b[0m\u001b[0m\n\u001b[0m\u001b[0;32m      3\u001b[0m \u001b[0ms\u001b[0m\u001b[1;33m[\u001b[0m\u001b[1;36m1\u001b[0m\u001b[1;33m]\u001b[0m \u001b[1;33m=\u001b[0m \u001b[1;34m\"o\"\u001b[0m\u001b[1;33m\u001b[0m\u001b[1;33m\u001b[0m\u001b[0m\n\u001b[0;32m      4\u001b[0m \u001b[0ms\u001b[0m\u001b[1;33m[\u001b[0m\u001b[1;36m2\u001b[0m\u001b[1;33m]\u001b[0m \u001b[1;33m=\u001b[0m \u001b[1;34m\"g\"\u001b[0m\u001b[1;33m\u001b[0m\u001b[1;33m\u001b[0m\u001b[0m\n",
      "\u001b[1;31mTypeError\u001b[0m: 'str' object does not support item assignment"
     ]
    }
   ],
   "source": [
    "s = \"cat\"\n",
    "s[0] = \"d\"\n",
    "s[1] = \"o\"\n",
    "s[2] = \"g\""
   ]
  },
  {
   "cell_type": "code",
   "execution_count": 28,
   "metadata": {},
   "outputs": [
    {
     "data": {
      "text/plain": [
       "[3, 'dog', 6.5, 2, 'read', 7, 3.14159]"
      ]
     },
     "execution_count": 28,
     "metadata": {},
     "output_type": "execute_result"
    }
   ],
   "source": [
    "myList[1] = \"dog\"            # Mutating a list\n",
    "myList"
   ]
  },
  {
   "cell_type": "markdown",
   "metadata": {},
   "source": [
    "#### There are many different ways to create Lists\n",
    "\n",
    "Most of the lists we consider now use the list constructor `list()` or the list literal `[1, 2, 3]`. But there are also many methods that create and return lists."
   ]
  },
  {
   "cell_type": "code",
   "execution_count": 29,
   "metadata": {},
   "outputs": [
    {
     "data": {
      "text/plain": [
       "[True, True, False, True]"
      ]
     },
     "execution_count": 29,
     "metadata": {},
     "output_type": "execute_result"
    }
   ],
   "source": [
    "l = []\n",
    "l.append(True)\n",
    "l.append(True)\n",
    "l.append(False)\n",
    "l.append(True)\n",
    "l"
   ]
  },
  {
   "cell_type": "code",
   "execution_count": 30,
   "metadata": {},
   "outputs": [
    {
     "data": {
      "text/plain": [
       "['C', 'U', 'I', ' ', 'E', 'a', 'g', 'l', 'e', 's']"
      ]
     },
     "execution_count": 30,
     "metadata": {},
     "output_type": "execute_result"
    }
   ],
   "source": [
    "list(\"CUI Eagles\")"
   ]
  },
  {
   "cell_type": "code",
   "execution_count": 31,
   "metadata": {},
   "outputs": [
    {
     "data": {
      "text/plain": [
       "[0, 1, 2, 3, 4, 5, 6, 7, 8, 9]"
      ]
     },
     "execution_count": 31,
     "metadata": {},
     "output_type": "execute_result"
    }
   ],
   "source": [
    "list(range(10))"
   ]
  },
  {
   "cell_type": "code",
   "execution_count": 32,
   "metadata": {},
   "outputs": [
    {
     "data": {
      "text/plain": [
       "[100, 95, 90, 85, 80, 75, 70, 65, 60, 55, 50, 45, 40, 35, 30, 25, 20, 15, 10]"
      ]
     },
     "execution_count": 32,
     "metadata": {},
     "output_type": "execute_result"
    }
   ],
   "source": [
    "list(range(100, 5, -5))"
   ]
  },
  {
   "cell_type": "code",
   "execution_count": 33,
   "metadata": {},
   "outputs": [
    {
     "data": {
      "text/plain": [
       "['Las', 'Vegas', 'Raiders']"
      ]
     },
     "execution_count": 33,
     "metadata": {},
     "output_type": "execute_result"
    }
   ],
   "source": [
    "\"Las Vegas Raiders\".split(' ')"
   ]
  },
  {
   "cell_type": "markdown",
   "metadata": {},
   "source": [
    "#### How to make a queue from a list\n",
    "\n",
    "```\n",
    "myQueue.append(\"new item\")    # enqueues an item to the back of the list\n",
    "myQueue.pop(0)                # dequeues an item from the front of the list\n",
    "```"
   ]
  },
  {
   "cell_type": "code",
   "execution_count": 34,
   "metadata": {},
   "outputs": [
    {
     "data": {
      "text/plain": [
       "['first item', 'second item', 'third item']"
      ]
     },
     "execution_count": 34,
     "metadata": {},
     "output_type": "execute_result"
    }
   ],
   "source": [
    "queue = []\n",
    "queue.append(\"first item\")\n",
    "queue.append(\"second item\")\n",
    "queue.append(\"third item\")\n",
    "queue"
   ]
  },
  {
   "cell_type": "code",
   "execution_count": 35,
   "metadata": {},
   "outputs": [
    {
     "name": "stdout",
     "output_type": "stream",
     "text": [
      "first item\n",
      "second item\n",
      "third item\n"
     ]
    },
    {
     "data": {
      "text/plain": [
       "[]"
      ]
     },
     "execution_count": 35,
     "metadata": {},
     "output_type": "execute_result"
    }
   ],
   "source": [
    "print(queue.pop(0))  # 0 is the index we want to pop from\n",
    "print(queue.pop(0))\n",
    "print(queue.pop(0))\n",
    "queue"
   ]
  },
  {
   "cell_type": "markdown",
   "metadata": {},
   "source": [
    "#### How to make a stack from a list\n",
    "\n",
    "```\n",
    "myStack.append(\"new item\")   # pushes an item onto the back of the list\n",
    "myStack.pop()                # pops an item from the back of the list\n",
    "```"
   ]
  },
  {
   "cell_type": "code",
   "execution_count": 36,
   "metadata": {},
   "outputs": [
    {
     "data": {
      "text/plain": [
       "['first item', 'second item', 'third item']"
      ]
     },
     "execution_count": 36,
     "metadata": {},
     "output_type": "execute_result"
    }
   ],
   "source": [
    "stack = []\n",
    "stack.append(\"first item\")\n",
    "stack.append(\"second item\")\n",
    "stack.append(\"third item\")\n",
    "stack"
   ]
  },
  {
   "cell_type": "code",
   "execution_count": 37,
   "metadata": {},
   "outputs": [
    {
     "name": "stdout",
     "output_type": "stream",
     "text": [
      "third item\n",
      "second item\n",
      "first item\n"
     ]
    },
    {
     "data": {
      "text/plain": [
       "[]"
      ]
     },
     "execution_count": 37,
     "metadata": {},
     "output_type": "execute_result"
    }
   ],
   "source": [
    "print(stack.pop())\n",
    "print(stack.pop())\n",
    "print(stack.pop())\n",
    "stack"
   ]
  },
  {
   "cell_type": "markdown",
   "metadata": {},
   "source": [
    "#### Other important list functions"
   ]
  },
  {
   "cell_type": "code",
   "execution_count": 38,
   "metadata": {},
   "outputs": [
    {
     "data": {
      "text/plain": [
       "[1, 2, 'surprise!', 3, 4]"
      ]
     },
     "execution_count": 38,
     "metadata": {},
     "output_type": "execute_result"
    }
   ],
   "source": [
    "l = [1, 2, 3, 4]\n",
    "l.insert(2, \"surprise!\")\n",
    "l"
   ]
  },
  {
   "cell_type": "code",
   "execution_count": 39,
   "metadata": {},
   "outputs": [
    {
     "data": {
      "text/plain": [
       "[4, 3, 'surprise!', 2, 1]"
      ]
     },
     "execution_count": 39,
     "metadata": {},
     "output_type": "execute_result"
    }
   ],
   "source": [
    "l.reverse()\n",
    "l"
   ]
  },
  {
   "cell_type": "code",
   "execution_count": 40,
   "metadata": {},
   "outputs": [
    {
     "ename": "TypeError",
     "evalue": "'<' not supported between instances of 'str' and 'int'",
     "output_type": "error",
     "traceback": [
      "\u001b[1;31m---------------------------------------------------------------------------\u001b[0m",
      "\u001b[1;31mTypeError\u001b[0m                                 Traceback (most recent call last)",
      "\u001b[1;32m<ipython-input-40-138e63d559fe>\u001b[0m in \u001b[0;36m<module>\u001b[1;34m\u001b[0m\n\u001b[1;32m----> 1\u001b[1;33m \u001b[0ml\u001b[0m\u001b[1;33m.\u001b[0m\u001b[0msort\u001b[0m\u001b[1;33m(\u001b[0m\u001b[1;33m)\u001b[0m\u001b[1;33m\u001b[0m\u001b[1;33m\u001b[0m\u001b[0m\n\u001b[0m\u001b[0;32m      2\u001b[0m \u001b[0ml\u001b[0m\u001b[1;33m\u001b[0m\u001b[1;33m\u001b[0m\u001b[0m\n",
      "\u001b[1;31mTypeError\u001b[0m: '<' not supported between instances of 'str' and 'int'"
     ]
    }
   ],
   "source": [
    "l.sort()\n",
    "l"
   ]
  },
  {
   "cell_type": "code",
   "execution_count": 41,
   "metadata": {},
   "outputs": [
    {
     "data": {
      "text/plain": [
       "[-25, -6, 3, 12, 17, 17, 92]"
      ]
     },
     "execution_count": 41,
     "metadata": {},
     "output_type": "execute_result"
    }
   ],
   "source": [
    "sortedList = [12, 17, -6, 92, 3, 17, -25]\n",
    "sortedList.sort()\n",
    "sortedList"
   ]
  },
  {
   "cell_type": "code",
   "execution_count": 42,
   "metadata": {},
   "outputs": [
    {
     "data": {
      "text/plain": [
       "2"
      ]
     },
     "execution_count": 42,
     "metadata": {},
     "output_type": "execute_result"
    }
   ],
   "source": [
    "sortedList.count(17)"
   ]
  },
  {
   "cell_type": "code",
   "execution_count": 43,
   "metadata": {},
   "outputs": [
    {
     "data": {
      "text/plain": [
       "7"
      ]
     },
     "execution_count": 43,
     "metadata": {},
     "output_type": "execute_result"
    }
   ],
   "source": [
    "len(sortedList)"
   ]
  },
  {
   "cell_type": "markdown",
   "metadata": {},
   "source": [
    "### Exercises\n",
    "\n",
    "Complete the exercises beginning on page 120:\n",
    "\n",
    "- 4.1\n",
    "- 4.2\n",
    "- 4.3\n",
    "- 4.4\n",
    "- 4.5\n"
   ]
  },
  {
   "cell_type": "code",
   "execution_count": null,
   "metadata": {},
   "outputs": [],
   "source": []
  },
  {
   "cell_type": "code",
   "execution_count": null,
   "metadata": {},
   "outputs": [],
   "source": []
  },
  {
   "cell_type": "code",
   "execution_count": null,
   "metadata": {},
   "outputs": [],
   "source": []
  },
  {
   "cell_type": "code",
   "execution_count": null,
   "metadata": {},
   "outputs": [],
   "source": []
  },
  {
   "cell_type": "code",
   "execution_count": null,
   "metadata": {},
   "outputs": [],
   "source": []
  },
  {
   "cell_type": "markdown",
   "metadata": {},
   "source": [
    "## 4.4 Calculating Statistics on Data\n",
    "\n",
    "Starting on page 121\n",
    "\n",
    "You've taken MTH 265 Intro to Statistics, right? We're going to start off easy and use the `statistics` module to compute the `mean`, `median`, `mode`, and `stdev`. But let's start even simpler with the `min`, `max`, and `sum` built-in functions."
   ]
  },
  {
   "cell_type": "code",
   "execution_count": 44,
   "metadata": {},
   "outputs": [],
   "source": [
    "# This is the number of earthquakes that occured on each day of the week Sunday, Monday, Tuesday, ...\n",
    "earthquakes = [37, 32, 46, 28, 37, 41, 31]"
   ]
  },
  {
   "cell_type": "code",
   "execution_count": 45,
   "metadata": {},
   "outputs": [
    {
     "data": {
      "text/plain": [
       "46"
      ]
     },
     "execution_count": 45,
     "metadata": {},
     "output_type": "execute_result"
    }
   ],
   "source": [
    "max(earthquakes)"
   ]
  },
  {
   "cell_type": "code",
   "execution_count": 46,
   "metadata": {},
   "outputs": [
    {
     "data": {
      "text/plain": [
       "28"
      ]
     },
     "execution_count": 46,
     "metadata": {},
     "output_type": "execute_result"
    }
   ],
   "source": [
    "min(earthquakes)"
   ]
  },
  {
   "cell_type": "code",
   "execution_count": 47,
   "metadata": {},
   "outputs": [
    {
     "data": {
      "text/plain": [
       "'u'"
      ]
     },
     "execution_count": 47,
     "metadata": {},
     "output_type": "execute_result"
    }
   ],
   "source": [
    "max(\"earthquakes\")"
   ]
  },
  {
   "cell_type": "code",
   "execution_count": 48,
   "metadata": {},
   "outputs": [
    {
     "data": {
      "text/plain": [
       "252"
      ]
     },
     "execution_count": 48,
     "metadata": {},
     "output_type": "execute_result"
    }
   ],
   "source": [
    "sum(earthquakes)"
   ]
  },
  {
   "cell_type": "code",
   "execution_count": 49,
   "metadata": {},
   "outputs": [
    {
     "ename": "TypeError",
     "evalue": "unsupported operand type(s) for +: 'int' and 'str'",
     "output_type": "error",
     "traceback": [
      "\u001b[1;31m---------------------------------------------------------------------------\u001b[0m",
      "\u001b[1;31mTypeError\u001b[0m                                 Traceback (most recent call last)",
      "\u001b[1;32m<ipython-input-49-d00c281e5386>\u001b[0m in \u001b[0;36m<module>\u001b[1;34m\u001b[0m\n\u001b[1;32m----> 1\u001b[1;33m \u001b[0msum\u001b[0m\u001b[1;33m(\u001b[0m\u001b[1;34m\"earthquakes\"\u001b[0m\u001b[1;33m)\u001b[0m\u001b[1;33m\u001b[0m\u001b[1;33m\u001b[0m\u001b[0m\n\u001b[0m",
      "\u001b[1;31mTypeError\u001b[0m: unsupported operand type(s) for +: 'int' and 'str'"
     ]
    }
   ],
   "source": [
    "sum(\"earthquakes\")"
   ]
  },
  {
   "cell_type": "code",
   "execution_count": 50,
   "metadata": {},
   "outputs": [
    {
     "name": "stdout",
     "output_type": "stream",
     "text": [
      "99\n"
     ]
    },
    {
     "data": {
      "text/plain": [
       "18"
      ]
     },
     "execution_count": 50,
     "metadata": {},
     "output_type": "execute_result"
    }
   ],
   "source": [
    "def getRange(mylist):\n",
    "    return max(mylist) - min(mylist)\n",
    "\n",
    "print(getRange([1, 100]))\n",
    "getRange(earthquakes)"
   ]
  },
  {
   "cell_type": "code",
   "execution_count": 51,
   "metadata": {},
   "outputs": [
    {
     "data": {
      "text/plain": [
       "5"
      ]
     },
     "execution_count": 51,
     "metadata": {},
     "output_type": "execute_result"
    }
   ],
   "source": [
    "# What if max() and min() did not exist?\n",
    "\n",
    "def getMax(mylist):\n",
    "    maxSoFar = mylist[0]\n",
    "    for value in mylist[1:]:\n",
    "        if value > maxSoFar:\n",
    "            maxSoFar = value\n",
    "    return maxSoFar\n",
    "\n",
    "getMax([1, 3, 5, 2, 4])"
   ]
  },
  {
   "cell_type": "code",
   "execution_count": 91,
   "metadata": {},
   "outputs": [
    {
     "data": {
      "text/plain": [
       "3.0"
      ]
     },
     "execution_count": 91,
     "metadata": {},
     "output_type": "execute_result"
    }
   ],
   "source": [
    "s\n",
    "\n",
    "getMean([1, 2, 3, 4, 5])"
   ]
  },
  {
   "cell_type": "code",
   "execution_count": 53,
   "metadata": {},
   "outputs": [
    {
     "data": {
      "text/plain": [
       "3"
      ]
     },
     "execution_count": 53,
     "metadata": {},
     "output_type": "execute_result"
    }
   ],
   "source": [
    "import statistics\n",
    "statistics.mean([1, 2, 3, 4, 5])"
   ]
  },
  {
   "cell_type": "code",
   "execution_count": 54,
   "metadata": {
    "scrolled": true
   },
   "outputs": [
    {
     "data": {
      "text/plain": [
       "19.5"
      ]
     },
     "execution_count": 54,
     "metadata": {},
     "output_type": "execute_result"
    }
   ],
   "source": [
    "statistics.median([22, 3, 49, 15, 17, 51])"
   ]
  },
  {
   "cell_type": "markdown",
   "metadata": {},
   "source": [
    "#### As a fun exercise, we're going to write our own code to calculate the median"
   ]
  },
  {
   "cell_type": "code",
   "execution_count": 55,
   "metadata": {
    "scrolled": true
   },
   "outputs": [
    {
     "ename": "NameError",
     "evalue": "name 'median' is not defined",
     "output_type": "error",
     "traceback": [
      "\u001b[1;31m---------------------------------------------------------------------------\u001b[0m",
      "\u001b[1;31mNameError\u001b[0m                                 Traceback (most recent call last)",
      "\u001b[1;32m<ipython-input-55-90622c17dda3>\u001b[0m in \u001b[0;36m<module>\u001b[1;34m\u001b[0m\n\u001b[0;32m      9\u001b[0m     \u001b[1;32mreturn\u001b[0m \u001b[0mmedian\u001b[0m\u001b[1;33m\u001b[0m\u001b[1;33m\u001b[0m\u001b[0m\n\u001b[0;32m     10\u001b[0m \u001b[1;33m\u001b[0m\u001b[0m\n\u001b[1;32m---> 11\u001b[1;33m \u001b[0mgetMedian\u001b[0m\u001b[1;33m(\u001b[0m\u001b[1;33m[\u001b[0m\u001b[1;36m22\u001b[0m\u001b[1;33m,\u001b[0m \u001b[1;36m3\u001b[0m\u001b[1;33m,\u001b[0m \u001b[1;36m49\u001b[0m\u001b[1;33m,\u001b[0m \u001b[1;36m15\u001b[0m\u001b[1;33m,\u001b[0m \u001b[1;36m17\u001b[0m\u001b[1;33m,\u001b[0m \u001b[1;36m51\u001b[0m\u001b[1;33m]\u001b[0m\u001b[1;33m)\u001b[0m\u001b[1;33m\u001b[0m\u001b[1;33m\u001b[0m\u001b[0m\n\u001b[0m",
      "\u001b[1;32m<ipython-input-55-90622c17dda3>\u001b[0m in \u001b[0;36mgetMedian\u001b[1;34m(mylist)\u001b[0m\n\u001b[0;32m      7\u001b[0m \u001b[1;32mdef\u001b[0m \u001b[0mgetMedian\u001b[0m\u001b[1;33m(\u001b[0m\u001b[0mmylist\u001b[0m\u001b[1;33m)\u001b[0m\u001b[1;33m:\u001b[0m\u001b[1;33m\u001b[0m\u001b[1;33m\u001b[0m\u001b[0m\n\u001b[0;32m      8\u001b[0m \u001b[1;33m\u001b[0m\u001b[0m\n\u001b[1;32m----> 9\u001b[1;33m     \u001b[1;32mreturn\u001b[0m \u001b[0mmedian\u001b[0m\u001b[1;33m\u001b[0m\u001b[1;33m\u001b[0m\u001b[0m\n\u001b[0m\u001b[0;32m     10\u001b[0m \u001b[1;33m\u001b[0m\u001b[0m\n\u001b[0;32m     11\u001b[0m \u001b[0mgetMedian\u001b[0m\u001b[1;33m(\u001b[0m\u001b[1;33m[\u001b[0m\u001b[1;36m22\u001b[0m\u001b[1;33m,\u001b[0m \u001b[1;36m3\u001b[0m\u001b[1;33m,\u001b[0m \u001b[1;36m49\u001b[0m\u001b[1;33m,\u001b[0m \u001b[1;36m15\u001b[0m\u001b[1;33m,\u001b[0m \u001b[1;36m17\u001b[0m\u001b[1;33m,\u001b[0m \u001b[1;36m51\u001b[0m\u001b[1;33m]\u001b[0m\u001b[1;33m)\u001b[0m\u001b[1;33m\u001b[0m\u001b[1;33m\u001b[0m\u001b[0m\n",
      "\u001b[1;31mNameError\u001b[0m: name 'median' is not defined"
     ]
    }
   ],
   "source": [
    "# [22  3  49  15  17  51]\n",
    "#   0  1   2   3   4   5\n",
    "# len()      => 6\n",
    "# len() // 2 => 3\n",
    "# index #2 and #3 need to be averaged to find the median value\n",
    "\n",
    "def getMedian(mylist):\n",
    "\n",
    "    return median\n",
    "\n",
    "getMedian([22, 3, 49, 15, 17, 51])"
   ]
  },
  {
   "cell_type": "markdown",
   "metadata": {},
   "source": [
    "### Homework\n",
    "Exercises 4.3, 4.5, and your getMedian function are due as homework (yes, we probably did all of these problems in class). Make sure that getMedian works for lists with an even number of items and also for lists with an odd number of items. Submit through code through Blackboard. You can submit a python file, a jupyter notebook, or you can just cut-and-paste the python code into the submission window.\n",
    "\n",
    "## -- End of Day 1 --"
   ]
  },
  {
   "cell_type": "markdown",
   "metadata": {},
   "source": [
    "## Using Python Dictionaries\n",
    "\n",
    "Python Dictionaries are the same thing as a symbol table in C#. They help us to create data structures of key-value pairs. Your book introduces within section 4.5.3 on page 128 as a way to manually calculate the mode."
   ]
  },
  {
   "cell_type": "code",
   "execution_count": 56,
   "metadata": {},
   "outputs": [
    {
     "data": {
      "text/plain": [
       "{'David': 45, 'Brenda': 46}"
      ]
     },
     "execution_count": 56,
     "metadata": {},
     "output_type": "execute_result"
    }
   ],
   "source": [
    "ages = { 'David':45, 'Brenda':46 }\n",
    "ages"
   ]
  },
  {
   "cell_type": "code",
   "execution_count": 57,
   "metadata": {},
   "outputs": [
    {
     "data": {
      "text/plain": [
       "45"
      ]
     },
     "execution_count": 57,
     "metadata": {},
     "output_type": "execute_result"
    }
   ],
   "source": [
    "ages['David']"
   ]
  },
  {
   "cell_type": "code",
   "execution_count": 58,
   "metadata": {},
   "outputs": [
    {
     "data": {
      "text/plain": [
       "{'David': 45, 'Brenda': 46, 'Kelsey': 19}"
      ]
     },
     "execution_count": 58,
     "metadata": {},
     "output_type": "execute_result"
    }
   ],
   "source": [
    "ages['Kelsey'] = 19\n",
    "ages"
   ]
  },
  {
   "cell_type": "code",
   "execution_count": 59,
   "metadata": {},
   "outputs": [
    {
     "data": {
      "text/plain": [
       "5"
      ]
     },
     "execution_count": 59,
     "metadata": {},
     "output_type": "execute_result"
    }
   ],
   "source": [
    "ages['Hannah'] = 16\n",
    "ages['Rylea'] = 7\n",
    "len(ages)"
   ]
  },
  {
   "cell_type": "code",
   "execution_count": 60,
   "metadata": {},
   "outputs": [
    {
     "data": {
      "text/plain": [
       "46"
      ]
     },
     "execution_count": 60,
     "metadata": {},
     "output_type": "execute_result"
    }
   ],
   "source": [
    "ages['David'] = ages['David'] + 1\n",
    "ages['David']"
   ]
  },
  {
   "cell_type": "code",
   "execution_count": 61,
   "metadata": {
    "scrolled": true
   },
   "outputs": [
    {
     "data": {
      "text/plain": [
       "dict_keys(['David', 'Brenda', 'Kelsey', 'Hannah', 'Rylea'])"
      ]
     },
     "execution_count": 61,
     "metadata": {},
     "output_type": "execute_result"
    }
   ],
   "source": [
    "ages.keys()"
   ]
  },
  {
   "cell_type": "code",
   "execution_count": 62,
   "metadata": {},
   "outputs": [
    {
     "name": "stdout",
     "output_type": "stream",
     "text": [
      "David: 46\n",
      "Brenda: 46\n",
      "Kelsey: 19\n",
      "Hannah: 16\n",
      "Rylea: 7\n"
     ]
    }
   ],
   "source": [
    "for key in ages.keys():\n",
    "    print(\"{0}: {1}\".format(key, ages[key]))"
   ]
  },
  {
   "cell_type": "code",
   "execution_count": 63,
   "metadata": {},
   "outputs": [
    {
     "data": {
      "text/plain": [
       "['David', 'Brenda', 'Kelsey', 'Hannah', 'Rylea']"
      ]
     },
     "execution_count": 63,
     "metadata": {},
     "output_type": "execute_result"
    }
   ],
   "source": [
    "list(ages.keys())"
   ]
  },
  {
   "cell_type": "code",
   "execution_count": 64,
   "metadata": {},
   "outputs": [
    {
     "data": {
      "text/plain": [
       "['Brenda', 'David', 'Hannah', 'Kelsey', 'Rylea']"
      ]
     },
     "execution_count": 64,
     "metadata": {},
     "output_type": "execute_result"
    }
   ],
   "source": [
    "k = list(ages.keys())\n",
    "k.sort()\n",
    "k"
   ]
  },
  {
   "cell_type": "code",
   "execution_count": 65,
   "metadata": {},
   "outputs": [
    {
     "name": "stdout",
     "output_type": "stream",
     "text": [
      "Brenda: 46\n",
      "David: 46\n",
      "Hannah: 16\n",
      "Kelsey: 19\n",
      "Rylea: 7\n"
     ]
    }
   ],
   "source": [
    "for key in k:\n",
    "    print(\"{0}: {1}\".format(key, ages[key]))"
   ]
  },
  {
   "cell_type": "code",
   "execution_count": 66,
   "metadata": {},
   "outputs": [
    {
     "ename": "KeyError",
     "evalue": "'Sally'",
     "output_type": "error",
     "traceback": [
      "\u001b[1;31m---------------------------------------------------------------------------\u001b[0m",
      "\u001b[1;31mKeyError\u001b[0m                                  Traceback (most recent call last)",
      "\u001b[1;32m<ipython-input-66-76fb1e886b2d>\u001b[0m in \u001b[0;36m<module>\u001b[1;34m\u001b[0m\n\u001b[1;32m----> 1\u001b[1;33m \u001b[0mages\u001b[0m\u001b[1;33m[\u001b[0m\u001b[1;34m'Sally'\u001b[0m\u001b[1;33m]\u001b[0m\u001b[1;33m\u001b[0m\u001b[1;33m\u001b[0m\u001b[0m\n\u001b[0m",
      "\u001b[1;31mKeyError\u001b[0m: 'Sally'"
     ]
    }
   ],
   "source": [
    "ages['Sally']"
   ]
  },
  {
   "cell_type": "code",
   "execution_count": 67,
   "metadata": {},
   "outputs": [
    {
     "data": {
      "text/plain": [
       "'not found'"
      ]
     },
     "execution_count": 67,
     "metadata": {},
     "output_type": "execute_result"
    }
   ],
   "source": [
    "ages.get('Sally','not found')"
   ]
  },
  {
   "cell_type": "code",
   "execution_count": 68,
   "metadata": {
    "scrolled": true
   },
   "outputs": [
    {
     "data": {
      "text/plain": [
       "-1"
      ]
     },
     "execution_count": 68,
     "metadata": {},
     "output_type": "execute_result"
    }
   ],
   "source": [
    "ages.get('Sally', -1)"
   ]
  },
  {
   "cell_type": "code",
   "execution_count": 69,
   "metadata": {},
   "outputs": [
    {
     "data": {
      "text/plain": [
       "{'David': 46, 'Brenda': 46, 'Kelsey': 19, 'Hannah': 16, 'Rylea': 7}"
      ]
     },
     "execution_count": 69,
     "metadata": {},
     "output_type": "execute_result"
    }
   ],
   "source": [
    "ages\n"
   ]
  },
  {
   "cell_type": "code",
   "execution_count": 70,
   "metadata": {},
   "outputs": [
    {
     "name": "stdout",
     "output_type": "stream",
     "text": [
      "David's age is 46\n"
     ]
    }
   ],
   "source": [
    "if 'David' in ages:\n",
    "    print(\"David's age is\", ages['David'])"
   ]
  },
  {
   "cell_type": "code",
   "execution_count": 71,
   "metadata": {},
   "outputs": [
    {
     "data": {
      "text/plain": [
       "{'David': 46, 'Brenda': 46, 'Kelsey': 19, 'Hannah': 16}"
      ]
     },
     "execution_count": 71,
     "metadata": {},
     "output_type": "execute_result"
    }
   ],
   "source": [
    "del ages['Rylea']\n",
    "ages"
   ]
  },
  {
   "cell_type": "code",
   "execution_count": 72,
   "metadata": {},
   "outputs": [
    {
     "name": "stdout",
     "output_type": "stream",
     "text": [
      "('David', 46)\n",
      "('Brenda', 46)\n",
      "('Kelsey', 19)\n",
      "('Hannah', 16)\n"
     ]
    }
   ],
   "source": [
    "for item in ages.items():\n",
    "    print(item)"
   ]
  },
  {
   "cell_type": "markdown",
   "metadata": {},
   "source": [
    "#### Dictionaries cannot be accessed in any kind of sorted order\n",
    "\n",
    "But we an use the built-in python functions `sorted()` and `reversed()` to sort the keys in ascending/descending order and then access the dictionary through the result. Some of these functions require working on a list, which we can do pretty easily. "
   ]
  },
  {
   "cell_type": "code",
   "execution_count": 73,
   "metadata": {},
   "outputs": [
    {
     "name": "stdout",
     "output_type": "stream",
     "text": [
      "('Kelsey', 19)\n",
      "('Hannah', 16)\n",
      "('David', 46)\n",
      "('Brenda', 46)\n"
     ]
    }
   ],
   "source": [
    "# but what if we want to print in descending order?\n",
    "for name in reversed(sorted(list(ages.keys()))):\n",
    "    print(\"('{0}', {1})\".format(name, ages[name]))"
   ]
  },
  {
   "cell_type": "markdown",
   "metadata": {},
   "source": [
    "### Exercises\n",
    "\n",
    "Complete the exercises on page 133:\n",
    "\n",
    "- 4.24\n",
    "- 4.25\n",
    "- 4.26\n",
    "- 4.28\n",
    "- 4.30\n",
    "- 4.31"
   ]
  },
  {
   "cell_type": "code",
   "execution_count": null,
   "metadata": {},
   "outputs": [],
   "source": []
  },
  {
   "cell_type": "code",
   "execution_count": null,
   "metadata": {},
   "outputs": [],
   "source": []
  },
  {
   "cell_type": "code",
   "execution_count": null,
   "metadata": {},
   "outputs": [],
   "source": []
  },
  {
   "cell_type": "code",
   "execution_count": null,
   "metadata": {},
   "outputs": [],
   "source": []
  },
  {
   "cell_type": "code",
   "execution_count": null,
   "metadata": {},
   "outputs": [],
   "source": []
  },
  {
   "cell_type": "code",
   "execution_count": null,
   "metadata": {},
   "outputs": [],
   "source": []
  },
  {
   "cell_type": "markdown",
   "metadata": {},
   "source": [
    "#### Let's use dictionaries to compute the mode of our list of earthquakes\n",
    "\n",
    "We'll run through the list of earthquakes and create a new dictionary from the values. The key in our dictionary will be the number of earthquakes per day (e.g., the values from our list). The values in our dictionary will be the number of times we've encountered that number.\n",
    "\n",
    "We can use this dictionary to find the most common values in the original list (e.g., the mode)"
   ]
  },
  {
   "cell_type": "code",
   "execution_count": 74,
   "metadata": {},
   "outputs": [
    {
     "name": "stdout",
     "output_type": "stream",
     "text": [
      "[37, 32, 46, 28, 37, 41, 31]\n"
     ]
    },
    {
     "data": {
      "text/plain": [
       "37"
      ]
     },
     "execution_count": 74,
     "metadata": {},
     "output_type": "execute_result"
    }
   ],
   "source": [
    "import statistics\n",
    "print(earthquakes)\n",
    "statistics.mode(earthquakes)"
   ]
  },
  {
   "cell_type": "code",
   "execution_count": 75,
   "metadata": {},
   "outputs": [
    {
     "data": {
      "text/plain": [
       "[1, 2]"
      ]
     },
     "execution_count": 75,
     "metadata": {},
     "output_type": "execute_result"
    }
   ],
   "source": [
    "multiModeData = [1, 1, 4, 5, 6, 2, 2, 2, 4, 7, 1, 4, 6, 1, 2]\n",
    "statistics.multimode(multiModeData)"
   ]
  },
  {
   "cell_type": "code",
   "execution_count": null,
   "metadata": {},
   "outputs": [],
   "source": []
  },
  {
   "cell_type": "code",
   "execution_count": null,
   "metadata": {},
   "outputs": [],
   "source": []
  },
  {
   "cell_type": "code",
   "execution_count": null,
   "metadata": {},
   "outputs": [],
   "source": []
  },
  {
   "cell_type": "markdown",
   "metadata": {},
   "source": [
    "#### Let's use dictionaries to compute the mode of our list of earthquakes\n",
    "\n",
    "We'll run through the list of earthquakes and create a new dictionary from the values. The key in our dictionary will be the number of earthquakes per day (e.g., the values from our list). The values in our dictionary will be the number of times we've encountered that number.\n",
    "\n",
    "We can use this dictionary to find the most common values in the original list (e.g., the mode)"
   ]
  },
  {
   "cell_type": "code",
   "execution_count": 76,
   "metadata": {},
   "outputs": [],
   "source": [
    "def getListCounts(mylist):\n",
    "    counts = {}\n",
    "    \n",
    "    for item in mylist:\n",
    "        if item in counts:\n",
    "            counts[item] = counts[item] + 1\n",
    "        else:\n",
    "            counts[item] = 1\n",
    "        \n",
    "        # There's a tricky one-line alternative to do this:\n",
    "        #counts[item] = counts.get(item, 0) + 1\n",
    "        \n",
    "    return counts"
   ]
  },
  {
   "cell_type": "code",
   "execution_count": 77,
   "metadata": {},
   "outputs": [
    {
     "name": "stdout",
     "output_type": "stream",
     "text": [
      "[37, 32, 46, 28, 37, 41, 31]\n"
     ]
    },
    {
     "data": {
      "text/plain": [
       "{37: 2, 32: 1, 46: 1, 28: 1, 41: 1, 31: 1}"
      ]
     },
     "execution_count": 77,
     "metadata": {},
     "output_type": "execute_result"
    }
   ],
   "source": [
    "print(earthquakes)\n",
    "cd = getListCounts(earthquakes)\n",
    "cd"
   ]
  },
  {
   "cell_type": "code",
   "execution_count": 78,
   "metadata": {},
   "outputs": [
    {
     "data": {
      "text/plain": [
       "[37]"
      ]
     },
     "execution_count": 78,
     "metadata": {},
     "output_type": "execute_result"
    }
   ],
   "source": [
    "def getMode(mylist):\n",
    "    \n",
    "    counts = getListCounts(mylist)\n",
    "    \n",
    "    # Find the count of the most common element in the list\n",
    "    maxCount = max(counts.values())\n",
    "    \n",
    "    modeList = []\n",
    "    for item in counts:\n",
    "        if counts[item] == maxCount:\n",
    "            modeList.append(item)\n",
    "            \n",
    "    return modeList\n",
    "\n",
    "getMode(earthquakes)"
   ]
  },
  {
   "cell_type": "code",
   "execution_count": 79,
   "metadata": {},
   "outputs": [
    {
     "data": {
      "text/plain": [
       "[1, 2]"
      ]
     },
     "execution_count": 79,
     "metadata": {},
     "output_type": "execute_result"
    }
   ],
   "source": [
    "\n",
    "getMode(multiModeData)"
   ]
  },
  {
   "cell_type": "markdown",
   "metadata": {},
   "source": [
    "## 4.6 Frequency Distribution\n",
    "\n",
    "Starting on page 135\n",
    "\n",
    "We have now learned about many of the basic mathematical functions included in the statistics module and how to implement these functions ourselves. Let's turn our attention to some more advanced statistical analysis: computing a frequency distribution and then graphing the results.\n",
    "\n",
    "A frequency distribution can be shown as a two-column table. The left column lists each unique value from a dataset and the right column lists the number of times that frequency was present in the dataset. We have already created a dictionary that includes the frequency distribution--we did this while in the process of calculating the mode--but now we need to display that information in a way that is useful and pretty."
   ]
  },
  {
   "cell_type": "code",
   "execution_count": 80,
   "metadata": {},
   "outputs": [
    {
     "name": "stdout",
     "output_type": "stream",
     "text": [
      "ITEM FREQUENCY\n",
      "  28 1\n",
      "  31 1\n",
      "  32 1\n",
      "  37 2\n",
      "  41 1\n",
      "  46 1\n"
     ]
    }
   ],
   "source": [
    "def frequencyTable(mylist):\n",
    "    count = {}\n",
    "    for item in mylist:\n",
    "        count[item] = count.get(item, 0) + 1\n",
    "    \n",
    "    items = list(count.keys())\n",
    "    items.sort()\n",
    "    \n",
    "    columnWidth = max(longestString(mylist), len(\"ITEM\"))\n",
    "    print(\"ITEM\".rjust(columnWidth), \"FREQUENCY\")\n",
    "    for item in items:\n",
    "        print(str(item).rjust(columnWidth), count[item])\n",
    "    \n",
    "    return\n",
    "\n",
    "def longestString(mylist):\n",
    "    maxSoFar = -1\n",
    "    for item in mylist:\n",
    "        if len(str(item)) > maxSoFar:\n",
    "            maxSoFar = len(str(item))\n",
    "    return maxSoFar\n",
    "\n",
    "frequencyTable(earthquakes)"
   ]
  },
  {
   "cell_type": "markdown",
   "metadata": {},
   "source": [
    "#### The book shows an interesting alternative to calculate the frequency distribution on the fly\n",
    "\n",
    "This alternative method does not directly rely on having access to a dictionary object. Instead, it works off of a sorted list and two variables `prev` and `curr` that iterate through the sorted list.\n",
    "\n",
    "It's very important that the list is sorted because this means that all elements with the same value will be next to each other. So if `prev` and `curr` are both pointing to elements with the same value, then we know they are in the middle of such a group (similar values). But if `prev` and `curr` point to elements with different values, we know that we are transitioning from one group of values to another. See the diagram below:\n",
    "\n",
    "```\n",
    "  [ 2  2  4  4  4  5  6  6  8  8  8  8  9  ]\n",
    "       ^  ^                    ^  ^\n",
    "       |  |                    |  |\n",
    "    prev  curr              prev  curr\n",
    "   (different)              (the same)\n",
    "```\n",
    "At some point in time, `prev` and `curr` point to 2 and 4, respectively. This is a transition. Later on, they'll both point at 8. This is within a group. We can use these transitions to calculate the frequency distribution."
   ]
  },
  {
   "cell_type": "code",
   "execution_count": 81,
   "metadata": {},
   "outputs": [
    {
     "name": "stdout",
     "output_type": "stream",
     "text": [
      "ITEM FREQUENCY\n",
      "  28 1\n",
      "  31 1\n",
      "  32 1\n",
      "  37 2\n",
      "  41 1\n"
     ]
    }
   ],
   "source": [
    "def frequencyTableAlt(mylist):\n",
    "    allCounts = []\n",
    "    sortedList = mylist[:]\n",
    "    sortedList.sort()\n",
    "    \n",
    "    columnWidth = max(longestString(sortedList), len(\"ITEM\"))\n",
    "    print(\"ITEM\".rjust(columnWidth), \"FREQUENCY\")\n",
    "    \n",
    "    prev = sortedList[0]                  # start with the first item\n",
    "    itemCount = 0                         # must be 0 or the first item will be counted incorrectly\n",
    "    for curr in sortedList:               # curr and prev will both point to sortedList[0] the first time around...\n",
    "                                          #   ...but it's OK because itemCount was initialized to 0 \n",
    "        if prev == curr:                  # another item in the same group, increment the count\n",
    "            itemCount = itemCount + 1\n",
    "        else:                             # this is a new group of numbers, print the old one and then reset counter\n",
    "            print(str(prev).rjust(columnWidth), itemCount)\n",
    "            itemCount = 1    \n",
    "        prev = curr\n",
    "        \n",
    "frequencyTableAlt(earthquakes)"
   ]
  },
  {
   "cell_type": "markdown",
   "metadata": {},
   "source": [
    "#### Plotting histograms with Turtle\n",
    "\n",
    "The book would have us plot the histogram using `turtle`. We'll do that by writing a program that will run from the command line (because it will be good practice). But there are **much** better better python modules for creating graphs. So afterwards we'll come back here and see how to do it quickly with matplotlib.\n",
    "\n",
    "Head over to the command line to run the turtle programs"
   ]
  },
  {
   "cell_type": "code",
   "execution_count": 82,
   "metadata": {},
   "outputs": [],
   "source": [
    "import matplotlib.pyplot as plt\n",
    "%matplotlib inline"
   ]
  },
  {
   "cell_type": "code",
   "execution_count": 83,
   "metadata": {},
   "outputs": [
    {
     "data": {
      "image/png": "[encoded data removed]",
      "text/plain": [
       "<Figure size 432x288 with 1 Axes>"
      ]
     },
     "metadata": {
      "needs_background": "light"
     },
     "output_type": "display_data"
    }
   ],
   "source": [
    "# what does the number of bins have to do with it?\n",
    "plt.hist(earthquakes, width=0.5, bins=5)\n",
    "plt.ylabel('Count')\n",
    "plt.xlabel('Number of Earthquakes Per Day');\n",
    "plt.locator_params(axis='y', integer=True)\n",
    "plt.locator_params(axis='x', integer=True)"
   ]
  },
  {
   "cell_type": "code",
   "execution_count": 84,
   "metadata": {},
   "outputs": [
    {
     "data": {
      "text/plain": [
       "{37: 2, 32: 1, 46: 1, 28: 1, 41: 1, 31: 1}"
      ]
     },
     "execution_count": 84,
     "metadata": {},
     "output_type": "execute_result"
    }
   ],
   "source": [
    "freqCounts = getListCounts(earthquakes)\n",
    "freqCounts"
   ]
  },
  {
   "cell_type": "code",
   "execution_count": 85,
   "metadata": {},
   "outputs": [
    {
     "data": {
      "image/png": "[encoded data removed]",
      "text/plain": [
       "<Figure size 432x288 with 1 Axes>"
      ]
     },
     "metadata": {
      "needs_background": "light"
     },
     "output_type": "display_data"
    }
   ],
   "source": [
    "plt.bar(freqCounts.keys(), freqCounts.values())\n",
    "plt.locator_params(axis='y', integer=True)\n",
    "plt.locator_params(axis='x', integer=True)"
   ]
  },
  {
   "cell_type": "markdown",
   "metadata": {},
   "source": [
    "### Exercises\n",
    "\n",
    "Complete the exercise on page 138\n",
    "\n",
    "- 4.35"
   ]
  },
  {
   "cell_type": "code",
   "execution_count": null,
   "metadata": {},
   "outputs": [],
   "source": []
  },
  {
   "cell_type": "markdown",
   "metadata": {},
   "source": [
    "### Homework\n",
    "Exercises 4.31 and 4.35 are due as homework. Submit through code through Blackboard. You can submit a python file, a jupyter notebook, or you can just cut-and-paste the python code into the submission window.\n",
    "\n",
    "## -- End of Day 2 --"
   ]
  },
  {
   "cell_type": "markdown",
   "metadata": {},
   "source": [
    "## 4.7 Dispersion: Standard Deviation\n",
    "\n",
    "Starting on page 141\n",
    "\n",
    "If you think back to MTH265, you'll recall that standard deviation measures the level of dispersion in a data set. A small standard deviation means that the data is tightly clustered near the mean. A high standard deviation means that the data is spread out. The equation to calculate standard deviation is shown below:\n",
    "\n",
    "$$stdev = \\sqrt{\\frac{\\sum_{i=1}^n (x_i-\\overline{x})^2}{n-1}}$$"
   ]
  },
  {
   "cell_type": "code",
   "execution_count": null,
   "metadata": {},
   "outputs": [],
   "source": []
  },
  {
   "cell_type": "code",
   "execution_count": 86,
   "metadata": {},
   "outputs": [],
   "source": [
    "import math\n",
    "def getStandardDeviation(mylist):\n",
    "    avg = getMean(mylist)               \n",
    "    \n",
    "    total = 0\n",
    "    for item in mylist:\n",
    "        total = total + (item - avg) ** 2\n",
    "    \n",
    "    stdev = math.sqrt(total / (len(mylist) - 1))\n",
    "    return stdev"
   ]
  },
  {
   "cell_type": "code",
   "execution_count": 87,
   "metadata": {},
   "outputs": [
    {
     "data": {
      "text/plain": [
       "6.2182527020592095"
      ]
     },
     "execution_count": 87,
     "metadata": {},
     "output_type": "execute_result"
    }
   ],
   "source": [
    "getStandardDeviation(earthquakes)"
   ]
  },
  {
   "cell_type": "code",
   "execution_count": 88,
   "metadata": {},
   "outputs": [
    {
     "data": {
      "text/plain": [
       "4.0"
      ]
     },
     "execution_count": 88,
     "metadata": {},
     "output_type": "execute_result"
    }
   ],
   "source": [
    "getStandardDeviation([7,11,9,18,15,12])"
   ]
  },
  {
   "cell_type": "code",
   "execution_count": 89,
   "metadata": {},
   "outputs": [
    {
     "data": {
      "text/plain": [
       "6.2182527020592095"
      ]
     },
     "execution_count": 89,
     "metadata": {},
     "output_type": "execute_result"
    }
   ],
   "source": [
    "statistics.stdev(earthquakes)"
   ]
  },
  {
   "cell_type": "markdown",
   "metadata": {},
   "source": [
    "#### Quickly establishing a distribution of the data using the `statistics` module"
   ]
  },
  {
   "cell_type": "code",
   "execution_count": 90,
   "metadata": {},
   "outputs": [
    {
     "name": "stdout",
     "output_type": "stream",
     "text": [
      "[37, 32, 46, 28, 37, 41, 31]\n",
      "mean   36\n",
      "median 37\n",
      "mode   37\n",
      "stdev  6.2182527020592095\n"
     ]
    }
   ],
   "source": [
    "print(earthquakes)\n",
    "print(\"mean  \", statistics.mean(earthquakes))\n",
    "print(\"median\", statistics.median(earthquakes))\n",
    "print(\"mode  \", statistics.mode(earthquakes))\n",
    "print(\"stdev \", statistics.stdev(earthquakes))"
   ]
  },
  {
   "cell_type": "markdown",
   "metadata": {},
   "source": [
    "### Exercises\n",
    "\n",
    "Complete the exercises on page 143\n",
    "\n",
    "- 4.42\n",
    "- 4.43\n",
    "- 4.45"
   ]
  },
  {
   "cell_type": "code",
   "execution_count": null,
   "metadata": {},
   "outputs": [],
   "source": []
  },
  {
   "cell_type": "code",
   "execution_count": null,
   "metadata": {},
   "outputs": [],
   "source": []
  },
  {
   "cell_type": "code",
   "execution_count": null,
   "metadata": {},
   "outputs": [],
   "source": []
  },
  {
   "cell_type": "markdown",
   "metadata": {},
   "source": [
    "### Homework\n",
    "Exercise 4.45 is due as homework. Submit your code through Blackboard as a python file.\n",
    "\n",
    "## -- End of Day 3 --"
   ]
  },
  {
   "cell_type": "code",
   "execution_count": null,
   "metadata": {},
   "outputs": [],
   "source": []
  },
  {
   "attachments": {
    "linear_regression.png": {
     "image/png": "[encoded data removed]"
    }
   },
   "cell_type": "markdown",
   "metadata": {},
   "source": [
    "## Your Homework Project\n",
    "\n",
    "### Overview\n",
    "\n",
    "Create a function that takes a list of xy-tuples and plots them along with the best-fit linear regression line. Your program should draw the graph using the `turtle` module. In the picture below, the data points are drawn in blue and the linear regression line is shown in orange. You will need to calculate the linear regression line before you can plot it.\n",
    "\n",
    "![linear_regression.png](attachment:linear_regression.png)\n",
    "\n",
    "### Details\n",
    "\n",
    "The first step in your project is to create data points to plot. The points should be tuples that contain an x- and y-coordinate. Your data might look something like this, `test_data = [(1, 12), (3, 6), ..., (10, 7), (15, 9)]`, but should include approximately 100 data points (it would be much easier to generate your data randomly in a loop rather than typing out 100 xy-coordinates).\n",
    "\n",
    "Once you have created some test data, you need to plot it in `turtle`. I recommend that you plot the points using the `dot` function. Depending on the speed of your computer, it might take a while to draw 100 points. You might start by plotting only the first 10 points until you are confident that you program works correctly.\n",
    "\n",
    "Next up is to plot the linear regression line. The formula for calculating a linear regression is given in your book on page 144 (problem 4.2). You need to pay attention to the equation for slope `m`. As the book explains: $\\overline{x}$ is the mean of the x values, $\\overline{y}$ is the mean of the y values, and $n$ is the number of points. The summation is a mathematical notation, but you can iterate through each of the points $(x_i, y_i)$ using a simple for loop.\n",
    "\n",
    "$$m = \\frac{\\sum_{}x_iy_i-n\\overline{x}\\overline{y}}{\\sum_{}x_i^2-n\\overline{x}^2}$$\n",
    "\n",
    "Once you have calculated the slope of the linear regression, you just need to plot a line. With `turtle`, the line can be drawn by moving the pen to the first point, putting the pen down, then moving to the pen to the last point. How do you get the points? Use the general formula of a line, as given in the book:\n",
    "\n",
    "$$y = \\overline{y} + m(x - \\overline{x})$$\n",
    "\n",
    "Plug in the smallest value of $x$ that your plot can fit and find the corresponding y-value. This will be the coordinates of your first point. Then, do it again with the largest value of $x$ that your plot can hold. This will be the coordinates of your last point.\n",
    "\n",
    "Now you have plotted all of the points and drawn the linear regression line. Don't forget to draw an xy-axis on your plot. Also be sure to label the minimum and maximum values for x and y.\n",
    "\n",
    "### Grading\n",
    "\n",
    "This project is worth a total of 100 points and should be submitted through Blackboard. Scores will be assigned based on the following rubric:\n",
    "* 10 points for the correct name 2020_Fall_FirstLast_LinearRegression.py\n",
    "* 20 points for generating pseudo-random test data that is ***not*** in a line but can easily be fit to a regession line. If you're not quite sure what this means, look at the data points in the picture up above.\n",
    "* 20 points for correctly plotting the data points\n",
    "* 15 points for correctly calculating the slope of the linear regression line\n",
    "* 15 points for correctly plotting the linear regression line\n",
    "* 10 points for printing the minimum and maximum x- and y-values in the proper positions on your graph\n",
    "* 10 points for having nicely formatted and reasonably commented module"
   ]
  },
  {
   "cell_type": "code",
   "execution_count": null,
   "metadata": {},
   "outputs": [],
   "source": []
  }
 ],
 "metadata": {
  "kernelspec": {
   "display_name": "Python 3",
   "language": "python",
   "name": "python3"
  },
  "language_info": {
   "codemirror_mode": {
    "name": "ipython",
    "version": 3
   },
   "file_extension": ".py",
   "mimetype": "text/x-python",
   "name": "python",
   "nbconvert_exporter": "python",
   "pygments_lexer": "ipython3",
   "version": "3.8.3"
  }
 },
 "nbformat": 4,
 "nbformat_minor": 2
}
