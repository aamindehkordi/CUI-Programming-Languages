{
 "cells": [
  {
   "cell_type": "markdown",
   "metadata": {},
   "source": [
    "# CSC 314: Programming Languages\n",
    "\n",
    "## Midterm Study - Python\n",
    "\n",
    "Welcome to the CSC314 Programming Languages Midterm Study Guide. This test is meant to be similar to programming problems that you might encounter in a job interview. Most job interviews will account for your level of experience and the responsibilities of the position. There will probably be a few questions that are suprisingly easy (so easy that you begin to doubt whether you have misunderstood the question). There will also be a few questions that are may not be able to solve. This may indicate that you do not have enough experience for the job, or it may just mean that the interviewer is interested in seeing how your think and communicate under pressure.\n",
    "\n",
    "Most interview questions will either be whiteboard-based, where you have to answer the question live, on a whiteboard, without access to any resources or a compiler. Other interview tests will be a take-home problem that you have a short time to complete (e.g., 24-hours).\n",
    "\n",
    "### You should complete this study guide because you can use it as notes on the midterm.\n",
    "### If you do well on this study guide then you will do well on the midterm exam.\n",
    "### -------------------------------------------------------------------------------------------------------------------------------------------------------------------"
   ]
  },
  {
   "cell_type": "markdown",
   "metadata": {},
   "source": [
    "###  Question 1\n",
    "\n",
    "(10 points)\n",
    "\n",
    "Write a function that outputs the string representation of numbers from 1 to n.\n",
    "\n",
    "But for multiples of three it should output “Fizz” instead of the number and for the multiples of five output “Buzz”. For numbers which are multiples of both three and five output “FizzBuzz”.\n",
    "\n",
    "```\n",
    "1\n",
    "2\n",
    "Fizz\n",
    "4\n",
    "Buzz\n",
    "Fizz\n",
    "7\n",
    "8\n",
    "Fizz\n",
    "Buzz\n",
    "11\n",
    "Fizz\n",
    "13\n",
    "14\n",
    "FizzBuzz\n",
    "...\n",
    "```"
   ]
  },
  {
   "cell_type": "code",
   "execution_count": 6,
   "metadata": {},
   "outputs": [
    {
     "name": "stdout",
     "output_type": "stream",
     "text": [
      "FizzBuzz\n",
      "1\n",
      "2\n",
      "Fizz\n",
      "4\n",
      "Buzz\n",
      "Fizz\n",
      "7\n",
      "8\n",
      "Fizz\n",
      "Buzz\n",
      "11\n",
      "Fizz\n",
      "13\n",
      "14\n",
      "FizzBuzz\n",
      "16\n",
      "17\n",
      "Fizz\n",
      "19\n",
      "Buzz\n",
      "Fizz\n",
      "22\n",
      "23\n",
      "Fizz\n",
      "Buzz\n",
      "26\n",
      "Fizz\n",
      "28\n",
      "29\n"
     ]
    }
   ],
   "source": [
    "def fizz_buzz(maxx):\n",
    "    for i in range(maxx):\n",
    "        if i%3 == 0 and i%5 == 0:\n",
    "            print('FizzBuzz')\n",
    "        elif i%3 == 0:\n",
    "            print('Fizz')\n",
    "        elif i%5 == 0:\n",
    "            print('Buzz')\n",
    "        else:\n",
    "            print(i)\n",
    "fizz_buzz(30)"
   ]
  },
  {
   "cell_type": "markdown",
   "metadata": {},
   "source": [
    "### Question 2 \n",
    "(10 points)\n",
    "\n",
    "Fix the errors in the function below so that it runs properly. Hint: there is one syntax error (e.g., it won't run) and one logic error (e.g., it runs incorrectly). To solve the logic error you may need to insert some debugging statements so that you can see the value of `total` each iteration through the loop."
   ]
  },
  {
   "cell_type": "code",
   "execution_count": 1,
   "metadata": {},
   "outputs": [
    {
     "name": "stdout",
     "output_type": "stream",
     "text": [
      "27\n",
      "10000\n",
      "81\n"
     ]
    }
   ],
   "source": [
    "def math_pow(a, b):\n",
    "    i=1\n",
    "    total = a\n",
    "    while i<b:\n",
    "        total*=a\n",
    "        i+=1\n",
    "    return(total)\n",
    "    \n",
    "print(math_pow(3, 3))  # should be 8\n",
    "print(math_pow(10, 4)) # should be 10,000\n",
    "print(math_pow(3, 4))  # should be 81"
   ]
  },
  {
   "cell_type": "markdown",
   "metadata": {},
   "source": [
    "### Question 3\n",
    "\n",
    "Write an algorithm that will print a string in the reverse order. In this case, it should print the alphabet backwards. For this question, you will be scored on the quality of your code. If you have optimized your answer for certain situations, add a few comments explaining your decisions."
   ]
  },
  {
   "cell_type": "code",
   "execution_count": 40,
   "metadata": {},
   "outputs": [
    {
     "name": "stdout",
     "output_type": "stream",
     "text": [
      "zyxwvutsrqponmlkjihgfedcba\n"
     ]
    }
   ],
   "source": [
    "string = \"abcdefghijklmnopqrstuvwxyz\"\n",
    "s = ''\n",
    "for i in range(1,len(string)+1):\n",
    "    s+=string[-i]\n",
    "print(s)"
   ]
  },
  {
   "cell_type": "code",
   "execution_count": 41,
   "metadata": {},
   "outputs": [],
   "source": [
    "def backwards_string(string):\n",
    "    s = ''\n",
    "    for i in range(1,len(string)+1):\n",
    "        s+=string[-i]\n",
    "    return s"
   ]
  },
  {
   "cell_type": "markdown",
   "metadata": {},
   "source": [
    "### Question 4\n",
    "\n",
    "(10 points)\n",
    "\n",
    "Write a function that will determine if a string is a palindrome. Remember, a palindrome is a word that can be written the same forwards and backwards. Your function should return True or False. It should work with as many different types of strings as possible."
   ]
  },
  {
   "cell_type": "code",
   "execution_count": 42,
   "metadata": {},
   "outputs": [
    {
     "name": "stdout",
     "output_type": "stream",
     "text": [
      "True\n",
      "False\n"
     ]
    }
   ],
   "source": [
    "def palindrome(string):\n",
    "    if string == backwards_string(string):\n",
    "        return True\n",
    "    return False\n",
    "\n",
    "print(palindrome(\"hannah\")) # True\n",
    "print(palindrome(\"joshua\")) # False"
   ]
  },
  {
   "cell_type": "markdown",
   "metadata": {},
   "source": [
    "### Question 5\n",
    "\n",
    "(10 points)\n",
    "\n",
    "This question is in reference to the previous `palindrome(string)` function.\n",
    "\n",
    "1. What assumptions have you made about the input? \n",
    "* What, if any, shortcomings does your code have?\n",
    "\n",
    "Questions like this one are almost software-engineering tests to see if you are considering foreign languages, extremely long or otherwise strange input, shortcuts to improve performance, etc. Even if your code is perfect, it is worth explaining why your code accounts for these unexpected situations.\n",
    "\n",
    "This is not a programming problem, you should answer it with prose using jupyter markup."
   ]
  },
  {
   "cell_type": "markdown",
   "metadata": {},
   "source": [
    "1 all lowercase or uppercase input. no spaces. no suffixes.\n",
    "2 crashes if ^ is not the case"
   ]
  },
  {
   "attachments": {
    "fig1.png": {
     "image/png": "[encoded data removed]"
    },
    "fig2.png": {
     "image/png": "[encoded data removed]"
    }
   },
   "cell_type": "markdown",
   "metadata": {},
   "source": [
    "### Question 6\n",
    "\n",
    "(10 points)\n",
    "\n",
    "Write a function that calculates the Archimedes approximateion of $\\pi$ using a polygon with $n$ sides.\n",
    "\n",
    "If you've forgotten, the Archimedes approximation of $\\pi$ takes a polygon and breaks it up into a collection of triangles. And it's easy for us to calculate the length of a triangle's side using triganometry.\n",
    "\n",
    "![fig1.png](attachment:fig1.png)\n",
    "\n",
    "![fig2.png](attachment:fig2.png)\n",
    "\n",
    "So all that you need to do is to calculate the length of $s=2\\cdot h \\cdot \\sin(A)$ and then sum the number of triangles that make up the polygon. The more sides to our polygon, the closer we'll be to the true value of $\\pi$"
   ]
  },
  {
   "cell_type": "code",
   "execution_count": 44,
   "metadata": {},
   "outputs": [
    {
     "name": "stdout",
     "output_type": "stream",
     "text": [
      "Archimedes Approximation\n",
      "   3 sides is 2.598076211353316\n",
      "   4 sides is 2.8284271247461903\n",
      "   5 sides is 2.938926261462366\n",
      "   6 sides is 2.9999999999999996\n",
      "   7 sides is 3.037186173822907\n",
      "   8 sides is 3.0614674589207183\n",
      "   9 sides is 3.0781812899310186\n"
     ]
    }
   ],
   "source": [
    "import math\n",
    "def archimedesPi(numSides):\n",
    "    circleRadius = 1\n",
    "    innerAngleB = 360.0 / numSides\n",
    "    halfAngleA = innerAngleB / 2\n",
    "    oneHalfSideS = circleRadius * math.sin(math.radians(halfAngleA))\n",
    "    lengthSideS = oneHalfSideS * 2\n",
    "    \n",
    "    polygonCircumference = numSides * lengthSideS\n",
    "    pi = polygonCircumference / (2 * circleRadius)\n",
    "    return pi\n",
    "\n",
    "print(\"Archimedes Approximation\")\n",
    "for numSides in range(3, 10):\n",
    "    print(\"  \", numSides, \"sides is\", archimedesPi(numSides));\n",
    "    \n",
    "# 3 sides is 2.598076211353316\n",
    "# 4 sides is 2.8284271247461903\n",
    "# 5 sides is 2.938926261462366\n",
    "# 6 sides is 2.9999999999999996"
   ]
  },
  {
   "cell_type": "markdown",
   "metadata": {},
   "source": [
    "### Question 7\n",
    "\n",
    "(10 points)\n",
    "\n",
    "Still using the Archimedes Approximation of $\\pi$, how many sides are required for the Archimedes $\\pi$ to be within 0.000001 of the true value $\\pi$? This question should be answered in code, for example, your program might print out a message like:\n",
    "\n",
    "```\n",
    "\"A polygon with ___ sides is required for Archmides Approximation to be within 0.000001 of the accepted value of Pi\".\n",
    "```"
   ]
  },
  {
   "cell_type": "raw",
   "metadata": {},
   "source": [
    "1768\n",
    "2813"
   ]
  },
  {
   "cell_type": "code",
   "execution_count": 61,
   "metadata": {},
   "outputs": [
    {
     "name": "stdout",
     "output_type": "stream",
     "text": [
      "A polygon with 1770 sides is required for Archmides Approximation to be within 0.000001 of the accepted value of Pi\n"
     ]
    }
   ],
   "source": [
    "z = False\n",
    "arch = 0;\n",
    "numSides = 3\n",
    "pi = 3.141592\n",
    "while z==False:\n",
    "    if math.isclose(arch,pi,abs_tol=0.000001):\n",
    "        z = True\n",
    "    arch = archimedesPi(numSides)\n",
    "    numSides+=1\n",
    "print(\"A polygon with\",numSides,\"sides is required for Archmides Approximation to be within 0.000001 of the accepted value of Pi\")\n"
   ]
  },
  {
   "cell_type": "markdown",
   "metadata": {},
   "source": [
    "### Question 8\n",
    "\n",
    "Write a function that will determine if one string is contained within another. Explain any assumptions that you make as comments in the code."
   ]
  },
  {
   "cell_type": "code",
   "execution_count": 65,
   "metadata": {},
   "outputs": [
    {
     "data": {
      "text/plain": [
       "False"
      ]
     },
     "execution_count": 65,
     "metadata": {},
     "output_type": "execute_result"
    }
   ],
   "source": [
    "def substring(full_string, sub_string):\n",
    "    if full_string.find(sub_string) != -1:\n",
    "        return True\n",
    "    return False\n",
    "substring(\"frank sinatra\",'sins')"
   ]
  },
  {
   "cell_type": "markdown",
   "metadata": {},
   "source": [
    "### Question 9\n",
    "\n",
    "(10 points)\n",
    "\n",
    "Implement an algorithm to determine if a string has all unique letters. You may assume the string is in English and is encoded with UTF-8. Capitalization does not matter, so `a` and `A` should be considered the same letter. Punctuation and numbers do not matter. Are there any shortcuts that you can/should check for that might improve the speed of your algorithm?\n",
    "\n",
    "I have tried to write this question so that the requirements are stated clearly. In a job interview the question would be ambiguous and the interviewer would be expecting you to talk through some of these issues."
   ]
  },
  {
   "cell_type": "code",
   "execution_count": 2,
   "metadata": {},
   "outputs": [
    {
     "name": "stdout",
     "output_type": "stream",
     "text": [
      "True\n",
      "True\n",
      "False\n",
      "True\n",
      "False\n"
     ]
    }
   ],
   "source": [
    "alphabet = 'abcdefghijklmnopqrstuvwxyz'\n",
    "def isUnique(string):\n",
    "    for i in range(len(string)):\n",
    "        for j in range(i+1,len(string)):\n",
    "            if string[j] not in alphabet:\n",
    "                continue\n",
    "            if string[i].lower()==string[j].lower():\n",
    "                return False\n",
    "    return True\n",
    "\n",
    "print(isUnique(\"abcdefghijklmnopqrstuvwxyz\")) # True\n",
    "print(isUnique(\"aA\"))                         # False\n",
    "print(isUnique(\"hello\"))                      # False\n",
    "print(isUnique(\"11 abc 22\"))                  # True\n",
    "print(isUnique(\"11 abcdef ghijkl 22a\"))       # False"
   ]
  },
  {
   "cell_type": "markdown",
   "metadata": {},
   "source": [
    "### Question 10\n",
    "\n",
    "(10 points)\n",
    "\n",
    "Given two strings, determine if one is a permutation of the other. Remember, a permutation is a rearrangement of the original letters. All of the original letters are present, but in a different order. Are there any shortcuts that you can/should check for that might improve the speed of your algorithm?"
   ]
  },
  {
   "cell_type": "code",
   "execution_count": 82,
   "metadata": {},
   "outputs": [
    {
     "name": "stdout",
     "output_type": "stream",
     "text": [
      "True\n",
      "True\n",
      "False\n",
      "False\n"
     ]
    }
   ],
   "source": [
    "def isPermutation(string1, string2):\n",
    "    if len(string1)!=len(string2):\n",
    "        return False\n",
    "    for i in range(len(string1)):\n",
    "        if string2.find(string1[i])==-1:\n",
    "            return False\n",
    "    return True\n",
    "\n",
    "print(isPermutation(\"cat\", \"tac\"))   # True\n",
    "print(isPermutation(\"taco\", \"coat\")) # True\n",
    "print(isPermutation(\"rat\", \"cat\"))   # False\n",
    "print(isPermutation(\"abcd\", \"xyz\"))  # False"
   ]
  },
  {
   "cell_type": "code",
   "execution_count": null,
   "metadata": {},
   "outputs": [],
   "source": []
  }
 ],
 "metadata": {
  "kernelspec": {
   "display_name": "Python 3",
   "language": "python",
   "name": "python3"
  },
  "language_info": {
   "codemirror_mode": {
    "name": "ipython",
    "version": 3
   },
   "file_extension": ".py",
   "mimetype": "text/x-python",
   "name": "python",
   "nbconvert_exporter": "python",
   "pygments_lexer": "ipython3",
   "version": "3.8.3"
  }
 },
 "nbformat": 4,
 "nbformat_minor": 4
}
